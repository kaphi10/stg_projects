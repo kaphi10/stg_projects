{
 "cells": [
  {
   "cell_type": "markdown",
   "id": "85e0a048",
   "metadata": {},
   "source": [
    "#### Introduction\n",
    "The Loan eligibility/prediction data set is a popular data set used in machine learning and data analysis. The dataset contains information about loan applicants and whether they were approved or not for a loan.\n",
    "The data set include the following variable\n",
    "1. Loan ID: Unique identifier for each loan\n",
    "2. Gender: Gender of the applicant (Male/Female)\n",
    "3. Married: Marital status of the applicant (Yes/No)\n",
    "4. Dependents: Number of dependents the applicant has\n",
    "5. Education: Education level of the applicant (Graduate/Not Graduate)\n",
    "6. Self Employed: Whether the applicant is self-employed or not (Yes/No)\n",
    "7. Applicant Income: Income of the applicant\n",
    "8. Co-applicant Income: Income of the co-applicant\n",
    "9.  Loan Amount: Loan amount applied for\n",
    "10. Loan Amount Term: Term of the loan in months\n",
    "11. Credit History: Credit history of the applicant (1=Good, 0=Bad)\n",
    "12. Property Area: Location of the property (Rural/Semiurban/Urban)\n",
    "13. Loan Status: Whether the loan was approved or not (Y=Yes, N=No)\n",
    "\n",
    "#### Aims and Objectives\n",
    "1. To build a predictive model to determine whether a loan applicantion will be approve or not\n",
    "2. To build a model that best predict our target variable and get the accuracy of the model\n",
    "\n",
    ">The target variable is \"Loan Status\", which is a binary variable indicating whether the loan was approved or not. The other variables can be used as predictors in the model."
   ]
  },
  {
   "cell_type": "code",
   "execution_count": 320,
   "id": "9807c5e4",
   "metadata": {},
   "outputs": [],
   "source": [
    "import pandas as pd\n",
    "import numpy as np\n",
    "import matplotlib.pyplot as plt\n",
    "import seaborn as sb\n",
    "from sklearn.preprocessing import OneHotEncoder\n",
    "from sklearn.preprocessing import StandardScaler\n",
    "sb.set_style(\"darkgrid\")"
   ]
  },
  {
   "cell_type": "markdown",
   "id": "6f0744ed",
   "metadata": {},
   "source": [
    "1. load the dataset\n",
    "2. check for missing values and inconsistencies in data set\n",
    "3. Data Processing \n",
    ">Select the best feautures in the dataset\n",
    "\n",
    ">split data set into training and testing \n",
    "\n",
    "4. Normalization\n",
    "5. Fit the model\n",
    "6. Evaluating \n",
    "7. Fine tunning \n",
    "8. Predict the test data set"
   ]
  },
  {
   "cell_type": "markdown",
   "id": "483f5bc2",
   "metadata": {},
   "source": [
    "#### Load Dataset"
   ]
  },
  {
   "cell_type": "code",
   "execution_count": 321,
   "id": "9aa14f0b",
   "metadata": {},
   "outputs": [
    {
     "data": {
      "text/html": [
       "<div>\n",
       "<style scoped>\n",
       "    .dataframe tbody tr th:only-of-type {\n",
       "        vertical-align: middle;\n",
       "    }\n",
       "\n",
       "    .dataframe tbody tr th {\n",
       "        vertical-align: top;\n",
       "    }\n",
       "\n",
       "    .dataframe thead th {\n",
       "        text-align: right;\n",
       "    }\n",
       "</style>\n",
       "<table border=\"1\" class=\"dataframe\">\n",
       "  <thead>\n",
       "    <tr style=\"text-align: right;\">\n",
       "      <th></th>\n",
       "      <th>Loan_ID</th>\n",
       "      <th>Gender</th>\n",
       "      <th>Married</th>\n",
       "      <th>Dependents</th>\n",
       "      <th>Education</th>\n",
       "      <th>Self_Employed</th>\n",
       "      <th>ApplicantIncome</th>\n",
       "      <th>CoapplicantIncome</th>\n",
       "      <th>LoanAmount</th>\n",
       "      <th>Loan_Amount_Term</th>\n",
       "      <th>Credit_History</th>\n",
       "      <th>Property_Area</th>\n",
       "      <th>Loan_Status</th>\n",
       "    </tr>\n",
       "  </thead>\n",
       "  <tbody>\n",
       "    <tr>\n",
       "      <th>0</th>\n",
       "      <td>LP001002</td>\n",
       "      <td>Male</td>\n",
       "      <td>No</td>\n",
       "      <td>0</td>\n",
       "      <td>Graduate</td>\n",
       "      <td>No</td>\n",
       "      <td>5849</td>\n",
       "      <td>0.0</td>\n",
       "      <td>NaN</td>\n",
       "      <td>360.0</td>\n",
       "      <td>1.0</td>\n",
       "      <td>Urban</td>\n",
       "      <td>Y</td>\n",
       "    </tr>\n",
       "    <tr>\n",
       "      <th>1</th>\n",
       "      <td>LP001003</td>\n",
       "      <td>Male</td>\n",
       "      <td>Yes</td>\n",
       "      <td>1</td>\n",
       "      <td>Graduate</td>\n",
       "      <td>No</td>\n",
       "      <td>4583</td>\n",
       "      <td>1508.0</td>\n",
       "      <td>128.0</td>\n",
       "      <td>360.0</td>\n",
       "      <td>1.0</td>\n",
       "      <td>Rural</td>\n",
       "      <td>N</td>\n",
       "    </tr>\n",
       "    <tr>\n",
       "      <th>2</th>\n",
       "      <td>LP001005</td>\n",
       "      <td>Male</td>\n",
       "      <td>Yes</td>\n",
       "      <td>0</td>\n",
       "      <td>Graduate</td>\n",
       "      <td>Yes</td>\n",
       "      <td>3000</td>\n",
       "      <td>0.0</td>\n",
       "      <td>66.0</td>\n",
       "      <td>360.0</td>\n",
       "      <td>1.0</td>\n",
       "      <td>Urban</td>\n",
       "      <td>Y</td>\n",
       "    </tr>\n",
       "    <tr>\n",
       "      <th>3</th>\n",
       "      <td>LP001006</td>\n",
       "      <td>Male</td>\n",
       "      <td>Yes</td>\n",
       "      <td>0</td>\n",
       "      <td>Not Graduate</td>\n",
       "      <td>No</td>\n",
       "      <td>2583</td>\n",
       "      <td>2358.0</td>\n",
       "      <td>120.0</td>\n",
       "      <td>360.0</td>\n",
       "      <td>1.0</td>\n",
       "      <td>Urban</td>\n",
       "      <td>Y</td>\n",
       "    </tr>\n",
       "    <tr>\n",
       "      <th>4</th>\n",
       "      <td>LP001008</td>\n",
       "      <td>Male</td>\n",
       "      <td>No</td>\n",
       "      <td>0</td>\n",
       "      <td>Graduate</td>\n",
       "      <td>No</td>\n",
       "      <td>6000</td>\n",
       "      <td>0.0</td>\n",
       "      <td>141.0</td>\n",
       "      <td>360.0</td>\n",
       "      <td>1.0</td>\n",
       "      <td>Urban</td>\n",
       "      <td>Y</td>\n",
       "    </tr>\n",
       "  </tbody>\n",
       "</table>\n",
       "</div>"
      ],
      "text/plain": [
       "    Loan_ID Gender Married Dependents     Education Self_Employed  \\\n",
       "0  LP001002   Male      No          0      Graduate            No   \n",
       "1  LP001003   Male     Yes          1      Graduate            No   \n",
       "2  LP001005   Male     Yes          0      Graduate           Yes   \n",
       "3  LP001006   Male     Yes          0  Not Graduate            No   \n",
       "4  LP001008   Male      No          0      Graduate            No   \n",
       "\n",
       "   ApplicantIncome  CoapplicantIncome  LoanAmount  Loan_Amount_Term  \\\n",
       "0             5849                0.0         NaN             360.0   \n",
       "1             4583             1508.0       128.0             360.0   \n",
       "2             3000                0.0        66.0             360.0   \n",
       "3             2583             2358.0       120.0             360.0   \n",
       "4             6000                0.0       141.0             360.0   \n",
       "\n",
       "   Credit_History Property_Area Loan_Status  \n",
       "0             1.0         Urban           Y  \n",
       "1             1.0         Rural           N  \n",
       "2             1.0         Urban           Y  \n",
       "3             1.0         Urban           Y  \n",
       "4             1.0         Urban           Y  "
      ]
     },
     "execution_count": 321,
     "metadata": {},
     "output_type": "execute_result"
    }
   ],
   "source": [
    "#load Dataset\n",
    "loan_df=pd.read_csv('loan_data_set.csv')\n",
    "# ln_df=loan_df.copy()\n",
    "loan_df.head()"
   ]
  },
  {
   "cell_type": "code",
   "execution_count": 322,
   "id": "57742d84",
   "metadata": {},
   "outputs": [
    {
     "name": "stdout",
     "output_type": "stream",
     "text": [
      "<class 'pandas.core.frame.DataFrame'>\n",
      "RangeIndex: 614 entries, 0 to 613\n",
      "Data columns (total 13 columns):\n",
      " #   Column             Non-Null Count  Dtype  \n",
      "---  ------             --------------  -----  \n",
      " 0   Loan_ID            614 non-null    object \n",
      " 1   Gender             601 non-null    object \n",
      " 2   Married            611 non-null    object \n",
      " 3   Dependents         599 non-null    object \n",
      " 4   Education          614 non-null    object \n",
      " 5   Self_Employed      582 non-null    object \n",
      " 6   ApplicantIncome    614 non-null    int64  \n",
      " 7   CoapplicantIncome  614 non-null    float64\n",
      " 8   LoanAmount         592 non-null    float64\n",
      " 9   Loan_Amount_Term   600 non-null    float64\n",
      " 10  Credit_History     564 non-null    float64\n",
      " 11  Property_Area      614 non-null    object \n",
      " 12  Loan_Status        614 non-null    object \n",
      "dtypes: float64(4), int64(1), object(8)\n",
      "memory usage: 62.5+ KB\n"
     ]
    }
   ],
   "source": [
    "# assessing the data set\n",
    "loan_df.info()"
   ]
  },
  {
   "cell_type": "code",
   "execution_count": 323,
   "id": "7b7ff971",
   "metadata": {},
   "outputs": [
    {
     "data": {
      "text/plain": [
       "Loan_ID              0.000000\n",
       "Gender               2.117264\n",
       "Married              0.488599\n",
       "Dependents           2.442997\n",
       "Education            0.000000\n",
       "Self_Employed        5.211726\n",
       "ApplicantIncome      0.000000\n",
       "CoapplicantIncome    0.000000\n",
       "LoanAmount           3.583062\n",
       "Loan_Amount_Term     2.280130\n",
       "Credit_History       8.143322\n",
       "Property_Area        0.000000\n",
       "Loan_Status          0.000000\n",
       "dtype: float64"
      ]
     },
     "execution_count": 323,
     "metadata": {},
     "output_type": "execute_result"
    }
   ],
   "source": [
    "# check for percentage of null value\n",
    "loan_df.isna().sum()/len(loan_df)*100"
   ]
  },
  {
   "cell_type": "markdown",
   "id": "0b0bb26d",
   "metadata": {},
   "source": [
    "The Self_Employed and Credit_History columns has null value percentage greater than 5% "
   ]
  },
  {
   "cell_type": "markdown",
   "id": "3b129f80",
   "metadata": {},
   "source": [
    "#### Data Cleaning"
   ]
  },
  {
   "cell_type": "code",
   "execution_count": 324,
   "id": "feaa289c",
   "metadata": {},
   "outputs": [],
   "source": [
    "#solving null values\n",
    "for col in loan_df.columns:\n",
    "    if col is loan_df['Self_Employed']:# fill null with mode of the column\n",
    "        mode=loan_df[col].mode()\n",
    "        loan_df[col]=loan_df[col].fillna(mode)\n",
    "    elif col is loan_df['Credit_History']: # fill null with mean of the column\n",
    "        mean=loan_df[col].mean()\n",
    "        loan_df[col]=loan_df[col].fillna(mean)\n",
    "    else:\n",
    "        loan_df.dropna(inplace=True) # drop all null values with % less than 5"
   ]
  },
  {
   "cell_type": "code",
   "execution_count": 325,
   "id": "5d0a1e8c",
   "metadata": {},
   "outputs": [],
   "source": [
    "loan_df.drop(columns=['Loan_ID'], inplace=True)"
   ]
  },
  {
   "cell_type": "code",
   "execution_count": 326,
   "id": "33bf14ea",
   "metadata": {},
   "outputs": [],
   "source": [
    "# convert the target variable to numerical\n",
    "loan_df['Loan_Status']=loan_df['Loan_Status'].map({'N':0,'Y':1})"
   ]
  },
  {
   "cell_type": "code",
   "execution_count": 327,
   "id": "adfdb856",
   "metadata": {},
   "outputs": [
    {
     "data": {
      "text/plain": [
       "Index(['Gender', 'Married', 'Dependents', 'Education', 'Self_Employed',\n",
       "       'Property_Area'],\n",
       "      dtype='object')"
      ]
     },
     "execution_count": 327,
     "metadata": {},
     "output_type": "execute_result"
    }
   ],
   "source": [
    "cat_col=loan_df.select_dtypes('object').columns\n",
    "cat_col"
   ]
  },
  {
   "cell_type": "code",
   "execution_count": 328,
   "id": "e785d075",
   "metadata": {},
   "outputs": [],
   "source": [
    "# loan_df.drop(columns=['Loan_ID'], inplace=True)"
   ]
  },
  {
   "cell_type": "markdown",
   "id": "922d6d61",
   "metadata": {},
   "source": [
    "#### Exploratory Data Analysis(EDA)"
   ]
  },
  {
   "cell_type": "code",
   "execution_count": 329,
   "id": "16057882",
   "metadata": {},
   "outputs": [
    {
     "data": {
      "image/png": "[encoded data removed]",
      "text/plain": [
       "<Figure size 864x504 with 6 Axes>"
      ]
     },
     "metadata": {},
     "output_type": "display_data"
    }
   ],
   "source": [
    "loan_df.hist(figsize=(12,7));"
   ]
  },
  {
   "cell_type": "code",
   "execution_count": 330,
   "id": "52954403",
   "metadata": {},
   "outputs": [
    {
     "name": "stderr",
     "output_type": "stream",
     "text": [
      "C:\\Users\\HP\\AppData\\Local\\Temp\\ipykernel_6732\\2993579183.py:2: FutureWarning: Dropping of nuisance columns in DataFrame reductions (with 'numeric_only=None') is deprecated; in a future version this will raise TypeError.  Select only valid columns before calling the reduction.\n",
      "  loan_df.skew().sort_values(ascending=False)\n"
     ]
    },
    {
     "data": {
      "text/plain": [
       "ApplicantIncome      6.917027\n",
       "CoapplicantIncome    5.881622\n",
       "LoanAmount           2.361437\n",
       "Loan_Status         -0.832681\n",
       "Credit_History      -2.013253\n",
       "Loan_Amount_Term    -2.333710\n",
       "dtype: float64"
      ]
     },
     "execution_count": 330,
     "metadata": {},
     "output_type": "execute_result"
    }
   ],
   "source": [
    "# LET CHECK FOR SKEWS COLUMNS\n",
    "loan_df.skew().sort_values(ascending=False)"
   ]
  },
  {
   "cell_type": "code",
   "execution_count": 331,
   "id": "ce4bb3c1",
   "metadata": {},
   "outputs": [],
   "source": [
    "skew_col=['ApplicantIncome','CoapplicantIncome','LoanAmount'] # This three columns are skew in the data set"
   ]
  },
  {
   "cell_type": "code",
   "execution_count": 332,
   "id": "e0c917bd",
   "metadata": {},
   "outputs": [],
   "source": [
    "loan_df[skew_col]=np.log(loan_df[skew_col]+1) #apply np.log to normalize the columns"
   ]
  },
  {
   "cell_type": "code",
   "execution_count": 333,
   "id": "5abcd304",
   "metadata": {},
   "outputs": [],
   "source": [
    "# Check for outliers columns\n",
    "def outliers_check():\n",
    "    col_store=[]\n",
    "    \n",
    "    for col in loan_df.select_dtypes('number'):\n",
    "        q1=loan_df[col].quantile(.25)\n",
    "        q3=loan_df[col].quantile(.75)\n",
    "        \n",
    "        iqr=q3-q1\n",
    "        lower_out=(loan_df[col] < (q1-(1.5*iqr))).sum()\n",
    "        upper_out=(loan_df[col] > (q3 + (1.5 *iqr))).sum()\n",
    "        \n",
    "        if lower_out > 0 or upper_out >0:\n",
    "            col_store.append(col)\n",
    "    return col_store"
   ]
  },
  {
   "cell_type": "code",
   "execution_count": 334,
   "id": "d1d93452",
   "metadata": {},
   "outputs": [
    {
     "data": {
      "text/plain": [
       "['ApplicantIncome', 'LoanAmount', 'Loan_Amount_Term', 'Credit_History']"
      ]
     },
     "execution_count": 334,
     "metadata": {},
     "output_type": "execute_result"
    }
   ],
   "source": [
    "outlier_col=outliers_check()\n",
    "outlier_col"
   ]
  },
  {
   "cell_type": "code",
   "execution_count": 335,
   "id": "5213497b",
   "metadata": {},
   "outputs": [
    {
     "data": {
      "image/png": "[encoded data removed]",
      "text/plain": [
       "<Figure size 720x360 with 1 Axes>"
      ]
     },
     "metadata": {},
     "output_type": "display_data"
    }
   ],
   "source": [
    "plt.figure(figsize=(10,5))\n",
    "sb.boxplot(data=loan_df[outlier_col]);"
   ]
  },
  {
   "cell_type": "markdown",
   "id": "235151cd",
   "metadata": {},
   "source": [
    "'ApplicantIncome', 'LoanAmount', 'Loan_Amount_Term', 'Credit_History' are the columns that contain ouliers, Loan amount term happens to have highest number of outliers"
   ]
  },
  {
   "cell_type": "code",
   "execution_count": 336,
   "id": "1e9e3012",
   "metadata": {},
   "outputs": [
    {
     "data": {
      "image/png": "[encoded data removed]",
      "text/plain": [
       "<Figure size 864x504 with 2 Axes>"
      ]
     },
     "metadata": {},
     "output_type": "display_data"
    }
   ],
   "source": [
    "#let check for the relationship of other columns with the target variable\n",
    "plt.figure(figsize=(12,7))\n",
    "sb.heatmap(loan_df.corr(), cmap='coolwarm', annot=True);"
   ]
  },
  {
   "cell_type": "markdown",
   "id": "1915f9ad",
   "metadata": {},
   "source": [
    "From the figure above it is clearly seen that credit History contribute alot to the target variable with 0.53 correlation value"
   ]
  },
  {
   "cell_type": "markdown",
   "id": "976d0013",
   "metadata": {},
   "source": [
    "####  EDA Summary Report\n",
    "While performing the exploratory  data analysis, 'ApplicantIncome','CoapplicantIncome' and 'LoanAmount' columns are mostly skewed which is later nomalized with np.log function, The ouliers columns include 'ApplicantIncome', 'LoanAmount', 'Loan_Amount_Term', 'Credit_History', Loan amount term columns contains more outliers compare to the other three columns\n",
    "While checking for independent variable that mostly contribute to outcome of the terget variable credit history column play a vital role to determine whether a customer can access a loan or not"
   ]
  },
  {
   "cell_type": "markdown",
   "id": "80c267d1",
   "metadata": {},
   "source": [
    "### Data Preprocessing\n",
    "#### Selecting Best Features"
   ]
  },
  {
   "cell_type": "code",
   "execution_count": 337,
   "id": "7ad64c59",
   "metadata": {},
   "outputs": [],
   "source": [
    "#select numerical columns\n",
    "num_col=['ApplicantIncome','CoapplicantIncome','LoanAmount','Loan_Amount_Term','Credit_History']"
   ]
  },
  {
   "cell_type": "markdown",
   "id": "c59aab1f",
   "metadata": {},
   "source": [
    "let check all the variable that contribute to the target variable(both categorical and numerical)"
   ]
  },
  {
   "cell_type": "code",
   "execution_count": 338,
   "id": "501798be",
   "metadata": {},
   "outputs": [
    {
     "data": {
      "text/plain": [
       "['Credit_History',\n",
       " 'Property_Area_Semiurban',\n",
       " 'Married_Yes',\n",
       " 'Dependents_2',\n",
       " 'Education_Graduate',\n",
       " 'Gender_Male']"
      ]
     },
     "execution_count": 338,
     "metadata": {},
     "output_type": "execute_result"
    }
   ],
   "source": [
    "ln=pd.get_dummies(loan_df,cat_col)\n",
    "corr_col=ln.corr()['Loan_Status'].sort_values(ascending=False).index[1:7].to_list()\n",
    "corr_col"
   ]
  },
  {
   "cell_type": "markdown",
   "id": "c4c4f374",
   "metadata": {},
   "source": [
    "'Credit_History','Property_Area_Semiurban','Married_Yes','Dependents_2','Education_Graduate','Gender_Male' are the independent variable That greatly contribute to the target or dependent variable"
   ]
  },
  {
   "cell_type": "code",
   "execution_count": 339,
   "id": "8e02a683",
   "metadata": {},
   "outputs": [],
   "source": [
    "# change all cat columns to numerical\n",
    "loan_label=loan_df['Loan_Status'] # target variable\n",
    "ln_df=loan_df.copy()\n",
    "loan_df.drop('Loan_Status',axis=1, inplace=True)\n",
    "Data=loan_df.copy()"
   ]
  },
  {
   "cell_type": "code",
   "execution_count": 341,
   "id": "85c8b7c6",
   "metadata": {},
   "outputs": [],
   "source": [
    "# #convertig categorical columns to numerical variable for training \n",
    "# from sklearn.preprocessing import LabelEncoder, OneHotEncoder\n",
    "# label_encoder=LabelEncoder()\n",
    "# Data[cat_col]=Data[cat_col].apply(lambda col: label_encoder.fit_transform(col))\n",
    "\n",
    "# #load One HotEncoder\n",
    "# one_hot_en=OneHotEncoder()\n",
    "# array_hot_en=one_hot_en.fit_transform(Data[cat_col])\n",
    "# data_encoded= pd.DataFrame(array_hot_en,index=Data.index)\n",
    "# other_col=Data.drop(columns=cat_col)\n",
    "# data_df=pd.concat([data_encoded,other_col],axis=1)\n"
   ]
  },
  {
   "cell_type": "code",
   "execution_count": 342,
   "id": "5aa6ce34",
   "metadata": {},
   "outputs": [],
   "source": [
    "loan_df=pd.get_dummies(loan_df,cat_col)"
   ]
  },
  {
   "cell_type": "code",
   "execution_count": 343,
   "id": "eb427d14",
   "metadata": {},
   "outputs": [],
   "source": [
    "from sklearn.base import BaseEstimator, TransformerMixin\n",
    "from sklearn.preprocessing import StandardScaler"
   ]
  },
  {
   "cell_type": "markdown",
   "id": "2fd4bf37",
   "metadata": {},
   "source": [
    "##### This class object normalize and fit the dataset for better modeling"
   ]
  },
  {
   "cell_type": "code",
   "execution_count": 383,
   "id": "2d497db2",
   "metadata": {},
   "outputs": [],
   "source": [
    "class numerical_transform(BaseEstimator, TransformerMixin):\n",
    "    \n",
    "    def __init__(self,cat_col):\n",
    "        \n",
    "        self.cat_col=cat_col\n",
    "    \n",
    "    def fit(self, X, y=None):\n",
    "        return self\n",
    "    def transform(self, X, y=None):\n",
    "        \n",
    "        X=pd.get_dummies(X, self.cat_col)\n",
    "        return X"
   ]
  },
  {
   "cell_type": "code",
   "execution_count": 345,
   "id": "0f57658e",
   "metadata": {},
   "outputs": [],
   "source": [
    "class best_fit(BaseEstimator, TransformerMixin):\n",
    "    \n",
    "    def __init__(self, N1, N2):\n",
    "        self.N1=N1\n",
    "        self.N2=N2\n",
    "    \n",
    "    def fit(self, X, y=None):\n",
    "        return self\n",
    "    \n",
    "    def transform(self, X, y=None):\n",
    "        X[self.N1]=StandardScaler().fit_transform(X[self.N1])\n",
    "       \n",
    "        return X[self.N2]"
   ]
  },
  {
   "cell_type": "code",
   "execution_count": 346,
   "id": "1ac2c1dd",
   "metadata": {},
   "outputs": [],
   "source": [
    "first_transform=numerical_transform(cat_col)\n",
    "x=first_transform.transform(ln_df)"
   ]
  },
  {
   "cell_type": "code",
   "execution_count": 347,
   "id": "eb1fe827",
   "metadata": {},
   "outputs": [
    {
     "data": {
      "text/html": [
       "<div>\n",
       "<style scoped>\n",
       "    .dataframe tbody tr th:only-of-type {\n",
       "        vertical-align: middle;\n",
       "    }\n",
       "\n",
       "    .dataframe tbody tr th {\n",
       "        vertical-align: top;\n",
       "    }\n",
       "\n",
       "    .dataframe thead th {\n",
       "        text-align: right;\n",
       "    }\n",
       "</style>\n",
       "<table border=\"1\" class=\"dataframe\">\n",
       "  <thead>\n",
       "    <tr style=\"text-align: right;\">\n",
       "      <th></th>\n",
       "      <th>Credit_History</th>\n",
       "      <th>Property_Area_Semiurban</th>\n",
       "      <th>Married_Yes</th>\n",
       "      <th>Dependents_2</th>\n",
       "      <th>Education_Graduate</th>\n",
       "      <th>Gender_Male</th>\n",
       "    </tr>\n",
       "  </thead>\n",
       "  <tbody>\n",
       "    <tr>\n",
       "      <th>1</th>\n",
       "      <td>0.413197</td>\n",
       "      <td>0</td>\n",
       "      <td>1</td>\n",
       "      <td>0</td>\n",
       "      <td>1</td>\n",
       "      <td>1</td>\n",
       "    </tr>\n",
       "    <tr>\n",
       "      <th>2</th>\n",
       "      <td>0.413197</td>\n",
       "      <td>0</td>\n",
       "      <td>1</td>\n",
       "      <td>0</td>\n",
       "      <td>1</td>\n",
       "      <td>1</td>\n",
       "    </tr>\n",
       "    <tr>\n",
       "      <th>3</th>\n",
       "      <td>0.413197</td>\n",
       "      <td>0</td>\n",
       "      <td>1</td>\n",
       "      <td>0</td>\n",
       "      <td>0</td>\n",
       "      <td>1</td>\n",
       "    </tr>\n",
       "    <tr>\n",
       "      <th>4</th>\n",
       "      <td>0.413197</td>\n",
       "      <td>0</td>\n",
       "      <td>0</td>\n",
       "      <td>0</td>\n",
       "      <td>1</td>\n",
       "      <td>1</td>\n",
       "    </tr>\n",
       "    <tr>\n",
       "      <th>5</th>\n",
       "      <td>0.413197</td>\n",
       "      <td>0</td>\n",
       "      <td>1</td>\n",
       "      <td>1</td>\n",
       "      <td>1</td>\n",
       "      <td>1</td>\n",
       "    </tr>\n",
       "    <tr>\n",
       "      <th>...</th>\n",
       "      <td>...</td>\n",
       "      <td>...</td>\n",
       "      <td>...</td>\n",
       "      <td>...</td>\n",
       "      <td>...</td>\n",
       "      <td>...</td>\n",
       "    </tr>\n",
       "    <tr>\n",
       "      <th>609</th>\n",
       "      <td>0.413197</td>\n",
       "      <td>0</td>\n",
       "      <td>0</td>\n",
       "      <td>0</td>\n",
       "      <td>1</td>\n",
       "      <td>0</td>\n",
       "    </tr>\n",
       "    <tr>\n",
       "      <th>610</th>\n",
       "      <td>0.413197</td>\n",
       "      <td>0</td>\n",
       "      <td>1</td>\n",
       "      <td>0</td>\n",
       "      <td>1</td>\n",
       "      <td>1</td>\n",
       "    </tr>\n",
       "    <tr>\n",
       "      <th>611</th>\n",
       "      <td>0.413197</td>\n",
       "      <td>0</td>\n",
       "      <td>1</td>\n",
       "      <td>0</td>\n",
       "      <td>1</td>\n",
       "      <td>1</td>\n",
       "    </tr>\n",
       "    <tr>\n",
       "      <th>612</th>\n",
       "      <td>0.413197</td>\n",
       "      <td>0</td>\n",
       "      <td>1</td>\n",
       "      <td>1</td>\n",
       "      <td>1</td>\n",
       "      <td>1</td>\n",
       "    </tr>\n",
       "    <tr>\n",
       "      <th>613</th>\n",
       "      <td>-2.420153</td>\n",
       "      <td>1</td>\n",
       "      <td>0</td>\n",
       "      <td>0</td>\n",
       "      <td>1</td>\n",
       "      <td>0</td>\n",
       "    </tr>\n",
       "  </tbody>\n",
       "</table>\n",
       "<p>480 rows × 6 columns</p>\n",
       "</div>"
      ],
      "text/plain": [
       "     Credit_History  Property_Area_Semiurban  Married_Yes  Dependents_2  \\\n",
       "1          0.413197                        0            1             0   \n",
       "2          0.413197                        0            1             0   \n",
       "3          0.413197                        0            1             0   \n",
       "4          0.413197                        0            0             0   \n",
       "5          0.413197                        0            1             1   \n",
       "..              ...                      ...          ...           ...   \n",
       "609        0.413197                        0            0             0   \n",
       "610        0.413197                        0            1             0   \n",
       "611        0.413197                        0            1             0   \n",
       "612        0.413197                        0            1             1   \n",
       "613       -2.420153                        1            0             0   \n",
       "\n",
       "     Education_Graduate  Gender_Male  \n",
       "1                     1            1  \n",
       "2                     1            1  \n",
       "3                     0            1  \n",
       "4                     1            1  \n",
       "5                     1            1  \n",
       "..                  ...          ...  \n",
       "609                   1            0  \n",
       "610                   1            1  \n",
       "611                   1            1  \n",
       "612                   1            1  \n",
       "613                   1            0  \n",
       "\n",
       "[480 rows x 6 columns]"
      ]
     },
     "execution_count": 347,
     "metadata": {},
     "output_type": "execute_result"
    }
   ],
   "source": [
    "second_transform=best_fit(num_col,corr_col)\n",
    "best_fit_data=second_transform.fit_transform(x)\n",
    "best_fit_data"
   ]
  },
  {
   "cell_type": "code",
   "execution_count": 348,
   "id": "a134eae1",
   "metadata": {},
   "outputs": [],
   "source": [
    "# let build our pipeline"
   ]
  },
  {
   "cell_type": "code",
   "execution_count": 349,
   "id": "1e52432b",
   "metadata": {},
   "outputs": [],
   "source": [
    "from sklearn.pipeline import Pipeline"
   ]
  },
  {
   "cell_type": "code",
   "execution_count": 350,
   "id": "a705e33f",
   "metadata": {},
   "outputs": [],
   "source": [
    "pipeline_obj=Pipeline([('First_transform',numerical_transform(cat_col)), ('second_transform',best_fit(num_col,corr_col))])"
   ]
  },
  {
   "cell_type": "markdown",
   "id": "662eb81d",
   "metadata": {},
   "source": [
    "#### Split data set"
   ]
  },
  {
   "cell_type": "code",
   "execution_count": 352,
   "id": "3f428f93",
   "metadata": {},
   "outputs": [],
   "source": [
    "from sklearn.model_selection import train_test_split"
   ]
  },
  {
   "cell_type": "code",
   "execution_count": 353,
   "id": "6c51a14e",
   "metadata": {},
   "outputs": [],
   "source": [
    "X_train,X_test,Y_train,Y_test=train_test_split(Data, loan_label, random_state=True, test_size=.2, shuffle=True)"
   ]
  },
  {
   "cell_type": "code",
   "execution_count": 354,
   "id": "260bc3ab",
   "metadata": {},
   "outputs": [
    {
     "data": {
      "text/plain": [
       "((384, 11), (96, 11), (384,), (96,))"
      ]
     },
     "execution_count": 354,
     "metadata": {},
     "output_type": "execute_result"
    }
   ],
   "source": [
    "X_train.shape,X_test.shape,Y_train.shape,Y_test.shape"
   ]
  },
  {
   "cell_type": "code",
   "execution_count": 355,
   "id": "304df94d",
   "metadata": {},
   "outputs": [
    {
     "data": {
      "text/html": [
       "<div>\n",
       "<style scoped>\n",
       "    .dataframe tbody tr th:only-of-type {\n",
       "        vertical-align: middle;\n",
       "    }\n",
       "\n",
       "    .dataframe tbody tr th {\n",
       "        vertical-align: top;\n",
       "    }\n",
       "\n",
       "    .dataframe thead th {\n",
       "        text-align: right;\n",
       "    }\n",
       "</style>\n",
       "<table border=\"1\" class=\"dataframe\">\n",
       "  <thead>\n",
       "    <tr style=\"text-align: right;\">\n",
       "      <th></th>\n",
       "      <th>Gender</th>\n",
       "      <th>Married</th>\n",
       "      <th>Dependents</th>\n",
       "      <th>Education</th>\n",
       "      <th>Self_Employed</th>\n",
       "      <th>ApplicantIncome</th>\n",
       "      <th>CoapplicantIncome</th>\n",
       "      <th>LoanAmount</th>\n",
       "      <th>Loan_Amount_Term</th>\n",
       "      <th>Credit_History</th>\n",
       "      <th>Property_Area</th>\n",
       "    </tr>\n",
       "  </thead>\n",
       "  <tbody>\n",
       "    <tr>\n",
       "      <th>98</th>\n",
       "      <td>Male</td>\n",
       "      <td>Yes</td>\n",
       "      <td>0</td>\n",
       "      <td>Not Graduate</td>\n",
       "      <td>No</td>\n",
       "      <td>8.340217</td>\n",
       "      <td>0.000000</td>\n",
       "      <td>4.753590</td>\n",
       "      <td>180.0</td>\n",
       "      <td>1.0</td>\n",
       "      <td>Semiurban</td>\n",
       "    </tr>\n",
       "    <tr>\n",
       "      <th>306</th>\n",
       "      <td>Female</td>\n",
       "      <td>No</td>\n",
       "      <td>0</td>\n",
       "      <td>Graduate</td>\n",
       "      <td>No</td>\n",
       "      <td>8.232972</td>\n",
       "      <td>7.418781</td>\n",
       "      <td>4.912655</td>\n",
       "      <td>360.0</td>\n",
       "      <td>1.0</td>\n",
       "      <td>Rural</td>\n",
       "    </tr>\n",
       "    <tr>\n",
       "      <th>523</th>\n",
       "      <td>Male</td>\n",
       "      <td>Yes</td>\n",
       "      <td>2</td>\n",
       "      <td>Graduate</td>\n",
       "      <td>Yes</td>\n",
       "      <td>8.980801</td>\n",
       "      <td>8.877242</td>\n",
       "      <td>6.175867</td>\n",
       "      <td>360.0</td>\n",
       "      <td>1.0</td>\n",
       "      <td>Rural</td>\n",
       "    </tr>\n",
       "    <tr>\n",
       "      <th>521</th>\n",
       "      <td>Male</td>\n",
       "      <td>No</td>\n",
       "      <td>0</td>\n",
       "      <td>Graduate</td>\n",
       "      <td>No</td>\n",
       "      <td>7.824446</td>\n",
       "      <td>0.000000</td>\n",
       "      <td>4.025352</td>\n",
       "      <td>360.0</td>\n",
       "      <td>1.0</td>\n",
       "      <td>Semiurban</td>\n",
       "    </tr>\n",
       "    <tr>\n",
       "      <th>211</th>\n",
       "      <td>Male</td>\n",
       "      <td>Yes</td>\n",
       "      <td>3+</td>\n",
       "      <td>Graduate</td>\n",
       "      <td>No</td>\n",
       "      <td>8.140607</td>\n",
       "      <td>7.131699</td>\n",
       "      <td>4.859812</td>\n",
       "      <td>360.0</td>\n",
       "      <td>0.0</td>\n",
       "      <td>Semiurban</td>\n",
       "    </tr>\n",
       "    <tr>\n",
       "      <th>...</th>\n",
       "      <td>...</td>\n",
       "      <td>...</td>\n",
       "      <td>...</td>\n",
       "      <td>...</td>\n",
       "      <td>...</td>\n",
       "      <td>...</td>\n",
       "      <td>...</td>\n",
       "      <td>...</td>\n",
       "      <td>...</td>\n",
       "      <td>...</td>\n",
       "      <td>...</td>\n",
       "    </tr>\n",
       "    <tr>\n",
       "      <th>326</th>\n",
       "      <td>Male</td>\n",
       "      <td>No</td>\n",
       "      <td>0</td>\n",
       "      <td>Graduate</td>\n",
       "      <td>No</td>\n",
       "      <td>8.500657</td>\n",
       "      <td>0.000000</td>\n",
       "      <td>4.875197</td>\n",
       "      <td>360.0</td>\n",
       "      <td>0.0</td>\n",
       "      <td>Rural</td>\n",
       "    </tr>\n",
       "    <tr>\n",
       "      <th>91</th>\n",
       "      <td>Male</td>\n",
       "      <td>Yes</td>\n",
       "      <td>2</td>\n",
       "      <td>Graduate</td>\n",
       "      <td>No</td>\n",
       "      <td>8.740497</td>\n",
       "      <td>8.640295</td>\n",
       "      <td>5.241747</td>\n",
       "      <td>180.0</td>\n",
       "      <td>1.0</td>\n",
       "      <td>Semiurban</td>\n",
       "    </tr>\n",
       "    <tr>\n",
       "      <th>509</th>\n",
       "      <td>Female</td>\n",
       "      <td>No</td>\n",
       "      <td>1</td>\n",
       "      <td>Graduate</td>\n",
       "      <td>No</td>\n",
       "      <td>9.492733</td>\n",
       "      <td>0.000000</td>\n",
       "      <td>3.713572</td>\n",
       "      <td>360.0</td>\n",
       "      <td>1.0</td>\n",
       "      <td>Urban</td>\n",
       "    </tr>\n",
       "    <tr>\n",
       "      <th>297</th>\n",
       "      <td>Female</td>\n",
       "      <td>Yes</td>\n",
       "      <td>1</td>\n",
       "      <td>Graduate</td>\n",
       "      <td>No</td>\n",
       "      <td>8.448272</td>\n",
       "      <td>0.000000</td>\n",
       "      <td>4.912655</td>\n",
       "      <td>360.0</td>\n",
       "      <td>1.0</td>\n",
       "      <td>Urban</td>\n",
       "    </tr>\n",
       "    <tr>\n",
       "      <th>50</th>\n",
       "      <td>Female</td>\n",
       "      <td>Yes</td>\n",
       "      <td>0</td>\n",
       "      <td>Not Graduate</td>\n",
       "      <td>No</td>\n",
       "      <td>7.564757</td>\n",
       "      <td>7.405496</td>\n",
       "      <td>4.615121</td>\n",
       "      <td>360.0</td>\n",
       "      <td>1.0</td>\n",
       "      <td>Semiurban</td>\n",
       "    </tr>\n",
       "  </tbody>\n",
       "</table>\n",
       "<p>384 rows × 11 columns</p>\n",
       "</div>"
      ],
      "text/plain": [
       "     Gender Married Dependents     Education Self_Employed  ApplicantIncome  \\\n",
       "98     Male     Yes          0  Not Graduate            No         8.340217   \n",
       "306  Female      No          0      Graduate            No         8.232972   \n",
       "523    Male     Yes          2      Graduate           Yes         8.980801   \n",
       "521    Male      No          0      Graduate            No         7.824446   \n",
       "211    Male     Yes         3+      Graduate            No         8.140607   \n",
       "..      ...     ...        ...           ...           ...              ...   \n",
       "326    Male      No          0      Graduate            No         8.500657   \n",
       "91     Male     Yes          2      Graduate            No         8.740497   \n",
       "509  Female      No          1      Graduate            No         9.492733   \n",
       "297  Female     Yes          1      Graduate            No         8.448272   \n",
       "50   Female     Yes          0  Not Graduate            No         7.564757   \n",
       "\n",
       "     CoapplicantIncome  LoanAmount  Loan_Amount_Term  Credit_History  \\\n",
       "98            0.000000    4.753590             180.0             1.0   \n",
       "306           7.418781    4.912655             360.0             1.0   \n",
       "523           8.877242    6.175867             360.0             1.0   \n",
       "521           0.000000    4.025352             360.0             1.0   \n",
       "211           7.131699    4.859812             360.0             0.0   \n",
       "..                 ...         ...               ...             ...   \n",
       "326           0.000000    4.875197             360.0             0.0   \n",
       "91            8.640295    5.241747             180.0             1.0   \n",
       "509           0.000000    3.713572             360.0             1.0   \n",
       "297           0.000000    4.912655             360.0             1.0   \n",
       "50            7.405496    4.615121             360.0             1.0   \n",
       "\n",
       "    Property_Area  \n",
       "98      Semiurban  \n",
       "306         Rural  \n",
       "523         Rural  \n",
       "521     Semiurban  \n",
       "211     Semiurban  \n",
       "..            ...  \n",
       "326         Rural  \n",
       "91      Semiurban  \n",
       "509         Urban  \n",
       "297         Urban  \n",
       "50      Semiurban  \n",
       "\n",
       "[384 rows x 11 columns]"
      ]
     },
     "execution_count": 355,
     "metadata": {},
     "output_type": "execute_result"
    }
   ],
   "source": [
    "X_train"
   ]
  },
  {
   "cell_type": "code",
   "execution_count": 356,
   "id": "9246c87c",
   "metadata": {},
   "outputs": [],
   "source": [
    "transform_train=pipeline_obj.fit_transform(X_train)"
   ]
  },
  {
   "cell_type": "code",
   "execution_count": 357,
   "id": "a2cc16c5",
   "metadata": {},
   "outputs": [],
   "source": [
    "from sklearn.metrics import confusion_matrix\n",
    "from sklearn.metrics import classification_report\n",
    "from sklearn.metrics import accuracy_score"
   ]
  },
  {
   "cell_type": "code",
   "execution_count": 358,
   "id": "b81c3ea8",
   "metadata": {},
   "outputs": [],
   "source": [
    "from xgboost import XGBClassifier\n",
    "from sklearn.tree import DecisionTreeClassifier\n",
    "from sklearn.ensemble import RandomForestClassifier\n",
    "from sklearn.linear_model import LogisticRegression"
   ]
  },
  {
   "cell_type": "code",
   "execution_count": 359,
   "id": "6c018a10",
   "metadata": {},
   "outputs": [],
   "source": [
    "model=LogisticRegression()\n",
    "model.fit(transform_train,Y_train)\n",
    "first_ten_predict=model.predict(transform_train)\n",
    "\n",
    "#first_ten_predict"
   ]
  },
  {
   "cell_type": "code",
   "execution_count": 360,
   "id": "3f952fe8",
   "metadata": {},
   "outputs": [
    {
     "data": {
      "text/plain": [
       "0.8255208333333334"
      ]
     },
     "execution_count": 360,
     "metadata": {},
     "output_type": "execute_result"
    }
   ],
   "source": [
    "m1_train= accuracy_score(first_ten_predict,Y_train)\n",
    "m1_train"
   ]
  },
  {
   "cell_type": "code",
   "execution_count": 361,
   "id": "fc9f9bc9",
   "metadata": {},
   "outputs": [],
   "source": [
    "# predict for the test data"
   ]
  },
  {
   "cell_type": "code",
   "execution_count": 362,
   "id": "0637df45",
   "metadata": {},
   "outputs": [
    {
     "name": "stdout",
     "output_type": "stream",
     "text": [
      "              precision    recall  f1-score   support\n",
      "\n",
      "           0       0.90      0.27      0.42        33\n",
      "           1       0.72      0.98      0.83        63\n",
      "\n",
      "    accuracy                           0.74        96\n",
      "   macro avg       0.81      0.63      0.63        96\n",
      "weighted avg       0.78      0.74      0.69        96\n",
      "\n"
     ]
    }
   ],
   "source": [
    "transform_test=pipeline_obj.transform(X_test)\n",
    "first_ten_test_pre=model.predict(transform_test)\n",
    "#print prediction summary by target variable\n",
    "print(classification_report(Y_test,first_ten_test_pre))"
   ]
  },
  {
   "cell_type": "code",
   "execution_count": 363,
   "id": "cfc81801",
   "metadata": {},
   "outputs": [
    {
     "data": {
      "text/plain": [
       "array([[ 9, 24],\n",
       "       [ 1, 62]], dtype=int64)"
      ]
     },
     "execution_count": 363,
     "metadata": {},
     "output_type": "execute_result"
    }
   ],
   "source": [
    "c_m_l=confusion_matrix(y_true=Y_test, y_pred=first_ten_test_pre)\n",
    "c_m_l"
   ]
  },
  {
   "cell_type": "code",
   "execution_count": 364,
   "id": "5c732d19",
   "metadata": {},
   "outputs": [
    {
     "name": "stdout",
     "output_type": "stream",
     "text": [
      "Linear model is 74.0% accurate\n"
     ]
    }
   ],
   "source": [
    "m1_test= accuracy_score(first_ten_test_pre,Y_test)\n",
    "print(f'Linear model is {round(m1_test,2)*100}% accurate')"
   ]
  },
  {
   "cell_type": "markdown",
   "id": "6e29eca8",
   "metadata": {},
   "source": [
    "###### Observations\n",
    "The linear regression model is performing with 82% accuracy in the train data and 74% accuracy with the test data"
   ]
  },
  {
   "cell_type": "code",
   "execution_count": 365,
   "id": "240b3f03",
   "metadata": {},
   "outputs": [],
   "source": [
    "model2=DecisionTreeClassifier()\n",
    "model2.fit(transform_train,Y_train)\n",
    "decision_pre=model2.predict(transform_train)"
   ]
  },
  {
   "cell_type": "code",
   "execution_count": 366,
   "id": "5c6c9a23",
   "metadata": {},
   "outputs": [
    {
     "data": {
      "text/plain": [
       "0.8307291666666666"
      ]
     },
     "execution_count": 366,
     "metadata": {},
     "output_type": "execute_result"
    }
   ],
   "source": [
    "m2_train=accuracy_score(decision_pre,Y_train)\n",
    "m2_train"
   ]
  },
  {
   "cell_type": "code",
   "execution_count": 367,
   "id": "277d4caa",
   "metadata": {},
   "outputs": [
    {
     "name": "stdout",
     "output_type": "stream",
     "text": [
      "              precision    recall  f1-score   support\n",
      "\n",
      "           0       0.85      0.33      0.48        33\n",
      "           1       0.73      0.97      0.84        63\n",
      "\n",
      "    accuracy                           0.75        96\n",
      "   macro avg       0.79      0.65      0.66        96\n",
      "weighted avg       0.77      0.75      0.71        96\n",
      "\n",
      "The decison tree model is 75.0% accurate \n"
     ]
    }
   ],
   "source": [
    "decision_test=pipeline_obj.transform(X_test)\n",
    "predict_decision_test=model2.predict(decision_test)\n",
    "print(classification_report(Y_test, predict_decision_test))\n",
    "m2_test=accuracy_score(predict_decision_test, Y_test)\n",
    "print(f\"The decison tree model is {round(m2_test,2)*100}% accurate \")"
   ]
  },
  {
   "cell_type": "code",
   "execution_count": 368,
   "id": "52f71bf8",
   "metadata": {},
   "outputs": [
    {
     "data": {
      "text/plain": [
       "array([[11, 22],\n",
       "       [ 2, 61]], dtype=int64)"
      ]
     },
     "execution_count": 368,
     "metadata": {},
     "output_type": "execute_result"
    }
   ],
   "source": [
    "c_m_d=confusion_matrix(y_true=Y_test, y_pred=predict_decision_test)\n",
    "c_m_d"
   ]
  },
  {
   "cell_type": "markdown",
   "id": "3608b0fd",
   "metadata": {},
   "source": [
    "###### Observations\n",
    "The Decission Tree classifier model is performing with 83% accuracy in the train data and 75% accuracy with the test data"
   ]
  },
  {
   "cell_type": "code",
   "execution_count": 369,
   "id": "13bedec6",
   "metadata": {},
   "outputs": [],
   "source": [
    "model3=RandomForestClassifier()\n",
    "model3.fit(transform_train,Y_train)\n",
    "random_pre=model3.predict(transform_train)"
   ]
  },
  {
   "cell_type": "code",
   "execution_count": 370,
   "id": "a5541715",
   "metadata": {},
   "outputs": [
    {
     "data": {
      "text/plain": [
       "0.8307291666666666"
      ]
     },
     "execution_count": 370,
     "metadata": {},
     "output_type": "execute_result"
    }
   ],
   "source": [
    "m3_train=accuracy_score(random_pre,Y_train)\n",
    "m3_train"
   ]
  },
  {
   "cell_type": "code",
   "execution_count": 371,
   "id": "14489edd",
   "metadata": {},
   "outputs": [
    {
     "name": "stdout",
     "output_type": "stream",
     "text": [
      "              precision    recall  f1-score   support\n",
      "\n",
      "           0       0.82      0.27      0.41        33\n",
      "           1       0.72      0.97      0.82        63\n",
      "\n",
      "    accuracy                           0.73        96\n",
      "   macro avg       0.77      0.62      0.62        96\n",
      "weighted avg       0.75      0.73      0.68        96\n",
      "\n",
      "The Random forest model is 73.0% accurate\n"
     ]
    }
   ],
   "source": [
    "random_test=pipeline_obj.transform(X_test)\n",
    "predict_random_test=model3.predict(random_test)\n",
    "print(classification_report(Y_test[:100], predict_random_test))\n",
    "m3_test=accuracy_score(predict_random_test,Y_test)\n",
    "print(f\"The Random forest model is {round(m3_test,2)*100}% accurate\")"
   ]
  },
  {
   "cell_type": "code",
   "execution_count": 372,
   "id": "34d580b7",
   "metadata": {},
   "outputs": [
    {
     "data": {
      "text/plain": [
       "array([[ 9, 24],\n",
       "       [ 2, 61]], dtype=int64)"
      ]
     },
     "execution_count": 372,
     "metadata": {},
     "output_type": "execute_result"
    }
   ],
   "source": [
    "c_m_r=confusion_matrix(y_true=Y_test, y_pred=predict_random_test)\n",
    "c_m_r"
   ]
  },
  {
   "cell_type": "markdown",
   "id": "e74ddd27",
   "metadata": {},
   "source": [
    "###### Observations\n",
    "The Random Forest model is performing with 83% accuracy in the train data and 74% accuracy with the test data"
   ]
  },
  {
   "cell_type": "code",
   "execution_count": 373,
   "id": "2bc5cfac",
   "metadata": {},
   "outputs": [],
   "source": [
    "model4=XGBClassifier()\n",
    "model4.fit(transform_train,Y_train)\n",
    "xgb_pre=model4.predict(transform_train)"
   ]
  },
  {
   "cell_type": "code",
   "execution_count": 374,
   "id": "9135e887",
   "metadata": {},
   "outputs": [
    {
     "data": {
      "text/plain": [
       "0.8255208333333334"
      ]
     },
     "execution_count": 374,
     "metadata": {},
     "output_type": "execute_result"
    }
   ],
   "source": [
    "m4_train=accuracy_score(xgb_pre,Y_train)\n",
    "m4_train"
   ]
  },
  {
   "cell_type": "code",
   "execution_count": 375,
   "id": "1bad0e19",
   "metadata": {},
   "outputs": [
    {
     "name": "stdout",
     "output_type": "stream",
     "text": [
      "              precision    recall  f1-score   support\n",
      "\n",
      "           0       0.90      0.27      0.42        33\n",
      "           1       0.72      0.98      0.83        63\n",
      "\n",
      "    accuracy                           0.74        96\n",
      "   macro avg       0.81      0.63      0.63        96\n",
      "weighted avg       0.78      0.74      0.69        96\n",
      "\n",
      "The XGB model is 74.0% accurate\n"
     ]
    }
   ],
   "source": [
    "xgb_test=pipeline_obj.transform(X_test)\n",
    "predict_xgb_test=model4.predict(xgb_test)\n",
    "print(classification_report(Y_test, predict_xgb_test))\n",
    "m4_test=accuracy_score(predict_xgb_test,Y_test)\n",
    "print(f\"The XGB model is {round(m4_test,2)*100}% accurate\")"
   ]
  },
  {
   "cell_type": "code",
   "execution_count": 376,
   "id": "0d0d82b0",
   "metadata": {},
   "outputs": [
    {
     "data": {
      "text/plain": [
       "array([[ 9, 24],\n",
       "       [ 1, 62]], dtype=int64)"
      ]
     },
     "execution_count": 376,
     "metadata": {},
     "output_type": "execute_result"
    }
   ],
   "source": [
    "c_m_x=confusion_matrix(y_true=Y_test, y_pred=predict_xgb_test)\n",
    "c_m_x"
   ]
  },
  {
   "cell_type": "markdown",
   "id": "be180775",
   "metadata": {},
   "source": [
    "###### Observations\n",
    "The XGBclassifier model is performing with 82% accuracy in the train data and 74% accuracy with the test data"
   ]
  },
  {
   "cell_type": "code",
   "execution_count": 377,
   "id": "dac5e1a3",
   "metadata": {},
   "outputs": [
    {
     "data": {
      "text/html": [
       "<div>\n",
       "<style scoped>\n",
       "    .dataframe tbody tr th:only-of-type {\n",
       "        vertical-align: middle;\n",
       "    }\n",
       "\n",
       "    .dataframe tbody tr th {\n",
       "        vertical-align: top;\n",
       "    }\n",
       "\n",
       "    .dataframe thead th {\n",
       "        text-align: right;\n",
       "    }\n",
       "</style>\n",
       "<table border=\"1\" class=\"dataframe\">\n",
       "  <thead>\n",
       "    <tr style=\"text-align: right;\">\n",
       "      <th></th>\n",
       "      <th>Model</th>\n",
       "      <th>Train_Accuracy</th>\n",
       "      <th>Test_Accuracy</th>\n",
       "    </tr>\n",
       "  </thead>\n",
       "  <tbody>\n",
       "    <tr>\n",
       "      <th>1</th>\n",
       "      <td>Decision Tree</td>\n",
       "      <td>0.830729</td>\n",
       "      <td>0.750000</td>\n",
       "    </tr>\n",
       "    <tr>\n",
       "      <th>0</th>\n",
       "      <td>Linear Regression</td>\n",
       "      <td>0.825521</td>\n",
       "      <td>0.739583</td>\n",
       "    </tr>\n",
       "    <tr>\n",
       "      <th>3</th>\n",
       "      <td>XGB</td>\n",
       "      <td>0.825521</td>\n",
       "      <td>0.739583</td>\n",
       "    </tr>\n",
       "    <tr>\n",
       "      <th>2</th>\n",
       "      <td>Random Forest</td>\n",
       "      <td>0.830729</td>\n",
       "      <td>0.729167</td>\n",
       "    </tr>\n",
       "  </tbody>\n",
       "</table>\n",
       "</div>"
      ],
      "text/plain": [
       "               Model  Train_Accuracy  Test_Accuracy\n",
       "1      Decision Tree        0.830729       0.750000\n",
       "0  Linear Regression        0.825521       0.739583\n",
       "3                XGB        0.825521       0.739583\n",
       "2      Random Forest        0.830729       0.729167"
      ]
     },
     "execution_count": 377,
     "metadata": {},
     "output_type": "execute_result"
    }
   ],
   "source": [
    "train_score=[m1_train,m2_train,m3_train,m4_train]\n",
    "test_score=[m1_test,m2_test,m3_test,m4_test]\n",
    "model_df=pd.DataFrame({'Model':['Linear Regression','Decision Tree','Random Forest','XGB'],\n",
    "                      'Train_Accuracy':train_score,\n",
    "                      'Test_Accuracy':test_score})\n",
    "model_df.sort_values(by='Test_Accuracy', ascending=False)"
   ]
  },
  {
   "cell_type": "markdown",
   "id": "00ce63a7",
   "metadata": {},
   "source": [
    "#### Conclusion:\n",
    "1. The best model that is suitable for predicting if customer to be given loan or not is DecisionTreeClassifier, this is as a reults of its performance on both train and test data which is 87% and 75% respectively\n",
    "2. The Credit History is very important variable that contribute to the prediction due to it high positive correlation value with the target variable loan_status which is 0.53"
   ]
  },
  {
   "cell_type": "code",
   "execution_count": 378,
   "id": "cfe69b99",
   "metadata": {},
   "outputs": [],
   "source": [
    "DecisionTreeClassifier?"
   ]
  },
  {
   "cell_type": "code",
   "execution_count": 242,
   "id": "32a97abe",
   "metadata": {},
   "outputs": [],
   "source": [
    "GridSearchCV?"
   ]
  },
  {
   "cell_type": "code",
   "execution_count": 379,
   "id": "927cbea9",
   "metadata": {},
   "outputs": [],
   "source": [
    "from sklearn.model_selection import GridSearchCV"
   ]
  },
  {
   "cell_type": "code",
   "execution_count": 380,
   "id": "cd7f6f70",
   "metadata": {},
   "outputs": [],
   "source": [
    "splitter=['best']\n",
    "min_samples_split=[4,6,8]\n",
    "min_samples_leaf=[3,5,7]\n",
    "max_features=[None]"
   ]
  },
  {
   "cell_type": "code",
   "execution_count": 381,
   "id": "e427d611",
   "metadata": {},
   "outputs": [],
   "source": [
    "param_grid= {'splitter':splitter,'min_samples_split':min_samples_split\n",
    "            , 'min_samples_leaf':min_samples_leaf,'max_features':max_features}"
   ]
  },
  {
   "cell_type": "code",
   "execution_count": 382,
   "id": "297766fa",
   "metadata": {},
   "outputs": [],
   "source": [
    "grid_model=GridSearchCV(model2,param_grid=param_grid,scoring='accuracy', cv=3)"
   ]
  },
  {
   "cell_type": "code",
   "execution_count": 202,
   "id": "45e626a1",
   "metadata": {},
   "outputs": [
    {
     "data": {
      "text/html": [
       "<div>\n",
       "<style scoped>\n",
       "    .dataframe tbody tr th:only-of-type {\n",
       "        vertical-align: middle;\n",
       "    }\n",
       "\n",
       "    .dataframe tbody tr th {\n",
       "        vertical-align: top;\n",
       "    }\n",
       "\n",
       "    .dataframe thead th {\n",
       "        text-align: right;\n",
       "    }\n",
       "</style>\n",
       "<table border=\"1\" class=\"dataframe\">\n",
       "  <thead>\n",
       "    <tr style=\"text-align: right;\">\n",
       "      <th></th>\n",
       "      <th>Gender</th>\n",
       "      <th>Married</th>\n",
       "      <th>Dependents</th>\n",
       "      <th>Education</th>\n",
       "      <th>Self_Employed</th>\n",
       "      <th>ApplicantIncome</th>\n",
       "      <th>CoapplicantIncome</th>\n",
       "      <th>LoanAmount</th>\n",
       "      <th>Loan_Amount_Term</th>\n",
       "      <th>Credit_History</th>\n",
       "      <th>Property_Area</th>\n",
       "    </tr>\n",
       "  </thead>\n",
       "  <tbody>\n",
       "    <tr>\n",
       "      <th>98</th>\n",
       "      <td>Male</td>\n",
       "      <td>Yes</td>\n",
       "      <td>0</td>\n",
       "      <td>Not Graduate</td>\n",
       "      <td>No</td>\n",
       "      <td>8.340217</td>\n",
       "      <td>0.000000</td>\n",
       "      <td>4.753590</td>\n",
       "      <td>180.0</td>\n",
       "      <td>1.0</td>\n",
       "      <td>Semiurban</td>\n",
       "    </tr>\n",
       "    <tr>\n",
       "      <th>306</th>\n",
       "      <td>Female</td>\n",
       "      <td>No</td>\n",
       "      <td>0</td>\n",
       "      <td>Graduate</td>\n",
       "      <td>No</td>\n",
       "      <td>8.232972</td>\n",
       "      <td>7.418781</td>\n",
       "      <td>4.912655</td>\n",
       "      <td>360.0</td>\n",
       "      <td>1.0</td>\n",
       "      <td>Rural</td>\n",
       "    </tr>\n",
       "    <tr>\n",
       "      <th>523</th>\n",
       "      <td>Male</td>\n",
       "      <td>Yes</td>\n",
       "      <td>2</td>\n",
       "      <td>Graduate</td>\n",
       "      <td>Yes</td>\n",
       "      <td>8.980801</td>\n",
       "      <td>8.877242</td>\n",
       "      <td>6.175867</td>\n",
       "      <td>360.0</td>\n",
       "      <td>1.0</td>\n",
       "      <td>Rural</td>\n",
       "    </tr>\n",
       "    <tr>\n",
       "      <th>521</th>\n",
       "      <td>Male</td>\n",
       "      <td>No</td>\n",
       "      <td>0</td>\n",
       "      <td>Graduate</td>\n",
       "      <td>No</td>\n",
       "      <td>7.824446</td>\n",
       "      <td>0.000000</td>\n",
       "      <td>4.025352</td>\n",
       "      <td>360.0</td>\n",
       "      <td>1.0</td>\n",
       "      <td>Semiurban</td>\n",
       "    </tr>\n",
       "    <tr>\n",
       "      <th>211</th>\n",
       "      <td>Male</td>\n",
       "      <td>Yes</td>\n",
       "      <td>3+</td>\n",
       "      <td>Graduate</td>\n",
       "      <td>No</td>\n",
       "      <td>8.140607</td>\n",
       "      <td>7.131699</td>\n",
       "      <td>4.859812</td>\n",
       "      <td>360.0</td>\n",
       "      <td>0.0</td>\n",
       "      <td>Semiurban</td>\n",
       "    </tr>\n",
       "    <tr>\n",
       "      <th>...</th>\n",
       "      <td>...</td>\n",
       "      <td>...</td>\n",
       "      <td>...</td>\n",
       "      <td>...</td>\n",
       "      <td>...</td>\n",
       "      <td>...</td>\n",
       "      <td>...</td>\n",
       "      <td>...</td>\n",
       "      <td>...</td>\n",
       "      <td>...</td>\n",
       "      <td>...</td>\n",
       "    </tr>\n",
       "    <tr>\n",
       "      <th>326</th>\n",
       "      <td>Male</td>\n",
       "      <td>No</td>\n",
       "      <td>0</td>\n",
       "      <td>Graduate</td>\n",
       "      <td>No</td>\n",
       "      <td>8.500657</td>\n",
       "      <td>0.000000</td>\n",
       "      <td>4.875197</td>\n",
       "      <td>360.0</td>\n",
       "      <td>0.0</td>\n",
       "      <td>Rural</td>\n",
       "    </tr>\n",
       "    <tr>\n",
       "      <th>91</th>\n",
       "      <td>Male</td>\n",
       "      <td>Yes</td>\n",
       "      <td>2</td>\n",
       "      <td>Graduate</td>\n",
       "      <td>No</td>\n",
       "      <td>8.740497</td>\n",
       "      <td>8.640295</td>\n",
       "      <td>5.241747</td>\n",
       "      <td>180.0</td>\n",
       "      <td>1.0</td>\n",
       "      <td>Semiurban</td>\n",
       "    </tr>\n",
       "    <tr>\n",
       "      <th>509</th>\n",
       "      <td>Female</td>\n",
       "      <td>No</td>\n",
       "      <td>1</td>\n",
       "      <td>Graduate</td>\n",
       "      <td>No</td>\n",
       "      <td>9.492733</td>\n",
       "      <td>0.000000</td>\n",
       "      <td>3.713572</td>\n",
       "      <td>360.0</td>\n",
       "      <td>1.0</td>\n",
       "      <td>Urban</td>\n",
       "    </tr>\n",
       "    <tr>\n",
       "      <th>297</th>\n",
       "      <td>Female</td>\n",
       "      <td>Yes</td>\n",
       "      <td>1</td>\n",
       "      <td>Graduate</td>\n",
       "      <td>No</td>\n",
       "      <td>8.448272</td>\n",
       "      <td>0.000000</td>\n",
       "      <td>4.912655</td>\n",
       "      <td>360.0</td>\n",
       "      <td>1.0</td>\n",
       "      <td>Urban</td>\n",
       "    </tr>\n",
       "    <tr>\n",
       "      <th>50</th>\n",
       "      <td>Female</td>\n",
       "      <td>Yes</td>\n",
       "      <td>0</td>\n",
       "      <td>Not Graduate</td>\n",
       "      <td>No</td>\n",
       "      <td>7.564757</td>\n",
       "      <td>7.405496</td>\n",
       "      <td>4.615121</td>\n",
       "      <td>360.0</td>\n",
       "      <td>1.0</td>\n",
       "      <td>Semiurban</td>\n",
       "    </tr>\n",
       "  </tbody>\n",
       "</table>\n",
       "<p>384 rows × 11 columns</p>\n",
       "</div>"
      ],
      "text/plain": [
       "     Gender Married Dependents     Education Self_Employed  ApplicantIncome  \\\n",
       "98     Male     Yes          0  Not Graduate            No         8.340217   \n",
       "306  Female      No          0      Graduate            No         8.232972   \n",
       "523    Male     Yes          2      Graduate           Yes         8.980801   \n",
       "521    Male      No          0      Graduate            No         7.824446   \n",
       "211    Male     Yes         3+      Graduate            No         8.140607   \n",
       "..      ...     ...        ...           ...           ...              ...   \n",
       "326    Male      No          0      Graduate            No         8.500657   \n",
       "91     Male     Yes          2      Graduate            No         8.740497   \n",
       "509  Female      No          1      Graduate            No         9.492733   \n",
       "297  Female     Yes          1      Graduate            No         8.448272   \n",
       "50   Female     Yes          0  Not Graduate            No         7.564757   \n",
       "\n",
       "     CoapplicantIncome  LoanAmount  Loan_Amount_Term  Credit_History  \\\n",
       "98            0.000000    4.753590             180.0             1.0   \n",
       "306           7.418781    4.912655             360.0             1.0   \n",
       "523           8.877242    6.175867             360.0             1.0   \n",
       "521           0.000000    4.025352             360.0             1.0   \n",
       "211           7.131699    4.859812             360.0             0.0   \n",
       "..                 ...         ...               ...             ...   \n",
       "326           0.000000    4.875197             360.0             0.0   \n",
       "91            8.640295    5.241747             180.0             1.0   \n",
       "509           0.000000    3.713572             360.0             1.0   \n",
       "297           0.000000    4.912655             360.0             1.0   \n",
       "50            7.405496    4.615121             360.0             1.0   \n",
       "\n",
       "    Property_Area  \n",
       "98      Semiurban  \n",
       "306         Rural  \n",
       "523         Rural  \n",
       "521     Semiurban  \n",
       "211     Semiurban  \n",
       "..            ...  \n",
       "326         Rural  \n",
       "91      Semiurban  \n",
       "509         Urban  \n",
       "297         Urban  \n",
       "50      Semiurban  \n",
       "\n",
       "[384 rows x 11 columns]"
      ]
     },
     "execution_count": 202,
     "metadata": {},
     "output_type": "execute_result"
    }
   ],
   "source": [
    "X_train"
   ]
  },
  {
   "cell_type": "code",
   "execution_count": null,
   "id": "c2a799fb",
   "metadata": {},
   "outputs": [],
   "source": []
  },
  {
   "cell_type": "markdown",
   "id": "d1323410",
   "metadata": {},
   "source": []
  },
  {
   "cell_type": "code",
   "execution_count": null,
   "id": "9a9ce787",
   "metadata": {},
   "outputs": [],
   "source": []
  }
 ],
 "metadata": {
  "kernelspec": {
   "display_name": "Python 3 (ipykernel)",
   "language": "python",
   "name": "python3"
  },
  "language_info": {
   "codemirror_mode": {
    "name": "ipython",
    "version": 3
   },
   "file_extension": ".py",
   "mimetype": "text/x-python",
   "name": "python",
   "nbconvert_exporter": "python",
   "pygments_lexer": "ipython3",
   "version": "3.9.12"
  }
 },
 "nbformat": 4,
 "nbformat_minor": 5
}
