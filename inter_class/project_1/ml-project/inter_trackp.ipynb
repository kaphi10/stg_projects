{
 "cells": [
  {
   "cell_type": "markdown",
   "id": "1677d0f7",
   "metadata": {},
   "source": [
    "### PROJECT TOPIC: MODEL PREDICTION ON STUDENTS ELIGIBILTY TO INTERMEDIATE CLASS\n",
    "#### TABLE OF CONTENT\n",
    "<ul>\n",
    "    <li><a href='#introduction'> Introduction </a></li>\n",
    "    <li><a href=\"#wrangling\">Data Wrangling</a></li>\n",
    "    <li><a href=\"#eda\">Exploratory Data Analysis</a></li>\n",
    "    <li><a href=\"#model\">Data Modelling</a></li>\n",
    "    <li><a href=\"#conclusions\">Conclusions</a></li>\n",
    "</ul>\n",
    "\n"
   ]
  },
  {
   "cell_type": "markdown",
   "id": "77cd26fc",
   "metadata": {},
   "source": [
    "<a id='introduction'></a>\n",
    "#### INTRODUCTION \n",
    ">The project predict weather student is eligible to enroll for the intermediate class or not. Using some criterias. \n",
    "The data set provided, contains sixty observation and eight columns, which includes, S/N, Name, Email_Address, Lesson_Summary, Quize_Summary, Assignment_Summary, Grade_Point, and Intermediate Class Eligibility. The intermediate class Eligibility happens to be the target Variable.\n",
    "From The Email Address and Quize summary has null in the entire observation. Althoug the data provided is minimal, so I downloaded a dummies data set of 500 rows to boost perfomance\n",
    "\n",
    "#### AIMS AND OBJECTIVES\n",
    "1. To predict if student is eligible for the intermediate class or not\n",
    "2. To check the  model that best predict the terget variable\n",
    "3. To check for the varible that best contributed to the achievement of the target variable\n",
    "\n",
    "#### THE MACHINE LEARNING ALGORITHM USED\n",
    "> The machine learning algorithm used is Supervised Classified machine learning with the target variable as intermediate class Eligibility\n"
   ]
  },
  {
   "cell_type": "code",
   "execution_count": 547,
   "id": "63aae524",
   "metadata": {},
   "outputs": [],
   "source": [
    "#import library\n",
    "\n",
    "import pandas as pd\n",
    "import numpy as np\n",
    "import matplotlib.pyplot as plt\n",
    "import seaborn as sb\n",
    "\n",
    "sb.set_style('darkgrid')"
   ]
  },
  {
   "cell_type": "markdown",
   "id": "fa524ceb",
   "metadata": {},
   "source": [
    "<a id='wrangling'></a>\n",
    "### Data Wrangling"
   ]
  },
  {
   "cell_type": "code",
   "execution_count": 548,
   "id": "79bd9849",
   "metadata": {
    "scrolled": true
   },
   "outputs": [
    {
     "data": {
      "text/html": [
       "<div>\n",
       "<style scoped>\n",
       "    .dataframe tbody tr th:only-of-type {\n",
       "        vertical-align: middle;\n",
       "    }\n",
       "\n",
       "    .dataframe tbody tr th {\n",
       "        vertical-align: top;\n",
       "    }\n",
       "\n",
       "    .dataframe thead th {\n",
       "        text-align: right;\n",
       "    }\n",
       "</style>\n",
       "<table border=\"1\" class=\"dataframe\">\n",
       "  <thead>\n",
       "    <tr style=\"text-align: right;\">\n",
       "      <th></th>\n",
       "      <th>S/N</th>\n",
       "      <th>Name</th>\n",
       "      <th>Email Address</th>\n",
       "      <th>Lesson Summary</th>\n",
       "      <th>Quiz Summary</th>\n",
       "      <th>Assignment Summary</th>\n",
       "      <th>Grade Point Average</th>\n",
       "      <th>Intermediate class Eligibility</th>\n",
       "    </tr>\n",
       "  </thead>\n",
       "  <tbody>\n",
       "    <tr>\n",
       "      <th>0</th>\n",
       "      <td>1</td>\n",
       "      <td>id_1</td>\n",
       "      <td>NaN</td>\n",
       "      <td>0/5</td>\n",
       "      <td>NaN</td>\n",
       "      <td>0</td>\n",
       "      <td>0.0</td>\n",
       "      <td>No</td>\n",
       "    </tr>\n",
       "    <tr>\n",
       "      <th>1</th>\n",
       "      <td>2</td>\n",
       "      <td>id_2</td>\n",
       "      <td>NaN</td>\n",
       "      <td>2023-05-05 00:00:00</td>\n",
       "      <td>NaN</td>\n",
       "      <td>70</td>\n",
       "      <td>56.0</td>\n",
       "      <td>Yes</td>\n",
       "    </tr>\n",
       "    <tr>\n",
       "      <th>2</th>\n",
       "      <td>3</td>\n",
       "      <td>id_3</td>\n",
       "      <td>NaN</td>\n",
       "      <td>2023-02-05 00:00:00</td>\n",
       "      <td>NaN</td>\n",
       "      <td>80</td>\n",
       "      <td>64.0</td>\n",
       "      <td>Yes</td>\n",
       "    </tr>\n",
       "    <tr>\n",
       "      <th>3</th>\n",
       "      <td>4</td>\n",
       "      <td>id_4</td>\n",
       "      <td>NaN</td>\n",
       "      <td>2023-05-05 00:00:00</td>\n",
       "      <td>NaN</td>\n",
       "      <td>100</td>\n",
       "      <td>80.0</td>\n",
       "      <td>Yes</td>\n",
       "    </tr>\n",
       "    <tr>\n",
       "      <th>4</th>\n",
       "      <td>5</td>\n",
       "      <td>id_5</td>\n",
       "      <td>NaN</td>\n",
       "      <td>2023-06-05 00:00:00</td>\n",
       "      <td>NaN</td>\n",
       "      <td>80</td>\n",
       "      <td>64.0</td>\n",
       "      <td>Yes</td>\n",
       "    </tr>\n",
       "  </tbody>\n",
       "</table>\n",
       "</div>"
      ],
      "text/plain": [
       "   S/N  Name  Email Address       Lesson Summary  Quiz Summary  \\\n",
       "0    1  id_1            NaN                  0/5           NaN   \n",
       "1    2  id_2            NaN  2023-05-05 00:00:00           NaN   \n",
       "2    3  id_3            NaN  2023-02-05 00:00:00           NaN   \n",
       "3    4  id_4            NaN  2023-05-05 00:00:00           NaN   \n",
       "4    5  id_5            NaN  2023-06-05 00:00:00           NaN   \n",
       "\n",
       "   Assignment Summary  Grade Point Average Intermediate class Eligibility  \n",
       "0                   0                  0.0                             No  \n",
       "1                  70                 56.0                            Yes  \n",
       "2                  80                 64.0                            Yes  \n",
       "3                 100                 80.0                            Yes  \n",
       "4                  80                 64.0                            Yes  "
      ]
     },
     "execution_count": 548,
     "metadata": {},
     "output_type": "execute_result"
    }
   ],
   "source": [
    "# Read excel file\n",
    "citron=pd.read_excel('citron_performance.xlsx')\n",
    "data=pd.read_csv('dummies.csv')\n",
    "citron.head()"
   ]
  },
  {
   "cell_type": "code",
   "execution_count": 549,
   "id": "25f5efc5",
   "metadata": {},
   "outputs": [
    {
     "data": {
      "text/plain": [
       "S/N                                 int64\n",
       "Name                               object\n",
       "Email Address                     float64\n",
       "Lesson Summary                     object\n",
       "Quiz Summary                      float64\n",
       "Assignment Summary                  int64\n",
       "Grade Point Average               float64\n",
       "Intermediate class Eligibility     object\n",
       "dtype: object"
      ]
     },
     "execution_count": 549,
     "metadata": {},
     "output_type": "execute_result"
    }
   ],
   "source": [
    "#check data types\n",
    "citron.dtypes"
   ]
  },
  {
   "cell_type": "code",
   "execution_count": 550,
   "id": "135cbe8f",
   "metadata": {},
   "outputs": [
    {
     "name": "stdout",
     "output_type": "stream",
     "text": [
      "<class 'pandas.core.frame.DataFrame'>\n",
      "RangeIndex: 60 entries, 0 to 59\n",
      "Data columns (total 8 columns):\n",
      " #   Column                          Non-Null Count  Dtype  \n",
      "---  ------                          --------------  -----  \n",
      " 0   S/N                             60 non-null     int64  \n",
      " 1   Name                            60 non-null     object \n",
      " 2   Email Address                   0 non-null      float64\n",
      " 3   Lesson Summary                  60 non-null     object \n",
      " 4   Quiz Summary                    0 non-null      float64\n",
      " 5   Assignment Summary              60 non-null     int64  \n",
      " 6   Grade Point Average             60 non-null     float64\n",
      " 7   Intermediate class Eligibility  60 non-null     object \n",
      "dtypes: float64(3), int64(2), object(3)\n",
      "memory usage: 3.9+ KB\n"
     ]
    }
   ],
   "source": [
    "citron.info()"
   ]
  },
  {
   "cell_type": "code",
   "execution_count": 551,
   "id": "c7f4f6c8",
   "metadata": {},
   "outputs": [
    {
     "data": {
      "text/plain": [
       "array(['0/5', datetime.datetime(2023, 5, 5, 0, 0),\n",
       "       datetime.datetime(2023, 2, 5, 0, 0),\n",
       "       datetime.datetime(2023, 6, 5, 0, 0),\n",
       "       datetime.datetime(2023, 4, 5, 0, 0),\n",
       "       datetime.datetime(2023, 7, 5, 0, 0),\n",
       "       datetime.datetime(2023, 3, 5, 0, 0)], dtype=object)"
      ]
     },
     "execution_count": 551,
     "metadata": {},
     "output_type": "execute_result"
    }
   ],
   "source": [
    "citron['Lesson Summary'].unique()# confirm the variable in the lesson summary column"
   ]
  },
  {
   "cell_type": "code",
   "execution_count": 552,
   "id": "3b10e733",
   "metadata": {},
   "outputs": [],
   "source": [
    "citron['Lesson Summary']=citron['Lesson Summary'].astype(str) # change datetime to string"
   ]
  },
  {
   "cell_type": "code",
   "execution_count": 553,
   "id": "d5ef2d9d",
   "metadata": {},
   "outputs": [],
   "source": [
    "# replace all date time string with appropriate value\n",
    "replace_value={'2023-05-05 00:00:00':'5/5','2023-03-05 00:00:00':'3/5','2023-02-05 00:00:00':'2/5',\n",
    "              '2023-04-05 00:00:00':'4/5','2023-06-05 00:00:00':'6/5','2023-07-05 00:00:00':'7/5'}\n",
    "citron['Lesson Summary']=citron['Lesson Summary'].replace(replace_value, regex=True) "
   ]
  },
  {
   "cell_type": "code",
   "execution_count": 554,
   "id": "b06507b3",
   "metadata": {},
   "outputs": [
    {
     "data": {
      "text/plain": [
       "array(['0/5', '5/5', '2/5', '6/5', '4/5', '7/5', '3/5'], dtype=object)"
      ]
     },
     "execution_count": 554,
     "metadata": {},
     "output_type": "execute_result"
    }
   ],
   "source": [
    "citron['Lesson Summary'].unique()"
   ]
  },
  {
   "cell_type": "code",
   "execution_count": 555,
   "id": "eaa25c3f",
   "metadata": {},
   "outputs": [
    {
     "data": {
      "text/html": [
       "<div>\n",
       "<style scoped>\n",
       "    .dataframe tbody tr th:only-of-type {\n",
       "        vertical-align: middle;\n",
       "    }\n",
       "\n",
       "    .dataframe tbody tr th {\n",
       "        vertical-align: top;\n",
       "    }\n",
       "\n",
       "    .dataframe thead th {\n",
       "        text-align: right;\n",
       "    }\n",
       "</style>\n",
       "<table border=\"1\" class=\"dataframe\">\n",
       "  <thead>\n",
       "    <tr style=\"text-align: right;\">\n",
       "      <th></th>\n",
       "      <th>S/N</th>\n",
       "      <th>Name</th>\n",
       "      <th>Email Address</th>\n",
       "      <th>Lesson Summary</th>\n",
       "      <th>Quiz Summary</th>\n",
       "      <th>Assignment Summary</th>\n",
       "      <th>Grade Point Average</th>\n",
       "      <th>Intermediate class Eligibility</th>\n",
       "    </tr>\n",
       "  </thead>\n",
       "  <tbody>\n",
       "    <tr>\n",
       "      <th>0</th>\n",
       "      <td>1</td>\n",
       "      <td>id_1</td>\n",
       "      <td>NaN</td>\n",
       "      <td>0/5</td>\n",
       "      <td>NaN</td>\n",
       "      <td>0</td>\n",
       "      <td>0.0</td>\n",
       "      <td>No</td>\n",
       "    </tr>\n",
       "    <tr>\n",
       "      <th>1</th>\n",
       "      <td>2</td>\n",
       "      <td>id_2</td>\n",
       "      <td>NaN</td>\n",
       "      <td>5/5</td>\n",
       "      <td>NaN</td>\n",
       "      <td>70</td>\n",
       "      <td>56.0</td>\n",
       "      <td>Yes</td>\n",
       "    </tr>\n",
       "    <tr>\n",
       "      <th>2</th>\n",
       "      <td>3</td>\n",
       "      <td>id_3</td>\n",
       "      <td>NaN</td>\n",
       "      <td>2/5</td>\n",
       "      <td>NaN</td>\n",
       "      <td>80</td>\n",
       "      <td>64.0</td>\n",
       "      <td>Yes</td>\n",
       "    </tr>\n",
       "    <tr>\n",
       "      <th>3</th>\n",
       "      <td>4</td>\n",
       "      <td>id_4</td>\n",
       "      <td>NaN</td>\n",
       "      <td>5/5</td>\n",
       "      <td>NaN</td>\n",
       "      <td>100</td>\n",
       "      <td>80.0</td>\n",
       "      <td>Yes</td>\n",
       "    </tr>\n",
       "    <tr>\n",
       "      <th>4</th>\n",
       "      <td>5</td>\n",
       "      <td>id_5</td>\n",
       "      <td>NaN</td>\n",
       "      <td>6/5</td>\n",
       "      <td>NaN</td>\n",
       "      <td>80</td>\n",
       "      <td>64.0</td>\n",
       "      <td>Yes</td>\n",
       "    </tr>\n",
       "  </tbody>\n",
       "</table>\n",
       "</div>"
      ],
      "text/plain": [
       "   S/N  Name  Email Address Lesson Summary  Quiz Summary  Assignment Summary  \\\n",
       "0    1  id_1            NaN            0/5           NaN                   0   \n",
       "1    2  id_2            NaN            5/5           NaN                  70   \n",
       "2    3  id_3            NaN            2/5           NaN                  80   \n",
       "3    4  id_4            NaN            5/5           NaN                 100   \n",
       "4    5  id_5            NaN            6/5           NaN                  80   \n",
       "\n",
       "   Grade Point Average Intermediate class Eligibility  \n",
       "0                  0.0                             No  \n",
       "1                 56.0                            Yes  \n",
       "2                 64.0                            Yes  \n",
       "3                 80.0                            Yes  \n",
       "4                 64.0                            Yes  "
      ]
     },
     "execution_count": 555,
     "metadata": {},
     "output_type": "execute_result"
    }
   ],
   "source": [
    "citron.head()"
   ]
  },
  {
   "cell_type": "code",
   "execution_count": 556,
   "id": "69b996e2",
   "metadata": {},
   "outputs": [],
   "source": [
    "citron.columns=citron.columns.str.replace(' ','_') # replace ' ' within the column name by '_'"
   ]
  },
  {
   "cell_type": "code",
   "execution_count": 557,
   "id": "6e6fa2cf",
   "metadata": {},
   "outputs": [
    {
     "data": {
      "text/plain": [
       "Index(['S/N', 'Name', 'Email_Address', 'Lesson_Summary', 'Quiz_Summary',\n",
       "       'Assignment_Summary', 'Grade_Point_Average',\n",
       "       'Intermediate_class_Eligibility'],\n",
       "      dtype='object')"
      ]
     },
     "execution_count": 557,
     "metadata": {},
     "output_type": "execute_result"
    }
   ],
   "source": [
    "citron.columns"
   ]
  },
  {
   "cell_type": "code",
   "execution_count": 558,
   "id": "3b27a23e",
   "metadata": {},
   "outputs": [
    {
     "data": {
      "text/plain": [
       "array([  0,  70,  80, 100,  90,  98], dtype=int64)"
      ]
     },
     "execution_count": 558,
     "metadata": {},
     "output_type": "execute_result"
    }
   ],
   "source": [
    "citron.Assignment_Summary.unique()"
   ]
  },
  {
   "cell_type": "code",
   "execution_count": 559,
   "id": "4ef3007a",
   "metadata": {},
   "outputs": [
    {
     "data": {
      "text/html": [
       "<div>\n",
       "<style scoped>\n",
       "    .dataframe tbody tr th:only-of-type {\n",
       "        vertical-align: middle;\n",
       "    }\n",
       "\n",
       "    .dataframe tbody tr th {\n",
       "        vertical-align: top;\n",
       "    }\n",
       "\n",
       "    .dataframe thead th {\n",
       "        text-align: right;\n",
       "    }\n",
       "</style>\n",
       "<table border=\"1\" class=\"dataframe\">\n",
       "  <thead>\n",
       "    <tr style=\"text-align: right;\">\n",
       "      <th></th>\n",
       "      <th>S/N</th>\n",
       "      <th>Lesson_Summary</th>\n",
       "      <th>Assignment_Summary</th>\n",
       "      <th>Grade_Point_Average</th>\n",
       "      <th>Status</th>\n",
       "    </tr>\n",
       "  </thead>\n",
       "  <tbody>\n",
       "    <tr>\n",
       "      <th>0</th>\n",
       "      <td>61</td>\n",
       "      <td>4</td>\n",
       "      <td>51</td>\n",
       "      <td>58</td>\n",
       "      <td>True</td>\n",
       "    </tr>\n",
       "    <tr>\n",
       "      <th>1</th>\n",
       "      <td>62</td>\n",
       "      <td>4</td>\n",
       "      <td>32</td>\n",
       "      <td>6</td>\n",
       "      <td>True</td>\n",
       "    </tr>\n",
       "    <tr>\n",
       "      <th>2</th>\n",
       "      <td>63</td>\n",
       "      <td>2</td>\n",
       "      <td>54</td>\n",
       "      <td>15</td>\n",
       "      <td>True</td>\n",
       "    </tr>\n",
       "    <tr>\n",
       "      <th>3</th>\n",
       "      <td>64</td>\n",
       "      <td>7</td>\n",
       "      <td>4</td>\n",
       "      <td>29</td>\n",
       "      <td>False</td>\n",
       "    </tr>\n",
       "    <tr>\n",
       "      <th>4</th>\n",
       "      <td>65</td>\n",
       "      <td>1</td>\n",
       "      <td>49</td>\n",
       "      <td>14</td>\n",
       "      <td>True</td>\n",
       "    </tr>\n",
       "  </tbody>\n",
       "</table>\n",
       "</div>"
      ],
      "text/plain": [
       "   S/N  Lesson_Summary  Assignment_Summary  Grade_Point_Average  Status\n",
       "0   61               4                  51                   58    True\n",
       "1   62               4                  32                    6    True\n",
       "2   63               2                  54                   15    True\n",
       "3   64               7                   4                   29   False\n",
       "4   65               1                  49                   14    True"
      ]
     },
     "execution_count": 559,
     "metadata": {},
     "output_type": "execute_result"
    }
   ],
   "source": [
    "data.head()# Dummies File"
   ]
  },
  {
   "cell_type": "code",
   "execution_count": 560,
   "id": "315b613a",
   "metadata": {},
   "outputs": [
    {
     "data": {
      "text/html": [
       "<div>\n",
       "<style scoped>\n",
       "    .dataframe tbody tr th:only-of-type {\n",
       "        vertical-align: middle;\n",
       "    }\n",
       "\n",
       "    .dataframe tbody tr th {\n",
       "        vertical-align: top;\n",
       "    }\n",
       "\n",
       "    .dataframe thead th {\n",
       "        text-align: right;\n",
       "    }\n",
       "</style>\n",
       "<table border=\"1\" class=\"dataframe\">\n",
       "  <thead>\n",
       "    <tr style=\"text-align: right;\">\n",
       "      <th></th>\n",
       "      <th>S/N</th>\n",
       "      <th>Lesson_Summary</th>\n",
       "      <th>Assignment_Summary</th>\n",
       "      <th>Grade_Point_Average</th>\n",
       "      <th>Intermediate_class_Eligibility</th>\n",
       "    </tr>\n",
       "  </thead>\n",
       "  <tbody>\n",
       "    <tr>\n",
       "      <th>0</th>\n",
       "      <td>61</td>\n",
       "      <td>4</td>\n",
       "      <td>51</td>\n",
       "      <td>58</td>\n",
       "      <td>Yes</td>\n",
       "    </tr>\n",
       "    <tr>\n",
       "      <th>1</th>\n",
       "      <td>62</td>\n",
       "      <td>4</td>\n",
       "      <td>32</td>\n",
       "      <td>6</td>\n",
       "      <td>No</td>\n",
       "    </tr>\n",
       "    <tr>\n",
       "      <th>2</th>\n",
       "      <td>63</td>\n",
       "      <td>2</td>\n",
       "      <td>54</td>\n",
       "      <td>15</td>\n",
       "      <td>No</td>\n",
       "    </tr>\n",
       "    <tr>\n",
       "      <th>3</th>\n",
       "      <td>64</td>\n",
       "      <td>7</td>\n",
       "      <td>4</td>\n",
       "      <td>29</td>\n",
       "      <td>No</td>\n",
       "    </tr>\n",
       "    <tr>\n",
       "      <th>4</th>\n",
       "      <td>65</td>\n",
       "      <td>1</td>\n",
       "      <td>49</td>\n",
       "      <td>14</td>\n",
       "      <td>No</td>\n",
       "    </tr>\n",
       "  </tbody>\n",
       "</table>\n",
       "</div>"
      ],
      "text/plain": [
       "   S/N  Lesson_Summary  Assignment_Summary  Grade_Point_Average  \\\n",
       "0   61               4                  51                   58   \n",
       "1   62               4                  32                    6   \n",
       "2   63               2                  54                   15   \n",
       "3   64               7                   4                   29   \n",
       "4   65               1                  49                   14   \n",
       "\n",
       "  Intermediate_class_Eligibility  \n",
       "0                            Yes  \n",
       "1                             No  \n",
       "2                             No  \n",
       "3                             No  \n",
       "4                             No  "
      ]
     },
     "execution_count": 560,
     "metadata": {},
     "output_type": "execute_result"
    }
   ],
   "source": [
    "data['Intermediate_class_Eligibility']=np.where((data['Assignment_Summary']>=50) & (data['Grade_Point_Average'] >=50), \n",
    "                                                'Yes','No')\n",
    "data.drop(columns=['Status'], axis=1, inplace=True)\n",
    "data.head()"
   ]
  },
  {
   "cell_type": "code",
   "execution_count": 561,
   "id": "8c9231db",
   "metadata": {},
   "outputs": [],
   "source": [
    "data['Grade_Point_Average']=data['Grade_Point_Average'].astype(float)"
   ]
  },
  {
   "cell_type": "code",
   "execution_count": 562,
   "id": "f2dac005",
   "metadata": {},
   "outputs": [],
   "source": [
    "data['Lesson_Summary']=data['Lesson_Summary']/5"
   ]
  },
  {
   "cell_type": "code",
   "execution_count": 563,
   "id": "4d1201e8",
   "metadata": {},
   "outputs": [],
   "source": [
    "# drop Email_address column and Quize_Summary column\n",
    "citron.drop(columns=['Email_Address','Quiz_Summary','Name'], axis=1, inplace=True)"
   ]
  },
  {
   "cell_type": "code",
   "execution_count": 564,
   "id": "7b87dbd6",
   "metadata": {},
   "outputs": [],
   "source": [
    "#citron.to_csv('inter_track.csv', index=False)"
   ]
  },
  {
   "cell_type": "code",
   "execution_count": 565,
   "id": "ff3ef61c",
   "metadata": {},
   "outputs": [],
   "source": [
    "# DEALING WITH / IN THE LESSON SUMMARY\n",
    "citron['Lesson_Summary_D']=citron['Lesson_Summary'].apply(lambda x: x.split('/')[1]).astype(int)\n",
    "citron['Lesson_Summary']=citron['Lesson_Summary'].apply(lambda x: x.split('/')[0]).astype(int)\n"
   ]
  },
  {
   "cell_type": "code",
   "execution_count": 566,
   "id": "e5e233dd",
   "metadata": {},
   "outputs": [],
   "source": [
    "citron['Lesson_Summary']=citron['Lesson_Summary']/citron['Lesson_Summary_D']\n",
    "citron.drop(columns=['Lesson_Summary_D'], axis=1, inplace=True)"
   ]
  },
  {
   "cell_type": "code",
   "execution_count": 567,
   "id": "b1059786",
   "metadata": {},
   "outputs": [
    {
     "data": {
      "text/plain": [
       "(560, 5)"
      ]
     },
     "execution_count": 567,
     "metadata": {},
     "output_type": "execute_result"
    }
   ],
   "source": [
    "citron_data=pd.concat([citron,data], ignore_index=True)\n",
    "citron_data.shape"
   ]
  },
  {
   "cell_type": "code",
   "execution_count": 568,
   "id": "1c9f5a0f",
   "metadata": {},
   "outputs": [
    {
     "data": {
      "text/plain": [
       "No     400\n",
       "Yes    160\n",
       "Name: Intermediate_class_Eligibility, dtype: int64"
      ]
     },
     "execution_count": 568,
     "metadata": {},
     "output_type": "execute_result"
    }
   ],
   "source": [
    "citron_data.Intermediate_class_Eligibility.value_counts()"
   ]
  },
  {
   "cell_type": "code",
   "execution_count": 569,
   "id": "8cdbad46",
   "metadata": {},
   "outputs": [],
   "source": [
    "citron_data.to_csv('combine_interp.csv', index=False)"
   ]
  },
  {
   "cell_type": "code",
   "execution_count": 570,
   "id": "5afa3404",
   "metadata": {},
   "outputs": [],
   "source": [
    "citron_data['Intermediate_class_Eligibility']=citron_data['Intermediate_class_Eligibility'].map({'Yes':1,'No':0})"
   ]
  },
  {
   "cell_type": "markdown",
   "id": "850ad33e",
   "metadata": {},
   "source": [
    "<a id='eda'></a>\n",
    "### Exploratory Data Analysis (EDA)"
   ]
  },
  {
   "cell_type": "code",
   "execution_count": 571,
   "id": "d218f312",
   "metadata": {},
   "outputs": [
    {
     "data": {
      "text/html": [
       "<div>\n",
       "<style scoped>\n",
       "    .dataframe tbody tr th:only-of-type {\n",
       "        vertical-align: middle;\n",
       "    }\n",
       "\n",
       "    .dataframe tbody tr th {\n",
       "        vertical-align: top;\n",
       "    }\n",
       "\n",
       "    .dataframe thead th {\n",
       "        text-align: right;\n",
       "    }\n",
       "</style>\n",
       "<table border=\"1\" class=\"dataframe\">\n",
       "  <thead>\n",
       "    <tr style=\"text-align: right;\">\n",
       "      <th></th>\n",
       "      <th>S/N</th>\n",
       "      <th>Lesson_Summary</th>\n",
       "      <th>Assignment_Summary</th>\n",
       "      <th>Grade_Point_Average</th>\n",
       "      <th>Intermediate_class_Eligibility</th>\n",
       "    </tr>\n",
       "  </thead>\n",
       "  <tbody>\n",
       "    <tr>\n",
       "      <th>count</th>\n",
       "      <td>560.000000</td>\n",
       "      <td>560.000000</td>\n",
       "      <td>560.00000</td>\n",
       "      <td>560.000000</td>\n",
       "      <td>560.000000</td>\n",
       "    </tr>\n",
       "    <tr>\n",
       "      <th>mean</th>\n",
       "      <td>280.500000</td>\n",
       "      <td>0.717143</td>\n",
       "      <td>51.95000</td>\n",
       "      <td>49.500357</td>\n",
       "      <td>0.285714</td>\n",
       "    </tr>\n",
       "    <tr>\n",
       "      <th>std</th>\n",
       "      <td>161.802349</td>\n",
       "      <td>0.467925</td>\n",
       "      <td>31.99068</td>\n",
       "      <td>29.768904</td>\n",
       "      <td>0.452158</td>\n",
       "    </tr>\n",
       "    <tr>\n",
       "      <th>min</th>\n",
       "      <td>1.000000</td>\n",
       "      <td>0.000000</td>\n",
       "      <td>0.00000</td>\n",
       "      <td>0.000000</td>\n",
       "      <td>0.000000</td>\n",
       "    </tr>\n",
       "    <tr>\n",
       "      <th>25%</th>\n",
       "      <td>140.750000</td>\n",
       "      <td>0.200000</td>\n",
       "      <td>23.00000</td>\n",
       "      <td>23.000000</td>\n",
       "      <td>0.000000</td>\n",
       "    </tr>\n",
       "    <tr>\n",
       "      <th>50%</th>\n",
       "      <td>280.500000</td>\n",
       "      <td>0.800000</td>\n",
       "      <td>53.00000</td>\n",
       "      <td>52.000000</td>\n",
       "      <td>0.000000</td>\n",
       "    </tr>\n",
       "    <tr>\n",
       "      <th>75%</th>\n",
       "      <td>420.250000</td>\n",
       "      <td>1.200000</td>\n",
       "      <td>80.00000</td>\n",
       "      <td>77.000000</td>\n",
       "      <td>1.000000</td>\n",
       "    </tr>\n",
       "    <tr>\n",
       "      <th>max</th>\n",
       "      <td>560.000000</td>\n",
       "      <td>1.400000</td>\n",
       "      <td>100.00000</td>\n",
       "      <td>100.000000</td>\n",
       "      <td>1.000000</td>\n",
       "    </tr>\n",
       "  </tbody>\n",
       "</table>\n",
       "</div>"
      ],
      "text/plain": [
       "              S/N  Lesson_Summary  Assignment_Summary  Grade_Point_Average  \\\n",
       "count  560.000000      560.000000           560.00000           560.000000   \n",
       "mean   280.500000        0.717143            51.95000            49.500357   \n",
       "std    161.802349        0.467925            31.99068            29.768904   \n",
       "min      1.000000        0.000000             0.00000             0.000000   \n",
       "25%    140.750000        0.200000            23.00000            23.000000   \n",
       "50%    280.500000        0.800000            53.00000            52.000000   \n",
       "75%    420.250000        1.200000            80.00000            77.000000   \n",
       "max    560.000000        1.400000           100.00000           100.000000   \n",
       "\n",
       "       Intermediate_class_Eligibility  \n",
       "count                      560.000000  \n",
       "mean                         0.285714  \n",
       "std                          0.452158  \n",
       "min                          0.000000  \n",
       "25%                          0.000000  \n",
       "50%                          0.000000  \n",
       "75%                          1.000000  \n",
       "max                          1.000000  "
      ]
     },
     "execution_count": 571,
     "metadata": {},
     "output_type": "execute_result"
    }
   ],
   "source": [
    "citron_data.describe()"
   ]
  },
  {
   "cell_type": "code",
   "execution_count": 572,
   "id": "c6a16d84",
   "metadata": {},
   "outputs": [
    {
     "data": {
      "image/png": "[encoded data removed]",
      "text/plain": [
       "<Figure size 720x576 with 6 Axes>"
      ]
     },
     "metadata": {},
     "output_type": "display_data"
    }
   ],
   "source": [
    "citron_data.hist(figsize=(10,8));"
   ]
  },
  {
   "cell_type": "code",
   "execution_count": 573,
   "id": "66f34f0d",
   "metadata": {},
   "outputs": [
    {
     "data": {
      "image/png": "[encoded data removed]",
      "text/plain": [
       "<Figure size 432x288 with 2 Axes>"
      ]
     },
     "metadata": {},
     "output_type": "display_data"
    }
   ],
   "source": [
    "sb.heatmap(citron_data.corr(), cmap='coolwarm', annot=True);"
   ]
  },
  {
   "cell_type": "code",
   "execution_count": 574,
   "id": "74298711",
   "metadata": {},
   "outputs": [
    {
     "data": {
      "text/plain": [
       "Intermediate_class_Eligibility    1.000000\n",
       "Assignment_Summary                0.588807\n",
       "Grade_Point_Average               0.525385\n",
       "Lesson_Summary                    0.079962\n",
       "S/N                              -0.159207\n",
       "Name: Intermediate_class_Eligibility, dtype: float64"
      ]
     },
     "execution_count": 574,
     "metadata": {},
     "output_type": "execute_result"
    }
   ],
   "source": [
    "corr_col=citron_data.corr()['Intermediate_class_Eligibility'].sort_values(ascending=False)\n",
    "corr_col"
   ]
  },
  {
   "cell_type": "code",
   "execution_count": 575,
   "id": "94ad7b2d",
   "metadata": {},
   "outputs": [
    {
     "data": {
      "text/plain": [
       "Intermediate_class_Eligibility    0.951233\n",
       "S/N                               0.000000\n",
       "Assignment_Summary               -0.050266\n",
       "Grade_Point_Average              -0.072919\n",
       "Lesson_Summary                   -0.108669\n",
       "dtype: float64"
      ]
     },
     "execution_count": 575,
     "metadata": {},
     "output_type": "execute_result"
    }
   ],
   "source": [
    "skewed=citron_data.skew().sort_values(ascending=False)\n",
    "skewed"
   ]
  },
  {
   "cell_type": "markdown",
   "id": "9c5da075",
   "metadata": {},
   "source": [
    "#### Summary EDA\n",
    "-----------------\n",
    "1. m the exploratory data Analysis, The Assignment summary and Grade poin Average columns are correllated with the target variable with correllation value of 0.59 and 0.53 respectively.\n",
    "2. The EDA also indicated that the data provided has no skewness\n",
    "3. The Data is normarlly distributed that contributed to the absent of outliers in the variable provided"
   ]
  },
  {
   "cell_type": "markdown",
   "id": "d66db593",
   "metadata": {},
   "source": [
    "#### DATA PREPROCESSING:"
   ]
  },
  {
   "cell_type": "code",
   "execution_count": 576,
   "id": "a45395a5",
   "metadata": {},
   "outputs": [],
   "source": [
    "target= citron_data['Intermediate_class_Eligibility']\n",
    "citron_p=citron_data.drop(columns=['Intermediate_class_Eligibility'], axis=1)"
   ]
  },
  {
   "cell_type": "code",
   "execution_count": 577,
   "id": "f79c255b",
   "metadata": {},
   "outputs": [],
   "source": [
    "from sklearn.preprocessing import StandardScaler\n",
    "scaler=StandardScaler()\n",
    "transform_df=pd.DataFrame(scaler.fit_transform(citron_p), columns=citron_p.columns)"
   ]
  },
  {
   "cell_type": "code",
   "execution_count": 578,
   "id": "505ccdc1",
   "metadata": {},
   "outputs": [],
   "source": [
    "from sklearn.model_selection import train_test_split\n",
    "X_train, X_test, Y_train,Y_test=train_test_split(citron_p, target, random_state=0, shuffle=True, test_size=.2)"
   ]
  },
  {
   "cell_type": "code",
   "execution_count": 579,
   "id": "e9b6bd5c",
   "metadata": {},
   "outputs": [
    {
     "data": {
      "text/plain": [
       "((448, 4), (112, 4), (448,), (112,))"
      ]
     },
     "execution_count": 579,
     "metadata": {},
     "output_type": "execute_result"
    }
   ],
   "source": [
    "X_train.shape,X_test.shape,Y_train.shape,Y_test.shape"
   ]
  },
  {
   "cell_type": "markdown",
   "id": "5adaf86c",
   "metadata": {},
   "source": [
    "<a id='model'></a>\n",
    "### Data Modelling"
   ]
  },
  {
   "cell_type": "code",
   "execution_count": 580,
   "id": "ef316bff",
   "metadata": {},
   "outputs": [],
   "source": [
    "# IMPORT ALL REQUIRED MODEL FOR PREDICTION PASS IS INTO DICTIONARY\n",
    "from sklearn.linear_model import LogisticRegression\n",
    "from sklearn.tree import DecisionTreeClassifier\n",
    "from sklearn.ensemble import RandomForestClassifier\n",
    "from xgboost import XGBClassifier\n",
    "from sklearn.svm import SVC\n",
    "# import metric library\n",
    "from sklearn.metrics import f1_score\n",
    "from sklearn.metrics import fbeta_score\n",
    "from sklearn.metrics import accuracy_score\n",
    "from sklearn.metrics import precision_score"
   ]
  },
  {
   "cell_type": "code",
   "execution_count": 581,
   "id": "24f799ea",
   "metadata": {},
   "outputs": [],
   "source": [
    "# CREATE A DICTIONARY THAT CONTAIN ALL THE MODEL NEEDED\n",
    "model={'logistic_reg':LogisticRegression(),\n",
    "      'decision_tree':DecisionTreeClassifier(),\n",
    "      'random_classifier': RandomForestClassifier(),\n",
    "      'xgb':XGBClassifier(),\n",
    "      'svc': SVC()}"
   ]
  },
  {
   "cell_type": "code",
   "execution_count": 582,
   "id": "0248fdfa",
   "metadata": {},
   "outputs": [],
   "source": [
    "def check_model(models, x_train,x_test,y_train,y_test):\n",
    "    \"\"\"\n",
    "    model=dictionay\n",
    "    x_train:Training data without label,\n",
    "    x_test:Testing data without label\n",
    "    y_train: training data with label\n",
    "    y_test: testing data with label\n",
    "    \"\"\"\n",
    "    \n",
    "    model_scores=[]\n",
    "    test_scores=[]\n",
    "    names=[]\n",
    "    \n",
    "    for name, model in models.items():\n",
    "        model.fit(x_train,y_train)\n",
    "        predict_train=model.predict(x_train)\n",
    "        model_score=accuracy_score(predict_train,y_train)\n",
    "        model_scores.append(model_score)\n",
    "        predict_test=model.predict(x_test)\n",
    "        test_score=accuracy_score(predict_test,y_test)\n",
    "        test_scores.append(test_score)\n",
    "        names.append(name)\n",
    "        df= pd.DataFrame({'Name':names,'Train_score':model_scores,\n",
    "                          'Test_score':test_scores})\n",
    "    return df"
   ]
  },
  {
   "cell_type": "code",
   "execution_count": 583,
   "id": "458f2841",
   "metadata": {},
   "outputs": [
    {
     "data": {
      "text/html": [
       "<div>\n",
       "<style scoped>\n",
       "    .dataframe tbody tr th:only-of-type {\n",
       "        vertical-align: middle;\n",
       "    }\n",
       "\n",
       "    .dataframe tbody tr th {\n",
       "        vertical-align: top;\n",
       "    }\n",
       "\n",
       "    .dataframe thead th {\n",
       "        text-align: right;\n",
       "    }\n",
       "</style>\n",
       "<table border=\"1\" class=\"dataframe\">\n",
       "  <thead>\n",
       "    <tr style=\"text-align: right;\">\n",
       "      <th></th>\n",
       "      <th>Name</th>\n",
       "      <th>Train_score</th>\n",
       "      <th>Test_score</th>\n",
       "    </tr>\n",
       "  </thead>\n",
       "  <tbody>\n",
       "    <tr>\n",
       "      <th>0</th>\n",
       "      <td>logistic_reg</td>\n",
       "      <td>0.941964</td>\n",
       "      <td>0.937500</td>\n",
       "    </tr>\n",
       "    <tr>\n",
       "      <th>1</th>\n",
       "      <td>decision_tree</td>\n",
       "      <td>1.000000</td>\n",
       "      <td>1.000000</td>\n",
       "    </tr>\n",
       "    <tr>\n",
       "      <th>2</th>\n",
       "      <td>random_classifier</td>\n",
       "      <td>1.000000</td>\n",
       "      <td>1.000000</td>\n",
       "    </tr>\n",
       "    <tr>\n",
       "      <th>3</th>\n",
       "      <td>xgb</td>\n",
       "      <td>1.000000</td>\n",
       "      <td>1.000000</td>\n",
       "    </tr>\n",
       "    <tr>\n",
       "      <th>4</th>\n",
       "      <td>svc</td>\n",
       "      <td>0.912946</td>\n",
       "      <td>0.919643</td>\n",
       "    </tr>\n",
       "  </tbody>\n",
       "</table>\n",
       "</div>"
      ],
      "text/plain": [
       "                Name  Train_score  Test_score\n",
       "0       logistic_reg     0.941964    0.937500\n",
       "1      decision_tree     1.000000    1.000000\n",
       "2  random_classifier     1.000000    1.000000\n",
       "3                xgb     1.000000    1.000000\n",
       "4                svc     0.912946    0.919643"
      ]
     },
     "execution_count": 583,
     "metadata": {},
     "output_type": "execute_result"
    }
   ],
   "source": [
    "check_model(models=model, \n",
    "            x_train=X_train,\n",
    "            x_test=X_test,\n",
    "            y_train=Y_train,\n",
    "            y_test=Y_test) "
   ]
  },
  {
   "cell_type": "markdown",
   "id": "ac6c7dca",
   "metadata": {},
   "source": [
    "It is clearly shows that Logistic regression work best in the modeling of both the train and test data with 94.2% and 93.8% respectively"
   ]
  },
  {
   "cell_type": "code",
   "execution_count": 585,
   "id": "744d3333",
   "metadata": {},
   "outputs": [],
   "source": [
    "log_m=LogisticRegression()\n",
    "log_m.fit(X_train,Y_train)\n",
    "model_pred=log_m.predict(X_train)"
   ]
  },
  {
   "cell_type": "code",
   "execution_count": 588,
   "id": "f5064004",
   "metadata": {},
   "outputs": [
    {
     "name": "stdout",
     "output_type": "stream",
     "text": [
      "The accuracy score of the train data is 94.0%\n"
     ]
    }
   ],
   "source": [
    "print('The accuracy score of the train data is {}%'. format(round(accuracy_score(model_pred,Y_train),2)*100))"
   ]
  },
  {
   "cell_type": "code",
   "execution_count": 504,
   "id": "2752f2b2",
   "metadata": {},
   "outputs": [
    {
     "name": "stdout",
     "output_type": "stream",
     "text": [
      "The accuracy score of the test data is 93.8%\n"
     ]
    }
   ],
   "source": [
    "test_pred=log_m.predict(X_test)\n",
    "print('The accuracy score of the test data is {}%'. format(round(accuracy_score(test_pred,Y_test),3)*100))"
   ]
  },
  {
   "cell_type": "code",
   "execution_count": 505,
   "id": "391f23d3",
   "metadata": {},
   "outputs": [],
   "source": [
    "from sklearn.model_selection import cross_val_predict, cross_val_score\n",
    "from sklearn.metrics import f1_score, recall_score, confusion_matrix"
   ]
  },
  {
   "cell_type": "code",
   "execution_count": 506,
   "id": "5270ab92",
   "metadata": {},
   "outputs": [
    {
     "data": {
      "text/plain": [
       "array([0.94666667, 0.91275168, 0.95302013])"
      ]
     },
     "execution_count": 506,
     "metadata": {},
     "output_type": "execute_result"
    }
   ],
   "source": [
    "cross_val_score(log_m, X_train,Y_train, cv=3, scoring='accuracy')"
   ]
  },
  {
   "cell_type": "code",
   "execution_count": 507,
   "id": "a63fdab7",
   "metadata": {},
   "outputs": [],
   "source": [
    "predict_scor=cross_val_predict(log_m, X_test,Y_test,cv=3)"
   ]
  },
  {
   "cell_type": "code",
   "execution_count": 508,
   "id": "4691967c",
   "metadata": {},
   "outputs": [
    {
     "data": {
      "text/plain": [
       "0.8214285714285714"
      ]
     },
     "execution_count": 508,
     "metadata": {},
     "output_type": "execute_result"
    }
   ],
   "source": [
    "#check for precision score of the pred_score\n",
    "precision_score(predict_scor,Y_test)"
   ]
  },
  {
   "cell_type": "code",
   "execution_count": 509,
   "id": "266286f3",
   "metadata": {},
   "outputs": [
    {
     "data": {
      "text/plain": [
       "0.8518518518518519"
      ]
     },
     "execution_count": 509,
     "metadata": {},
     "output_type": "execute_result"
    }
   ],
   "source": [
    "recall_score(predict_scor, Y_test)"
   ]
  },
  {
   "cell_type": "code",
   "execution_count": 510,
   "id": "48581111",
   "metadata": {},
   "outputs": [
    {
     "data": {
      "text/plain": [
       "0.8363636363636364"
      ]
     },
     "execution_count": 510,
     "metadata": {},
     "output_type": "execute_result"
    }
   ],
   "source": [
    "f1_score(predict_scor,Y_test)"
   ]
  },
  {
   "cell_type": "code",
   "execution_count": 511,
   "id": "d8ee8508",
   "metadata": {},
   "outputs": [
    {
     "data": {
      "text/plain": [
       "array([[80,  5],\n",
       "       [ 4, 23]], dtype=int64)"
      ]
     },
     "execution_count": 511,
     "metadata": {},
     "output_type": "execute_result"
    }
   ],
   "source": [
    "confusion_matrix(predict_scor, Y_test)"
   ]
  },
  {
   "cell_type": "markdown",
   "id": "e667288b",
   "metadata": {},
   "source": [
    "The confusion matrix here shows that tendencies of student to be eligible for the intermediate class is higher Once the requirement is met. This include TP- 80, FP-5 FN-4 and TN- 23 "
   ]
  },
  {
   "cell_type": "markdown",
   "id": "2c126e3e",
   "metadata": {},
   "source": [
    "#### Columns that serve as best features to the outcome of the model"
   ]
  },
  {
   "cell_type": "code",
   "execution_count": 512,
   "id": "7724481b",
   "metadata": {},
   "outputs": [
    {
     "name": "stdout",
     "output_type": "stream",
     "text": [
      "Grade_Point_Average 0.221 +/- 0.034\n",
      "Assignment_Summary 0.197 +/- 0.024\n",
      "S/N      0.015 +/- 0.006\n"
     ]
    }
   ],
   "source": [
    "from sklearn.inspection import permutation_importance\n",
    "m= permutation_importance(log_m, X_test,Y_test, \n",
    "                                            n_repeats=30, random_state=0)\n",
    "for x in m.importances_mean.argsort()[::-1]:\n",
    "    if m.importances_mean[x] - 2 * m.importances_std[x] > 0:\n",
    "        print(f\"{citron_data.columns[x]:<8}\"\n",
    "              f\" {m.importances_mean[x]:.3f}\"\n",
    "              f\" +/- {m.importances_std[x]:.3f}\")"
   ]
  },
  {
   "cell_type": "markdown",
   "id": "9e31651d",
   "metadata": {},
   "source": [
    "From the above observation, it is discovered that Grade point Average contributed more to the performance of our model, which has earlier been noted in the correlation heatmap with 0.59 correlation value, The permutation_importance has really authenticate the fact and make the prove more significant."
   ]
  },
  {
   "cell_type": "markdown",
   "id": "b04805f9",
   "metadata": {},
   "source": [
    "#### Perform HyperParameter Tunning"
   ]
  },
  {
   "cell_type": "code",
   "execution_count": 513,
   "id": "6f8d644a",
   "metadata": {},
   "outputs": [],
   "source": [
    "from sklearn.model_selection import GridSearchCV\n",
    "import warnings\n",
    "warnings.filterwarnings('ignore')"
   ]
  },
  {
   "cell_type": "code",
   "execution_count": 514,
   "id": "dfcd5824",
   "metadata": {},
   "outputs": [],
   "source": [
    "parameter={'penalty':['l2'],\n",
    "          'C': np.logspace(1,3,7)\n",
    "          ,'solver':['lbfgs','newton-cg','liblinear'],\n",
    "          'max_iter':[100]}"
   ]
  },
  {
   "cell_type": "code",
   "execution_count": 515,
   "id": "35270b02",
   "metadata": {},
   "outputs": [],
   "source": [
    "grid_model=GridSearchCV(log_m, param_grid=parameter,scoring='accuracy',cv=3)"
   ]
  },
  {
   "cell_type": "code",
   "execution_count": 516,
   "id": "f617d461",
   "metadata": {},
   "outputs": [
    {
     "data": {
      "text/plain": [
       "GridSearchCV(cv=3, estimator=LogisticRegression(),\n",
       "             param_grid={'C': array([  10.        ,   21.5443469 ,   46.41588834,  100.        ,\n",
       "        215.443469  ,  464.15888336, 1000.        ]),\n",
       "                         'max_iter': [100], 'penalty': ['l2'],\n",
       "                         'solver': ['lbfgs', 'newton-cg', 'liblinear']},\n",
       "             scoring='accuracy')"
      ]
     },
     "execution_count": 516,
     "metadata": {},
     "output_type": "execute_result"
    }
   ],
   "source": [
    "grid_model.fit(X_train,Y_train)"
   ]
  },
  {
   "cell_type": "code",
   "execution_count": 517,
   "id": "4c8ef559",
   "metadata": {},
   "outputs": [
    {
     "data": {
      "text/plain": [
       "array([0.86956522, 0.91304348, 1.        , 0.90909091, 0.95454545])"
      ]
     },
     "execution_count": 517,
     "metadata": {},
     "output_type": "execute_result"
    }
   ],
   "source": [
    "final_model=grid_model.best_estimator_\n",
    "cross_val_score(final_model,X_test,Y_test,scoring='accuracy')"
   ]
  },
  {
   "cell_type": "code",
   "execution_count": 518,
   "id": "50492bca",
   "metadata": {},
   "outputs": [],
   "source": [
    "pred=cross_val_predict(final_model,X_test,Y_test)"
   ]
  },
  {
   "cell_type": "code",
   "execution_count": 519,
   "id": "407e770f",
   "metadata": {},
   "outputs": [
    {
     "data": {
      "text/plain": [
       "array([[81,  5],\n",
       "       [ 3, 23]], dtype=int64)"
      ]
     },
     "execution_count": 519,
     "metadata": {},
     "output_type": "execute_result"
    }
   ],
   "source": [
    "confusion_matrix(pred,Y_test)"
   ]
  },
  {
   "cell_type": "code",
   "execution_count": 520,
   "id": "bf2ee912",
   "metadata": {},
   "outputs": [
    {
     "name": "stdout",
     "output_type": "stream",
     "text": [
      "Tunned Hyperparameter: {'C': 10.0, 'max_iter': 100, 'penalty': 'l2', 'solver': 'lbfgs'}\n",
      "Accuracy: 0.9374794929157346\n"
     ]
    }
   ],
   "source": [
    "print('Tunned Hyperparameter:', grid_model.best_params_)\n",
    "print('Accuracy:', grid_model.best_score_)"
   ]
  },
  {
   "cell_type": "code",
   "execution_count": 521,
   "id": "dc6e1c24",
   "metadata": {},
   "outputs": [
    {
     "name": "stdout",
     "output_type": "stream",
     "text": [
      "accuracy score after tunning: 0.9375\n"
     ]
    }
   ],
   "source": [
    "log=LogisticRegression(C=10.0,penalty='l2',solver='lbfgs')\n",
    "log.fit(X_train,Y_train)\n",
    "y_pred=log.predict(X_test)\n",
    "print('accuracy score after tunning:', accuracy_score(y_pred,Y_test))"
   ]
  },
  {
   "cell_type": "markdown",
   "id": "7886e633",
   "metadata": {},
   "source": [
    "With Hyperparrameter Tunning the model performance make no changes to its output"
   ]
  },
  {
   "cell_type": "markdown",
   "id": "953745dd",
   "metadata": {},
   "source": [
    "<a id='conclusions'></a>\n",
    "### Conclusion"
   ]
  },
  {
   "cell_type": "markdown",
   "id": "d31d8f64",
   "metadata": {},
   "source": [
    "1. The best model used for the prediction LogisticRegression  with train accuracy of 94% and test accuracy of 93.8%\n",
    "2. The confussion matrix of the model indicated it perfection looking at the top right i.e type 1 error of 5 and type 2 error of 4\n",
    "3. The best parameter that contributed to the success of the model is Grade point Average and assignment summary with correllation value of 0.59 and 0.53 respectively\n",
    "4. The model did not posses any change even after hyperparameter Tunning\n",
    "\n",
    "#### LIMITATION\n",
    "> Few dataset provided which initially indering the performance of the model, More data added to improve the model performance"
   ]
  },
  {
   "cell_type": "code",
   "execution_count": null,
   "id": "3b6c992a",
   "metadata": {},
   "outputs": [],
   "source": [
    "  "
   ]
  }
 ],
 "metadata": {
  "kernelspec": {
   "display_name": "Python 3 (ipykernel)",
   "language": "python",
   "name": "python3"
  },
  "language_info": {
   "codemirror_mode": {
    "name": "ipython",
    "version": 3
   },
   "file_extension": ".py",
   "mimetype": "text/x-python",
   "name": "python",
   "nbconvert_exporter": "python",
   "pygments_lexer": "ipython3",
   "version": "3.9.12"
  }
 },
 "nbformat": 4,
 "nbformat_minor": 5
}
