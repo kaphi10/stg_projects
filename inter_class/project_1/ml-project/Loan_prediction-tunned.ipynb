{
 "cells": [
  {
   "cell_type": "markdown",
   "id": "6b618f89",
   "metadata": {},
   "source": [
    "#### Introduction\n",
    "The Loan eligibility/prediction data set is a popular data set used in machine learning and data analysis. The dataset contains information about loan applicants and whether they were approved or not for a loan.\n",
    "The data set include the following variable\n",
    "1. Loan ID: Unique identifier for each loan\n",
    "2. Gender: Gender of the applicant (Male/Female)\n",
    "3. Married: Marital status of the applicant (Yes/No)\n",
    "4. Dependents: Number of dependents the applicant has\n",
    "5. Education: Education level of the applicant (Graduate/Not Graduate)\n",
    "6. Self Employed: Whether the applicant is self-employed or not (Yes/No)\n",
    "7. Applicant Income: Income of the applicant\n",
    "8. Co-applicant Income: Income of the co-applicant\n",
    "9.  Loan Amount: Loan amount applied for\n",
    "10. Loan Amount Term: Term of the loan in months\n",
    "11. Credit History: Credit history of the applicant (1=Good, 0=Bad)\n",
    "12. Property Area: Location of the property (Rural/Semiurban/Urban)\n",
    "13. Loan Status: Whether the loan was approved or not (Y=Yes, N=No)\n",
    "\n",
    "#### Aims and Objectives\n",
    "1. To build a predictive model to determine whether a loan applicantion will be approve or not\n",
    "2. To build a model that best predict our target variable and get the accuracy of the model\n",
    "\n",
    ">The target variable is \"Loan Status\", which is a binary variable indicating whether the loan was approved or not. The other variables can be used as predictors in the model."
   ]
  },
  {
   "cell_type": "code",
   "execution_count": 285,
   "id": "23c48fb0",
   "metadata": {},
   "outputs": [],
   "source": [
    "import pandas as pd\n",
    "import numpy as np\n",
    "import matplotlib.pyplot as plt\n",
    "import seaborn as sb\n",
    "from sklearn.preprocessing import OneHotEncoder\n",
    "from sklearn.preprocessing import StandardScaler"
   ]
  },
  {
   "cell_type": "code",
   "execution_count": 286,
   "id": "8c69c645",
   "metadata": {},
   "outputs": [
    {
     "data": {
      "text/html": [
       "<div>\n",
       "<style scoped>\n",
       "    .dataframe tbody tr th:only-of-type {\n",
       "        vertical-align: middle;\n",
       "    }\n",
       "\n",
       "    .dataframe tbody tr th {\n",
       "        vertical-align: top;\n",
       "    }\n",
       "\n",
       "    .dataframe thead th {\n",
       "        text-align: right;\n",
       "    }\n",
       "</style>\n",
       "<table border=\"1\" class=\"dataframe\">\n",
       "  <thead>\n",
       "    <tr style=\"text-align: right;\">\n",
       "      <th></th>\n",
       "      <th>Loan_ID</th>\n",
       "      <th>Gender</th>\n",
       "      <th>Married</th>\n",
       "      <th>Dependents</th>\n",
       "      <th>Education</th>\n",
       "      <th>Self_Employed</th>\n",
       "      <th>ApplicantIncome</th>\n",
       "      <th>CoapplicantIncome</th>\n",
       "      <th>LoanAmount</th>\n",
       "      <th>Loan_Amount_Term</th>\n",
       "      <th>Credit_History</th>\n",
       "      <th>Property_Area</th>\n",
       "      <th>Loan_Status</th>\n",
       "    </tr>\n",
       "  </thead>\n",
       "  <tbody>\n",
       "    <tr>\n",
       "      <th>0</th>\n",
       "      <td>LP001002</td>\n",
       "      <td>Male</td>\n",
       "      <td>No</td>\n",
       "      <td>0</td>\n",
       "      <td>Graduate</td>\n",
       "      <td>No</td>\n",
       "      <td>5849</td>\n",
       "      <td>0.0</td>\n",
       "      <td>NaN</td>\n",
       "      <td>360.0</td>\n",
       "      <td>1.0</td>\n",
       "      <td>Urban</td>\n",
       "      <td>Y</td>\n",
       "    </tr>\n",
       "    <tr>\n",
       "      <th>1</th>\n",
       "      <td>LP001003</td>\n",
       "      <td>Male</td>\n",
       "      <td>Yes</td>\n",
       "      <td>1</td>\n",
       "      <td>Graduate</td>\n",
       "      <td>No</td>\n",
       "      <td>4583</td>\n",
       "      <td>1508.0</td>\n",
       "      <td>128.0</td>\n",
       "      <td>360.0</td>\n",
       "      <td>1.0</td>\n",
       "      <td>Rural</td>\n",
       "      <td>N</td>\n",
       "    </tr>\n",
       "    <tr>\n",
       "      <th>2</th>\n",
       "      <td>LP001005</td>\n",
       "      <td>Male</td>\n",
       "      <td>Yes</td>\n",
       "      <td>0</td>\n",
       "      <td>Graduate</td>\n",
       "      <td>Yes</td>\n",
       "      <td>3000</td>\n",
       "      <td>0.0</td>\n",
       "      <td>66.0</td>\n",
       "      <td>360.0</td>\n",
       "      <td>1.0</td>\n",
       "      <td>Urban</td>\n",
       "      <td>Y</td>\n",
       "    </tr>\n",
       "    <tr>\n",
       "      <th>3</th>\n",
       "      <td>LP001006</td>\n",
       "      <td>Male</td>\n",
       "      <td>Yes</td>\n",
       "      <td>0</td>\n",
       "      <td>Not Graduate</td>\n",
       "      <td>No</td>\n",
       "      <td>2583</td>\n",
       "      <td>2358.0</td>\n",
       "      <td>120.0</td>\n",
       "      <td>360.0</td>\n",
       "      <td>1.0</td>\n",
       "      <td>Urban</td>\n",
       "      <td>Y</td>\n",
       "    </tr>\n",
       "    <tr>\n",
       "      <th>4</th>\n",
       "      <td>LP001008</td>\n",
       "      <td>Male</td>\n",
       "      <td>No</td>\n",
       "      <td>0</td>\n",
       "      <td>Graduate</td>\n",
       "      <td>No</td>\n",
       "      <td>6000</td>\n",
       "      <td>0.0</td>\n",
       "      <td>141.0</td>\n",
       "      <td>360.0</td>\n",
       "      <td>1.0</td>\n",
       "      <td>Urban</td>\n",
       "      <td>Y</td>\n",
       "    </tr>\n",
       "  </tbody>\n",
       "</table>\n",
       "</div>"
      ],
      "text/plain": [
       "    Loan_ID Gender Married Dependents     Education Self_Employed  \\\n",
       "0  LP001002   Male      No          0      Graduate            No   \n",
       "1  LP001003   Male     Yes          1      Graduate            No   \n",
       "2  LP001005   Male     Yes          0      Graduate           Yes   \n",
       "3  LP001006   Male     Yes          0  Not Graduate            No   \n",
       "4  LP001008   Male      No          0      Graduate            No   \n",
       "\n",
       "   ApplicantIncome  CoapplicantIncome  LoanAmount  Loan_Amount_Term  \\\n",
       "0             5849                0.0         NaN             360.0   \n",
       "1             4583             1508.0       128.0             360.0   \n",
       "2             3000                0.0        66.0             360.0   \n",
       "3             2583             2358.0       120.0             360.0   \n",
       "4             6000                0.0       141.0             360.0   \n",
       "\n",
       "   Credit_History Property_Area Loan_Status  \n",
       "0             1.0         Urban           Y  \n",
       "1             1.0         Rural           N  \n",
       "2             1.0         Urban           Y  \n",
       "3             1.0         Urban           Y  \n",
       "4             1.0         Urban           Y  "
      ]
     },
     "execution_count": 286,
     "metadata": {},
     "output_type": "execute_result"
    }
   ],
   "source": [
    "loan_df=pd.read_csv('loan_data_set.csv')\n",
    "loan_df.head()"
   ]
  },
  {
   "cell_type": "code",
   "execution_count": 287,
   "id": "fee8173f",
   "metadata": {},
   "outputs": [
    {
     "data": {
      "text/html": [
       "<div>\n",
       "<style scoped>\n",
       "    .dataframe tbody tr th:only-of-type {\n",
       "        vertical-align: middle;\n",
       "    }\n",
       "\n",
       "    .dataframe tbody tr th {\n",
       "        vertical-align: top;\n",
       "    }\n",
       "\n",
       "    .dataframe thead th {\n",
       "        text-align: right;\n",
       "    }\n",
       "</style>\n",
       "<table border=\"1\" class=\"dataframe\">\n",
       "  <thead>\n",
       "    <tr style=\"text-align: right;\">\n",
       "      <th></th>\n",
       "      <th>Loan_ID</th>\n",
       "      <th>Gender</th>\n",
       "      <th>Married</th>\n",
       "      <th>Dependents</th>\n",
       "      <th>Education</th>\n",
       "      <th>Self_Employed</th>\n",
       "      <th>ApplicantIncome</th>\n",
       "      <th>CoapplicantIncome</th>\n",
       "      <th>LoanAmount</th>\n",
       "      <th>Loan_Amount_Term</th>\n",
       "      <th>Credit_History</th>\n",
       "      <th>Property_Area</th>\n",
       "      <th>Loan_Status</th>\n",
       "    </tr>\n",
       "  </thead>\n",
       "  <tbody>\n",
       "    <tr>\n",
       "      <th>609</th>\n",
       "      <td>LP002978</td>\n",
       "      <td>Female</td>\n",
       "      <td>No</td>\n",
       "      <td>0</td>\n",
       "      <td>Graduate</td>\n",
       "      <td>No</td>\n",
       "      <td>2900</td>\n",
       "      <td>0.0</td>\n",
       "      <td>71.0</td>\n",
       "      <td>360.0</td>\n",
       "      <td>1.0</td>\n",
       "      <td>Rural</td>\n",
       "      <td>Y</td>\n",
       "    </tr>\n",
       "    <tr>\n",
       "      <th>610</th>\n",
       "      <td>LP002979</td>\n",
       "      <td>Male</td>\n",
       "      <td>Yes</td>\n",
       "      <td>3+</td>\n",
       "      <td>Graduate</td>\n",
       "      <td>No</td>\n",
       "      <td>4106</td>\n",
       "      <td>0.0</td>\n",
       "      <td>40.0</td>\n",
       "      <td>180.0</td>\n",
       "      <td>1.0</td>\n",
       "      <td>Rural</td>\n",
       "      <td>Y</td>\n",
       "    </tr>\n",
       "    <tr>\n",
       "      <th>611</th>\n",
       "      <td>LP002983</td>\n",
       "      <td>Male</td>\n",
       "      <td>Yes</td>\n",
       "      <td>1</td>\n",
       "      <td>Graduate</td>\n",
       "      <td>No</td>\n",
       "      <td>8072</td>\n",
       "      <td>240.0</td>\n",
       "      <td>253.0</td>\n",
       "      <td>360.0</td>\n",
       "      <td>1.0</td>\n",
       "      <td>Urban</td>\n",
       "      <td>Y</td>\n",
       "    </tr>\n",
       "    <tr>\n",
       "      <th>612</th>\n",
       "      <td>LP002984</td>\n",
       "      <td>Male</td>\n",
       "      <td>Yes</td>\n",
       "      <td>2</td>\n",
       "      <td>Graduate</td>\n",
       "      <td>No</td>\n",
       "      <td>7583</td>\n",
       "      <td>0.0</td>\n",
       "      <td>187.0</td>\n",
       "      <td>360.0</td>\n",
       "      <td>1.0</td>\n",
       "      <td>Urban</td>\n",
       "      <td>Y</td>\n",
       "    </tr>\n",
       "    <tr>\n",
       "      <th>613</th>\n",
       "      <td>LP002990</td>\n",
       "      <td>Female</td>\n",
       "      <td>No</td>\n",
       "      <td>0</td>\n",
       "      <td>Graduate</td>\n",
       "      <td>Yes</td>\n",
       "      <td>4583</td>\n",
       "      <td>0.0</td>\n",
       "      <td>133.0</td>\n",
       "      <td>360.0</td>\n",
       "      <td>0.0</td>\n",
       "      <td>Semiurban</td>\n",
       "      <td>N</td>\n",
       "    </tr>\n",
       "  </tbody>\n",
       "</table>\n",
       "</div>"
      ],
      "text/plain": [
       "      Loan_ID  Gender Married Dependents Education Self_Employed  \\\n",
       "609  LP002978  Female      No          0  Graduate            No   \n",
       "610  LP002979    Male     Yes         3+  Graduate            No   \n",
       "611  LP002983    Male     Yes          1  Graduate            No   \n",
       "612  LP002984    Male     Yes          2  Graduate            No   \n",
       "613  LP002990  Female      No          0  Graduate           Yes   \n",
       "\n",
       "     ApplicantIncome  CoapplicantIncome  LoanAmount  Loan_Amount_Term  \\\n",
       "609             2900                0.0        71.0             360.0   \n",
       "610             4106                0.0        40.0             180.0   \n",
       "611             8072              240.0       253.0             360.0   \n",
       "612             7583                0.0       187.0             360.0   \n",
       "613             4583                0.0       133.0             360.0   \n",
       "\n",
       "     Credit_History Property_Area Loan_Status  \n",
       "609             1.0         Rural           Y  \n",
       "610             1.0         Rural           Y  \n",
       "611             1.0         Urban           Y  \n",
       "612             1.0         Urban           Y  \n",
       "613             0.0     Semiurban           N  "
      ]
     },
     "execution_count": 287,
     "metadata": {},
     "output_type": "execute_result"
    }
   ],
   "source": [
    "loan_df.tail()"
   ]
  },
  {
   "cell_type": "code",
   "execution_count": 288,
   "id": "5c4869d5",
   "metadata": {},
   "outputs": [
    {
     "name": "stdout",
     "output_type": "stream",
     "text": [
      "<class 'pandas.core.frame.DataFrame'>\n",
      "RangeIndex: 614 entries, 0 to 613\n",
      "Data columns (total 13 columns):\n",
      " #   Column             Non-Null Count  Dtype  \n",
      "---  ------             --------------  -----  \n",
      " 0   Loan_ID            614 non-null    object \n",
      " 1   Gender             601 non-null    object \n",
      " 2   Married            611 non-null    object \n",
      " 3   Dependents         599 non-null    object \n",
      " 4   Education          614 non-null    object \n",
      " 5   Self_Employed      582 non-null    object \n",
      " 6   ApplicantIncome    614 non-null    int64  \n",
      " 7   CoapplicantIncome  614 non-null    float64\n",
      " 8   LoanAmount         592 non-null    float64\n",
      " 9   Loan_Amount_Term   600 non-null    float64\n",
      " 10  Credit_History     564 non-null    float64\n",
      " 11  Property_Area      614 non-null    object \n",
      " 12  Loan_Status        614 non-null    object \n",
      "dtypes: float64(4), int64(1), object(8)\n",
      "memory usage: 62.5+ KB\n"
     ]
    }
   ],
   "source": [
    "loan_df.info()"
   ]
  },
  {
   "cell_type": "code",
   "execution_count": 289,
   "id": "73339f8e",
   "metadata": {},
   "outputs": [
    {
     "data": {
      "text/plain": [
       "Loan_ID              0.000000\n",
       "Gender               2.117264\n",
       "Married              0.488599\n",
       "Dependents           2.442997\n",
       "Education            0.000000\n",
       "Self_Employed        5.211726\n",
       "ApplicantIncome      0.000000\n",
       "CoapplicantIncome    0.000000\n",
       "LoanAmount           3.583062\n",
       "Loan_Amount_Term     2.280130\n",
       "Credit_History       8.143322\n",
       "Property_Area        0.000000\n",
       "Loan_Status          0.000000\n",
       "dtype: float64"
      ]
     },
     "execution_count": 289,
     "metadata": {},
     "output_type": "execute_result"
    }
   ],
   "source": [
    "loan_df.isna().sum()/len(loan_df)*100"
   ]
  },
  {
   "cell_type": "code",
   "execution_count": 290,
   "id": "2bdc842d",
   "metadata": {},
   "outputs": [],
   "source": [
    "loan_df.drop(columns=['Loan_ID'], inplace=True)"
   ]
  },
  {
   "cell_type": "code",
   "execution_count": 291,
   "id": "ed6f2e7a",
   "metadata": {},
   "outputs": [
    {
     "data": {
      "text/plain": [
       "Y    422\n",
       "N    192\n",
       "Name: Loan_Status, dtype: int64"
      ]
     },
     "execution_count": 291,
     "metadata": {},
     "output_type": "execute_result"
    }
   ],
   "source": [
    "loan_df['Loan_Status'].value_counts()"
   ]
  },
  {
   "cell_type": "code",
   "execution_count": 292,
   "id": "40f7aeb8",
   "metadata": {},
   "outputs": [
    {
     "data": {
      "text/plain": [
       "Gender                 2\n",
       "Married                2\n",
       "Dependents             4\n",
       "Education              2\n",
       "Self_Employed          2\n",
       "ApplicantIncome      505\n",
       "CoapplicantIncome    287\n",
       "LoanAmount           203\n",
       "Loan_Amount_Term      10\n",
       "Credit_History         2\n",
       "Property_Area          3\n",
       "Loan_Status            2\n",
       "dtype: int64"
      ]
     },
     "execution_count": 292,
     "metadata": {},
     "output_type": "execute_result"
    }
   ],
   "source": [
    "loan_df.nunique()"
   ]
  },
  {
   "cell_type": "code",
   "execution_count": 293,
   "id": "de955482",
   "metadata": {},
   "outputs": [
    {
     "data": {
      "text/plain": [
       "0     345\n",
       "1     102\n",
       "2     101\n",
       "3+     51\n",
       "Name: Dependents, dtype: int64"
      ]
     },
     "execution_count": 293,
     "metadata": {},
     "output_type": "execute_result"
    }
   ],
   "source": [
    "loan_df['Dependents'].value_counts()"
   ]
  },
  {
   "cell_type": "code",
   "execution_count": 294,
   "id": "df042281",
   "metadata": {},
   "outputs": [],
   "source": [
    "for col in loan_df.columns:\n",
    "    if col is loan_df['Self_Employed']:\n",
    "        mode=loan_df[col].mode()\n",
    "        loan_df[col]=loan_df[col].fillna(mode)\n",
    "    elif col is loan_df['Credit_History']:\n",
    "        mean=loan_df[col].mean()\n",
    "        loan_df[col]=loan_df[col].fillna(mean)\n",
    "    else:\n",
    "        loan_df.dropna(inplace=True)"
   ]
  },
  {
   "cell_type": "code",
   "execution_count": 295,
   "id": "56ed3edd",
   "metadata": {},
   "outputs": [
    {
     "data": {
      "text/plain": [
       "Gender               0\n",
       "Married              0\n",
       "Dependents           0\n",
       "Education            0\n",
       "Self_Employed        0\n",
       "ApplicantIncome      0\n",
       "CoapplicantIncome    0\n",
       "LoanAmount           0\n",
       "Loan_Amount_Term     0\n",
       "Credit_History       0\n",
       "Property_Area        0\n",
       "Loan_Status          0\n",
       "dtype: int64"
      ]
     },
     "execution_count": 295,
     "metadata": {},
     "output_type": "execute_result"
    }
   ],
   "source": [
    "loan_df.isna().sum()"
   ]
  },
  {
   "cell_type": "code",
   "execution_count": 296,
   "id": "637baa5f",
   "metadata": {},
   "outputs": [],
   "source": [
    "#let map the loan status columns with 1 and 0\n",
    "loan_df['Loan_Status']=loan_df['Loan_Status'].map({'N':0,'Y':1})"
   ]
  },
  {
   "cell_type": "code",
   "execution_count": 297,
   "id": "cec4a568",
   "metadata": {},
   "outputs": [
    {
     "data": {
      "image/png": "[encoded data removed]",
      "text/plain": [
       "<Figure size 864x504 with 6 Axes>"
      ]
     },
     "metadata": {
      "needs_background": "light"
     },
     "output_type": "display_data"
    }
   ],
   "source": [
    "loan_df.hist(figsize=(12,7));"
   ]
  },
  {
   "cell_type": "code",
   "execution_count": 298,
   "id": "999e8c7d",
   "metadata": {},
   "outputs": [
    {
     "data": {
      "image/png": "[encoded data removed]",
      "text/plain": [
       "<Figure size 432x288 with 2 Axes>"
      ]
     },
     "metadata": {
      "needs_background": "light"
     },
     "output_type": "display_data"
    }
   ],
   "source": [
    "sb.heatmap(loan_df.corr(), cmap='coolwarm', annot=True);"
   ]
  },
  {
   "cell_type": "markdown",
   "id": "0db3c08d",
   "metadata": {},
   "source": [
    "#### Observation\n",
    "Credit History play a vital role in detecting the loan status"
   ]
  },
  {
   "cell_type": "code",
   "execution_count": 299,
   "id": "8dbb06bd",
   "metadata": {},
   "outputs": [
    {
     "data": {
      "text/html": [
       "<div>\n",
       "<style scoped>\n",
       "    .dataframe tbody tr th:only-of-type {\n",
       "        vertical-align: middle;\n",
       "    }\n",
       "\n",
       "    .dataframe tbody tr th {\n",
       "        vertical-align: top;\n",
       "    }\n",
       "\n",
       "    .dataframe thead th {\n",
       "        text-align: right;\n",
       "    }\n",
       "</style>\n",
       "<table border=\"1\" class=\"dataframe\">\n",
       "  <thead>\n",
       "    <tr style=\"text-align: right;\">\n",
       "      <th></th>\n",
       "      <th>ApplicantIncome</th>\n",
       "      <th>CoapplicantIncome</th>\n",
       "      <th>LoanAmount</th>\n",
       "      <th>Loan_Amount_Term</th>\n",
       "      <th>Credit_History</th>\n",
       "      <th>Loan_Status</th>\n",
       "    </tr>\n",
       "  </thead>\n",
       "  <tbody>\n",
       "    <tr>\n",
       "      <th>count</th>\n",
       "      <td>480.000000</td>\n",
       "      <td>480.000000</td>\n",
       "      <td>480.000000</td>\n",
       "      <td>480.000000</td>\n",
       "      <td>480.000000</td>\n",
       "      <td>480.000000</td>\n",
       "    </tr>\n",
       "    <tr>\n",
       "      <th>mean</th>\n",
       "      <td>5364.231250</td>\n",
       "      <td>1581.093583</td>\n",
       "      <td>144.735417</td>\n",
       "      <td>342.050000</td>\n",
       "      <td>0.854167</td>\n",
       "      <td>0.691667</td>\n",
       "    </tr>\n",
       "    <tr>\n",
       "      <th>std</th>\n",
       "      <td>5668.251251</td>\n",
       "      <td>2617.692267</td>\n",
       "      <td>80.508164</td>\n",
       "      <td>65.212401</td>\n",
       "      <td>0.353307</td>\n",
       "      <td>0.462287</td>\n",
       "    </tr>\n",
       "    <tr>\n",
       "      <th>min</th>\n",
       "      <td>150.000000</td>\n",
       "      <td>0.000000</td>\n",
       "      <td>9.000000</td>\n",
       "      <td>36.000000</td>\n",
       "      <td>0.000000</td>\n",
       "      <td>0.000000</td>\n",
       "    </tr>\n",
       "    <tr>\n",
       "      <th>25%</th>\n",
       "      <td>2898.750000</td>\n",
       "      <td>0.000000</td>\n",
       "      <td>100.000000</td>\n",
       "      <td>360.000000</td>\n",
       "      <td>1.000000</td>\n",
       "      <td>0.000000</td>\n",
       "    </tr>\n",
       "    <tr>\n",
       "      <th>50%</th>\n",
       "      <td>3859.000000</td>\n",
       "      <td>1084.500000</td>\n",
       "      <td>128.000000</td>\n",
       "      <td>360.000000</td>\n",
       "      <td>1.000000</td>\n",
       "      <td>1.000000</td>\n",
       "    </tr>\n",
       "    <tr>\n",
       "      <th>75%</th>\n",
       "      <td>5852.500000</td>\n",
       "      <td>2253.250000</td>\n",
       "      <td>170.000000</td>\n",
       "      <td>360.000000</td>\n",
       "      <td>1.000000</td>\n",
       "      <td>1.000000</td>\n",
       "    </tr>\n",
       "    <tr>\n",
       "      <th>max</th>\n",
       "      <td>81000.000000</td>\n",
       "      <td>33837.000000</td>\n",
       "      <td>600.000000</td>\n",
       "      <td>480.000000</td>\n",
       "      <td>1.000000</td>\n",
       "      <td>1.000000</td>\n",
       "    </tr>\n",
       "  </tbody>\n",
       "</table>\n",
       "</div>"
      ],
      "text/plain": [
       "       ApplicantIncome  CoapplicantIncome  LoanAmount  Loan_Amount_Term  \\\n",
       "count       480.000000         480.000000  480.000000        480.000000   \n",
       "mean       5364.231250        1581.093583  144.735417        342.050000   \n",
       "std        5668.251251        2617.692267   80.508164         65.212401   \n",
       "min         150.000000           0.000000    9.000000         36.000000   \n",
       "25%        2898.750000           0.000000  100.000000        360.000000   \n",
       "50%        3859.000000        1084.500000  128.000000        360.000000   \n",
       "75%        5852.500000        2253.250000  170.000000        360.000000   \n",
       "max       81000.000000       33837.000000  600.000000        480.000000   \n",
       "\n",
       "       Credit_History  Loan_Status  \n",
       "count      480.000000   480.000000  \n",
       "mean         0.854167     0.691667  \n",
       "std          0.353307     0.462287  \n",
       "min          0.000000     0.000000  \n",
       "25%          1.000000     0.000000  \n",
       "50%          1.000000     1.000000  \n",
       "75%          1.000000     1.000000  \n",
       "max          1.000000     1.000000  "
      ]
     },
     "execution_count": 299,
     "metadata": {},
     "output_type": "execute_result"
    }
   ],
   "source": [
    "loan_df.describe()"
   ]
  },
  {
   "cell_type": "code",
   "execution_count": 300,
   "id": "2bf9da2a",
   "metadata": {},
   "outputs": [
    {
     "data": {
      "text/plain": [
       "Index(['ApplicantIncome', 'CoapplicantIncome', 'LoanAmount',\n",
       "       'Loan_Amount_Term', 'Credit_History', 'Loan_Status'],\n",
       "      dtype='object')"
      ]
     },
     "execution_count": 300,
     "metadata": {},
     "output_type": "execute_result"
    }
   ],
   "source": [
    "#let select num_col\n",
    "num_col=loan_df.select_dtypes('number').columns\n",
    "num_col"
   ]
  },
  {
   "cell_type": "code",
   "execution_count": 301,
   "id": "08a2c484",
   "metadata": {},
   "outputs": [],
   "source": [
    "loan1=loan_df.copy()\n",
    "loan_label=loan_df['Loan_Status']\n",
    "loan_df.drop('Loan_Status', axis=1, inplace=True)"
   ]
  },
  {
   "cell_type": "code",
   "execution_count": 302,
   "id": "a4ae3c09",
   "metadata": {},
   "outputs": [
    {
     "data": {
      "text/plain": [
       "ApplicantIncome      6.917027\n",
       "CoapplicantIncome    5.881622\n",
       "LoanAmount           2.361437\n",
       "Credit_History      -2.013253\n",
       "Loan_Amount_Term    -2.333710\n",
       "dtype: float64"
      ]
     },
     "execution_count": 302,
     "metadata": {},
     "output_type": "execute_result"
    }
   ],
   "source": [
    "loan_df.skew().sort_values(ascending=False)"
   ]
  },
  {
   "cell_type": "code",
   "execution_count": 303,
   "id": "38423ff3",
   "metadata": {},
   "outputs": [],
   "source": [
    "skew_col=['ApplicantIncome','CoapplicantIncome','LoanAmount']\n",
    "number_col=list(loan_df.select_dtypes('number').columns)"
   ]
  },
  {
   "cell_type": "code",
   "execution_count": 304,
   "id": "15ddc882",
   "metadata": {},
   "outputs": [],
   "source": [
    "string_col=list(loan_df.select_dtypes('object').columns)"
   ]
  },
  {
   "cell_type": "code",
   "execution_count": 310,
   "id": "a8b7bd13",
   "metadata": {},
   "outputs": [
    {
     "data": {
      "text/plain": [
       "['ApplicantIncome', 'LoanAmount', 'Loan_Amount_Term', 'Credit_History']"
      ]
     },
     "execution_count": 310,
     "metadata": {},
     "output_type": "execute_result"
    }
   ],
   "source": [
    "# Check for outliers columns\n",
    "def outliers_check():\n",
    "    col_store=[]\n",
    "    \n",
    "    for col in loan_df.select_dtypes('number'):\n",
    "        q1=loan_df[col].quantile(.25)\n",
    "        q3=loan_df[col].quantile(.75)\n",
    "        \n",
    "        iqr=q3-q1\n",
    "        lower_out=(loan_df[col] < (q1-(1.5*iqr))).sum()\n",
    "        upper_out=(loan_df[col] > (q3 + (1.5 *iqr))).sum()\n",
    "        \n",
    "        if lower_out > 0 or upper_out >0:\n",
    "            col_store.append(col)\n",
    "    return col_store\n",
    "outlier_col=outliers_check()\n",
    "list(outlier_col)"
   ]
  },
  {
   "cell_type": "markdown",
   "id": "b2e16f84",
   "metadata": {},
   "source": [
    "####  EDA Summary Report\n",
    "While performing the exploratory  data analysis, 'ApplicantIncome','CoapplicantIncome' and 'LoanAmount' columns are mostly skewed which is later nomalized with np.log function, The ouliers columns include 'ApplicantIncome', 'LoanAmount', 'Loan_Amount_Term', 'Credit_History', Loan amount term columns contains more outliers compare to the other three columns\n",
    "While checking for independent variable that mostly contribute to outcome of the terget variable credit history column play a vital role to determine whether a customer can access a loan or not"
   ]
  },
  {
   "cell_type": "code",
   "execution_count": 306,
   "id": "044329d3",
   "metadata": {},
   "outputs": [],
   "source": [
    "from sklearn.preprocessing import StandardScaler\n",
    "scaler=StandardScaler()"
   ]
  },
  {
   "cell_type": "code",
   "execution_count": 307,
   "id": "290c8a3e",
   "metadata": {},
   "outputs": [],
   "source": [
    "loan_df[skew_col]=np.log(loan_df[skew_col]+1)\n",
    "loan_df[number_col]=scaler.fit_transform(loan_df[number_col])"
   ]
  },
  {
   "cell_type": "code",
   "execution_count": 308,
   "id": "a73494d5",
   "metadata": {},
   "outputs": [
    {
     "data": {
      "text/plain": [
       "(480, 11)"
      ]
     },
     "execution_count": 308,
     "metadata": {},
     "output_type": "execute_result"
    }
   ],
   "source": [
    "loan_df.shape"
   ]
  },
  {
   "cell_type": "code",
   "execution_count": 206,
   "id": "5d5f31ea",
   "metadata": {},
   "outputs": [],
   "source": [
    "loan_df=pd.get_dummies(loan_df, string_col)"
   ]
  },
  {
   "cell_type": "code",
   "execution_count": 207,
   "id": "c13e2ea7",
   "metadata": {},
   "outputs": [],
   "source": [
    "# loan_df[string_col]=scaler.fit_transform(loan_df[string_col])"
   ]
  },
  {
   "cell_type": "code",
   "execution_count": 208,
   "id": "355c9a99",
   "metadata": {},
   "outputs": [],
   "source": [
    "from sklearn.model_selection import train_test_split, StratifiedShuffleSplit"
   ]
  },
  {
   "cell_type": "code",
   "execution_count": 209,
   "id": "c89019c3",
   "metadata": {},
   "outputs": [],
   "source": [
    "X_train, X_test, Y_train, Y_test=train_test_split(loan_df,loan_label,random_state=True,shuffle=True,test_size=.2)"
   ]
  },
  {
   "cell_type": "code",
   "execution_count": 210,
   "id": "49120270",
   "metadata": {},
   "outputs": [
    {
     "data": {
      "text/plain": [
       "((384, 20), (96, 20), (384,), (96,))"
      ]
     },
     "execution_count": 210,
     "metadata": {},
     "output_type": "execute_result"
    }
   ],
   "source": [
    "X_train.shape,X_test.shape,Y_train.shape,Y_test.shape"
   ]
  },
  {
   "cell_type": "code",
   "execution_count": 211,
   "id": "bc2b08d9",
   "metadata": {},
   "outputs": [],
   "source": [
    "from sklearn.linear_model import LogisticRegression\n",
    "from sklearn.tree import DecisionTreeClassifier\n",
    "from sklearn.ensemble import RandomForestClassifier\n",
    "from xgboost import XGBClassifier\n",
    "from sklearn.svm import SVC\n",
    "from sklearn.metrics import f1_score\n",
    "from sklearn.metrics import fbeta_score\n",
    "from sklearn.metrics import accuracy_score\n",
    "from sklearn.metrics import precision_score"
   ]
  },
  {
   "cell_type": "code",
   "execution_count": 212,
   "id": "47def291",
   "metadata": {},
   "outputs": [],
   "source": [
    "Models={'Logistic_regression':LogisticRegression(),\n",
    "      'Decesion_tree_Classifier':DecisionTreeClassifier(),\n",
    "      'Random forest classifier': RandomForestClassifier(),\n",
    "      'SVC':SVC(),\n",
    "       'XGB':XGBClassifier()\n",
    "       \n",
    "       }"
   ]
  },
  {
   "cell_type": "code",
   "execution_count": 213,
   "id": "bee71604",
   "metadata": {},
   "outputs": [],
   "source": [
    "TP=loan_label.sum()\n",
    "FP=loan_label.shape[0]-TP\n",
    "TN=0\n",
    "FN=0\n",
    "precision= TP/ TP+FP\n",
    "\n",
    "Recall = TP / TP + FN\n",
    "\n",
    "Accuracy = (TP + TN)/TP + FN + TN + FP"
   ]
  },
  {
   "cell_type": "code",
   "execution_count": 214,
   "id": "4acf3f07",
   "metadata": {},
   "outputs": [],
   "source": [
    "def fit_score(models,X_train,X_test,Y_train,Y_test):\n",
    "    \n",
    "    \"\"\"\n",
    "    fit and evaluate each ML models\n",
    "    Model=dictionary\n",
    "    X_train: training data without label\n",
    "    X_test: Testing data without label\n",
    "    Y_train: training data with label\n",
    "    Y_test: testing data with label\n",
    "    \"\"\"\n",
    "    # create a random seed \n",
    "    np.random.seed(50)\n",
    "    \n",
    "    # create an empty dic\n",
    "    model_score={}\n",
    "    test_score={}\n",
    "    \n",
    "    for name,model in models.items():\n",
    "        #fit model\n",
    "        model.fit(X_train,Y_train)\n",
    "        predict_train=model.predict(X_train)\n",
    "        predict_test=model.predict(X_test)\n",
    "        #evaluating the score, \n",
    "        model_score[name]=accuracy_score(predict_train,Y_train)\n",
    "        test_score[name]=accuracy_score(predict_test,Y_test)\n",
    "    print(f'model accuracy score on train data is {model_score}, \\n model accuracy test data is {test_score}') "
   ]
  },
  {
   "cell_type": "code",
   "execution_count": 215,
   "id": "f3cc6c32",
   "metadata": {},
   "outputs": [
    {
     "name": "stdout",
     "output_type": "stream",
     "text": [
      "model accuracy score on train data is {'Logistic_regression': 0.8229166666666666, 'Decesion_tree_Classifier': 1.0, 'Random forest classifier': 1.0, 'SVC': 0.8463541666666666, 'XGB': 1.0}, \n",
      " model accuracy test data is {'Logistic_regression': 0.75, 'Decesion_tree_Classifier': 0.6875, 'Random forest classifier': 0.71875, 'SVC': 0.7395833333333334, 'XGB': 0.6875}\n"
     ]
    }
   ],
   "source": [
    "scores=fit_score(models=Models,\n",
    "                 X_train=X_train,\n",
    "                 Y_train=Y_train,\n",
    "                 X_test=X_test,\n",
    "                 Y_test=Y_test)"
   ]
  },
  {
   "cell_type": "markdown",
   "id": "473442eb",
   "metadata": {},
   "source": [
    "#### Observation\n",
    "The Model that is effectively training on the test data is Logistic Regression with training accuracy of 82% and 75% test accuracy. Random forest and Decision tree seems to be overfitting with model train of 100% and test accuracy of 69% and 71% repectively"
   ]
  },
  {
   "cell_type": "markdown",
   "id": "ea95453f",
   "metadata": {},
   "source": [
    "Let use the LogisticRegression to find other metrics"
   ]
  },
  {
   "cell_type": "code",
   "execution_count": 216,
   "id": "097d3919",
   "metadata": {},
   "outputs": [],
   "source": [
    "log_reg_model=LogisticRegression()"
   ]
  },
  {
   "cell_type": "code",
   "execution_count": 217,
   "id": "b56bee83",
   "metadata": {},
   "outputs": [
    {
     "data": {
      "text/plain": [
       "LogisticRegression()"
      ]
     },
     "execution_count": 217,
     "metadata": {},
     "output_type": "execute_result"
    }
   ],
   "source": [
    "log_reg_model.fit(X_train,Y_train)"
   ]
  },
  {
   "cell_type": "code",
   "execution_count": 218,
   "id": "77055571",
   "metadata": {},
   "outputs": [],
   "source": [
    "l_train_pre=log_reg_model.predict(X_train)"
   ]
  },
  {
   "cell_type": "code",
   "execution_count": 219,
   "id": "8a54be4e",
   "metadata": {},
   "outputs": [
    {
     "data": {
      "text/plain": [
       "0.8229166666666666"
      ]
     },
     "execution_count": 219,
     "metadata": {},
     "output_type": "execute_result"
    }
   ],
   "source": [
    "accuracy_score(l_train_pre,Y_train)"
   ]
  },
  {
   "cell_type": "code",
   "execution_count": 220,
   "id": "c1cbb723",
   "metadata": {},
   "outputs": [],
   "source": [
    "l_test=log_reg_model.predict(X_test)"
   ]
  },
  {
   "cell_type": "code",
   "execution_count": 221,
   "id": "9c63deeb",
   "metadata": {},
   "outputs": [
    {
     "data": {
      "text/plain": [
       "0.75"
      ]
     },
     "execution_count": 221,
     "metadata": {},
     "output_type": "execute_result"
    }
   ],
   "source": [
    "accuracy_score(l_test,Y_test)"
   ]
  },
  {
   "cell_type": "code",
   "execution_count": 222,
   "id": "59601b13",
   "metadata": {},
   "outputs": [
    {
     "data": {
      "text/plain": [
       "array([0.8359375, 0.8359375, 0.78125  ])"
      ]
     },
     "execution_count": 222,
     "metadata": {},
     "output_type": "execute_result"
    }
   ],
   "source": [
    "from sklearn.model_selection import cross_val_score\n",
    "from sklearn.model_selection import cross_val_predict\n",
    "cross_val_score(log_reg_model, X_train, Y_train, cv=3, scoring='accuracy')"
   ]
  },
  {
   "cell_type": "code",
   "execution_count": 223,
   "id": "916e2462",
   "metadata": {},
   "outputs": [],
   "source": [
    "predict_test=cross_val_predict(log_reg_model,X_test,Y_test,cv=3)"
   ]
  },
  {
   "cell_type": "code",
   "execution_count": 224,
   "id": "2d310bfa",
   "metadata": {},
   "outputs": [
    {
     "data": {
      "text/plain": [
       "0.9047619047619048"
      ]
     },
     "execution_count": 224,
     "metadata": {},
     "output_type": "execute_result"
    }
   ],
   "source": [
    "# check for the precision score\n",
    "precision_score(predict_test,Y_test)"
   ]
  },
  {
   "cell_type": "code",
   "execution_count": 225,
   "id": "9406046b",
   "metadata": {},
   "outputs": [],
   "source": [
    "from sklearn.metrics import recall_score, confusion_matrix"
   ]
  },
  {
   "cell_type": "code",
   "execution_count": 226,
   "id": "ca4fa399",
   "metadata": {},
   "outputs": [
    {
     "data": {
      "text/plain": [
       "0.7307692307692307"
      ]
     },
     "execution_count": 226,
     "metadata": {},
     "output_type": "execute_result"
    }
   ],
   "source": [
    "recall_score(predict_test,Y_test)"
   ]
  },
  {
   "cell_type": "code",
   "execution_count": 227,
   "id": "4c76c2d3",
   "metadata": {},
   "outputs": [
    {
     "data": {
      "text/plain": [
       "0.8085106382978723"
      ]
     },
     "execution_count": 227,
     "metadata": {},
     "output_type": "execute_result"
    }
   ],
   "source": [
    "f1_score(predict_test,Y_test)"
   ]
  },
  {
   "cell_type": "code",
   "execution_count": 228,
   "id": "c223deca",
   "metadata": {},
   "outputs": [
    {
     "data": {
      "text/plain": [
       "array([[12,  6],\n",
       "       [21, 57]], dtype=int64)"
      ]
     },
     "execution_count": 228,
     "metadata": {},
     "output_type": "execute_result"
    }
   ],
   "source": [
    "confusion_matrix(predict_test,Y_test)"
   ]
  },
  {
   "cell_type": "markdown",
   "id": "3585ce61",
   "metadata": {},
   "source": [
    "#### Observation\n",
    "Just as it suppose, For greater precision score the test tend to have  lower recall score, the data predicted with a precision scoreof 0.90, and a recall score of 0.73.\n",
    "\n",
    "f1_score= 2*((precision * recall)/(precision + recall)) which is 0.81"
   ]
  },
  {
   "cell_type": "markdown",
   "id": "c55aa800",
   "metadata": {},
   "source": [
    " #### Use GridSearchCV to tune your model"
   ]
  },
  {
   "cell_type": "code",
   "execution_count": 229,
   "id": "fc431479",
   "metadata": {},
   "outputs": [],
   "source": [
    "from sklearn.model_selection import GridSearchCV\n",
    "import warnings\n",
    "warnings.filterwarnings('ignore')"
   ]
  },
  {
   "cell_type": "code",
   "execution_count": 230,
   "id": "a755eb44",
   "metadata": {},
   "outputs": [],
   "source": [
    "#logistics regression parameter\n",
    "LogisticRegression?"
   ]
  },
  {
   "cell_type": "code",
   "execution_count": 250,
   "id": "2f69499d",
   "metadata": {},
   "outputs": [],
   "source": [
    "parameter={'penalty':['l2'],\n",
    "          'C': [1,3,7]#np.logspace(1,3,7),\n",
    "          ,'solver':['lbfgs','newton-cg','liblinear'],\n",
    "          'max_iter':[100]}"
   ]
  },
  {
   "cell_type": "code",
   "execution_count": 251,
   "id": "1458597e",
   "metadata": {},
   "outputs": [],
   "source": [
    "grid_model=GridSearchCV(log_reg_model, param_grid=parameter,scoring='accuracy',cv=3)"
   ]
  },
  {
   "cell_type": "code",
   "execution_count": 252,
   "id": "07be6bdd",
   "metadata": {},
   "outputs": [
    {
     "data": {
      "text/plain": [
       "GridSearchCV(cv=3, estimator=LogisticRegression(),\n",
       "             param_grid={'C': [1, 3, 7], 'max_iter': [100], 'penalty': ['l2'],\n",
       "                         'solver': ['lbfgs', 'newton-cg', 'liblinear']},\n",
       "             scoring='accuracy')"
      ]
     },
     "execution_count": 252,
     "metadata": {},
     "output_type": "execute_result"
    }
   ],
   "source": [
    "grid_model.fit(X_train,Y_train)"
   ]
  },
  {
   "cell_type": "code",
   "execution_count": 253,
   "id": "ad6fbfac",
   "metadata": {},
   "outputs": [
    {
     "data": {
      "text/plain": [
       "array([0.65      , 0.73684211, 0.73684211, 0.73684211, 0.84210526])"
      ]
     },
     "execution_count": 253,
     "metadata": {},
     "output_type": "execute_result"
    }
   ],
   "source": [
    "final_model=grid_model.best_estimator_\n",
    "cross_val_score(final_model,X_test,Y_test,scoring='accuracy')"
   ]
  },
  {
   "cell_type": "code",
   "execution_count": 254,
   "id": "fcb65951",
   "metadata": {},
   "outputs": [],
   "source": [
    "pred=cross_val_predict(final_model,X_test,Y_test)"
   ]
  },
  {
   "cell_type": "code",
   "execution_count": 255,
   "id": "9363f507",
   "metadata": {},
   "outputs": [
    {
     "data": {
      "text/plain": [
       "array([[13,  5],\n",
       "       [20, 58]], dtype=int64)"
      ]
     },
     "execution_count": 255,
     "metadata": {},
     "output_type": "execute_result"
    }
   ],
   "source": [
    "confusion_matrix(pred,Y_test)"
   ]
  },
  {
   "cell_type": "code",
   "execution_count": 256,
   "id": "5faf54b4",
   "metadata": {},
   "outputs": [
    {
     "name": "stdout",
     "output_type": "stream",
     "text": [
      "Tunned Hyperparameter: {'C': 1, 'max_iter': 100, 'penalty': 'l2', 'solver': 'lbfgs'}\n",
      "Accuracy: 0.8177083333333334\n"
     ]
    }
   ],
   "source": [
    "print('Tunned Hyperparameter:', grid_model.best_params_)\n",
    "print('Accuracy:', grid_model.best_score_)"
   ]
  },
  {
   "cell_type": "code",
   "execution_count": 259,
   "id": "c21d3404",
   "metadata": {},
   "outputs": [
    {
     "name": "stdout",
     "output_type": "stream",
     "text": [
      "accuracy score after tunning: 0.75\n"
     ]
    }
   ],
   "source": [
    "log=LogisticRegression(C=1,penalty='l2',solver='lbfgs')\n",
    "log.fit(X_train,Y_train)\n",
    "y_pred=log.predict(X_test)\n",
    "print('accuracy score after tunning:', accuracy_score(y_pred,Y_test))"
   ]
  },
  {
   "cell_type": "markdown",
   "id": "6c41d2db",
   "metadata": {},
   "source": [
    "#### Conclussion:\n",
    "1. The best model that can be used to predict if customers is to be given loan or not is Logistic Regression model, with training accuracy of 82% and test accuracy of 75%\n",
    "2. The model has precision score of 0.90, recall score of 0.73, f1 score of 0.81\n",
    "3. After tunning the model there is no much difference in the train accuracy  while the test accuracy remain same\n",
    "4. Credit history play a vital role to predict if a customer is eligible or not"
   ]
  },
  {
   "cell_type": "code",
   "execution_count": null,
   "id": "b8fc5d80",
   "metadata": {},
   "outputs": [],
   "source": []
  }
 ],
 "metadata": {
  "kernelspec": {
   "display_name": "Python 3 (ipykernel)",
   "language": "python",
   "name": "python3"
  },
  "language_info": {
   "codemirror_mode": {
    "name": "ipython",
    "version": 3
   },
   "file_extension": ".py",
   "mimetype": "text/x-python",
   "name": "python",
   "nbconvert_exporter": "python",
   "pygments_lexer": "ipython3",
   "version": "3.9.12"
  }
 },
 "nbformat": 4,
 "nbformat_minor": 5
}
