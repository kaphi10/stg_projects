{
  "nbformat": 4,
  "nbformat_minor": 0,
  "metadata": {
    "colab": {
      "provenance": [],
      "collapsed_sections": [],
      "authorship_tag": "ABX9TyN7+nBgG9XHmb4DTPQ7o2xF",
      "include_colab_link": true
    },
    "kernelspec": {
      "name": "python3",
      "display_name": "Python 3"
    },
    "language_info": {
      "name": "python"
    }
  },
  "cells": [
    {
      "cell_type": "markdown",
      "metadata": {
        "id": "view-in-github",
        "colab_type": "text"
      },
      "source": [
        "<a href=\"https://colab.research.google.com/github/kaphi10/stg_projects/blob/master/ass3_week8.ipynb\" target=\"_parent\"><img src=\"https://colab.research.google.com/assets/colab-badge.svg\" alt=\"Open In Colab\"/></a>"
      ]
    },
    {
      "cell_type": "code",
      "execution_count": null,
      "metadata": {
        "colab": {
          "base_uri": "https://localhost:8080/"
        },
        "id": "IHut85r_1CZZ",
        "outputId": "51fcc2eb-4453-4fb3-c199-41fe096eabb8"
      },
      "outputs": [
        {
          "output_type": "stream",
          "name": "stdout",
          "text": [
            "Drive already mounted at /content/drive; to attempt to forcibly remount, call drive.mount(\"/content/drive\", force_remount=True).\n"
          ]
        }
      ],
      "source": [
        "from google.colab import drive\n",
        "drive.mount('/content/drive')"
      ]
    },
    {
      "cell_type": "code",
      "source": [
        "%cd /content/drive/MyDrive/pandas_pra"
      ],
      "metadata": {
        "colab": {
          "base_uri": "https://localhost:8080/"
        },
        "id": "TBIGBYcX1YpR",
        "outputId": "aa2da111-89fa-423a-e73c-e34949879970"
      },
      "execution_count": null,
      "outputs": [
        {
          "output_type": "stream",
          "name": "stdout",
          "text": [
            "/content/drive/MyDrive/pandas_pra\n"
          ]
        }
      ]
    },
    {
      "cell_type": "code",
      "source": [
        "import pandas as pd\n",
        "import numpy as np"
      ],
      "metadata": {
        "id": "mB8ViFLM1wjy"
      },
      "execution_count": null,
      "outputs": []
    },
    {
      "cell_type": "markdown",
      "source": [
        "READ DATA TO DATA FRAME"
      ],
      "metadata": {
        "id": "tydACzd69YlK"
      }
    },
    {
      "cell_type": "code",
      "source": [
        "df=pd.read_csv('movies.csv')\n",
        "df.head()"
      ],
      "metadata": {
        "colab": {
          "base_uri": "https://localhost:8080/",
          "height": 389
        },
        "id": "nnx49plQ18ex",
        "outputId": "e534892e-08d2-4d42-edc7-0d54689c99a8"
      },
      "execution_count": null,
      "outputs": [
        {
          "output_type": "execute_result",
          "data": {
            "text/plain": [
              "                                MOVIES         YEAR  \\\n",
              "0                        Blood Red Sky       (2021)   \n",
              "1  Masters of the Universe: Revelation     (2021– )   \n",
              "2                     The Walking Dead  (2010–2022)   \n",
              "3                       Rick and Morty     (2013– )   \n",
              "4                      Army of Thieves       (2021)   \n",
              "\n",
              "                                        GENRE  RATING  \\\n",
              "0      \\nAction, Horror, Thriller                 6.1   \n",
              "1  \\nAnimation, Action, Adventure                 5.0   \n",
              "2       \\nDrama, Horror, Thriller                 8.2   \n",
              "3  \\nAnimation, Adventure, Comedy                 9.2   \n",
              "4         \\nAction, Crime, Horror                 NaN   \n",
              "\n",
              "                                            ONE-LINE  \\\n",
              "0  \\nA woman with a mysterious illness is forced ...   \n",
              "1  \\nThe war for Eternia begins again in what may...   \n",
              "2  \\nSheriff Deputy Rick Grimes wakes up from a c...   \n",
              "3  \\nAn animated series that follows the exploits...   \n",
              "4  \\nA prequel, set before the events of Army of ...   \n",
              "\n",
              "                                               STARS    VOTES  RunTime Gross  \n",
              "0  \\n    Director:\\nPeter Thorwarth\\n| \\n    Star...   21,062    121.0   NaN  \n",
              "1  \\n            \\n    Stars:\\nChris Wood, \\nSara...   17,870     25.0   NaN  \n",
              "2  \\n            \\n    Stars:\\nAndrew Lincoln, \\n...  885,805     44.0   NaN  \n",
              "3  \\n            \\n    Stars:\\nJustin Roiland, \\n...  414,849     23.0   NaN  \n",
              "4  \\n    Director:\\nMatthias Schweighöfer\\n| \\n  ...      NaN      NaN   NaN  "
            ],
            "text/html": [
              "\n",
              "  <div id=\"df-c4f4f812-ddc5-496f-9546-d8fa105d2cf8\">\n",
              "    <div class=\"colab-df-container\">\n",
              "      <div>\n",
              "<style scoped>\n",
              "    .dataframe tbody tr th:only-of-type {\n",
              "        vertical-align: middle;\n",
              "    }\n",
              "\n",
              "    .dataframe tbody tr th {\n",
              "        vertical-align: top;\n",
              "    }\n",
              "\n",
              "    .dataframe thead th {\n",
              "        text-align: right;\n",
              "    }\n",
              "</style>\n",
              "<table border=\"1\" class=\"dataframe\">\n",
              "  <thead>\n",
              "    <tr style=\"text-align: right;\">\n",
              "      <th></th>\n",
              "      <th>MOVIES</th>\n",
              "      <th>YEAR</th>\n",
              "      <th>GENRE</th>\n",
              "      <th>RATING</th>\n",
              "      <th>ONE-LINE</th>\n",
              "      <th>STARS</th>\n",
              "      <th>VOTES</th>\n",
              "      <th>RunTime</th>\n",
              "      <th>Gross</th>\n",
              "    </tr>\n",
              "  </thead>\n",
              "  <tbody>\n",
              "    <tr>\n",
              "      <th>0</th>\n",
              "      <td>Blood Red Sky</td>\n",
              "      <td>(2021)</td>\n",
              "      <td>\\nAction, Horror, Thriller</td>\n",
              "      <td>6.1</td>\n",
              "      <td>\\nA woman with a mysterious illness is forced ...</td>\n",
              "      <td>\\n    Director:\\nPeter Thorwarth\\n| \\n    Star...</td>\n",
              "      <td>21,062</td>\n",
              "      <td>121.0</td>\n",
              "      <td>NaN</td>\n",
              "    </tr>\n",
              "    <tr>\n",
              "      <th>1</th>\n",
              "      <td>Masters of the Universe: Revelation</td>\n",
              "      <td>(2021– )</td>\n",
              "      <td>\\nAnimation, Action, Adventure</td>\n",
              "      <td>5.0</td>\n",
              "      <td>\\nThe war for Eternia begins again in what may...</td>\n",
              "      <td>\\n            \\n    Stars:\\nChris Wood, \\nSara...</td>\n",
              "      <td>17,870</td>\n",
              "      <td>25.0</td>\n",
              "      <td>NaN</td>\n",
              "    </tr>\n",
              "    <tr>\n",
              "      <th>2</th>\n",
              "      <td>The Walking Dead</td>\n",
              "      <td>(2010–2022)</td>\n",
              "      <td>\\nDrama, Horror, Thriller</td>\n",
              "      <td>8.2</td>\n",
              "      <td>\\nSheriff Deputy Rick Grimes wakes up from a c...</td>\n",
              "      <td>\\n            \\n    Stars:\\nAndrew Lincoln, \\n...</td>\n",
              "      <td>885,805</td>\n",
              "      <td>44.0</td>\n",
              "      <td>NaN</td>\n",
              "    </tr>\n",
              "    <tr>\n",
              "      <th>3</th>\n",
              "      <td>Rick and Morty</td>\n",
              "      <td>(2013– )</td>\n",
              "      <td>\\nAnimation, Adventure, Comedy</td>\n",
              "      <td>9.2</td>\n",
              "      <td>\\nAn animated series that follows the exploits...</td>\n",
              "      <td>\\n            \\n    Stars:\\nJustin Roiland, \\n...</td>\n",
              "      <td>414,849</td>\n",
              "      <td>23.0</td>\n",
              "      <td>NaN</td>\n",
              "    </tr>\n",
              "    <tr>\n",
              "      <th>4</th>\n",
              "      <td>Army of Thieves</td>\n",
              "      <td>(2021)</td>\n",
              "      <td>\\nAction, Crime, Horror</td>\n",
              "      <td>NaN</td>\n",
              "      <td>\\nA prequel, set before the events of Army of ...</td>\n",
              "      <td>\\n    Director:\\nMatthias Schweighöfer\\n| \\n  ...</td>\n",
              "      <td>NaN</td>\n",
              "      <td>NaN</td>\n",
              "      <td>NaN</td>\n",
              "    </tr>\n",
              "  </tbody>\n",
              "</table>\n",
              "</div>\n",
              "      <button class=\"colab-df-convert\" onclick=\"convertToInteractive('df-c4f4f812-ddc5-496f-9546-d8fa105d2cf8')\"\n",
              "              title=\"Convert this dataframe to an interactive table.\"\n",
              "              style=\"display:none;\">\n",
              "        \n",
              "  <svg xmlns=\"http://www.w3.org/2000/svg\" height=\"24px\"viewBox=\"0 0 24 24\"\n",
              "       width=\"24px\">\n",
              "    <path d=\"M0 0h24v24H0V0z\" fill=\"none\"/>\n",
              "    <path d=\"M18.56 5.44l.94 2.06.94-2.06 2.06-.94-2.06-.94-.94-2.06-.94 2.06-2.06.94zm-11 1L8.5 8.5l.94-2.06 2.06-.94-2.06-.94L8.5 2.5l-.94 2.06-2.06.94zm10 10l.94 2.06.94-2.06 2.06-.94-2.06-.94-.94-2.06-.94 2.06-2.06.94z\"/><path d=\"M17.41 7.96l-1.37-1.37c-.4-.4-.92-.59-1.43-.59-.52 0-1.04.2-1.43.59L10.3 9.45l-7.72 7.72c-.78.78-.78 2.05 0 2.83L4 21.41c.39.39.9.59 1.41.59.51 0 1.02-.2 1.41-.59l7.78-7.78 2.81-2.81c.8-.78.8-2.07 0-2.86zM5.41 20L4 18.59l7.72-7.72 1.47 1.35L5.41 20z\"/>\n",
              "  </svg>\n",
              "      </button>\n",
              "      \n",
              "  <style>\n",
              "    .colab-df-container {\n",
              "      display:flex;\n",
              "      flex-wrap:wrap;\n",
              "      gap: 12px;\n",
              "    }\n",
              "\n",
              "    .colab-df-convert {\n",
              "      background-color: #E8F0FE;\n",
              "      border: none;\n",
              "      border-radius: 50%;\n",
              "      cursor: pointer;\n",
              "      display: none;\n",
              "      fill: #1967D2;\n",
              "      height: 32px;\n",
              "      padding: 0 0 0 0;\n",
              "      width: 32px;\n",
              "    }\n",
              "\n",
              "    .colab-df-convert:hover {\n",
              "      background-color: #E2EBFA;\n",
              "      box-shadow: 0px 1px 2px rgba(60, 64, 67, 0.3), 0px 1px 3px 1px rgba(60, 64, 67, 0.15);\n",
              "      fill: #174EA6;\n",
              "    }\n",
              "\n",
              "    [theme=dark] .colab-df-convert {\n",
              "      background-color: #3B4455;\n",
              "      fill: #D2E3FC;\n",
              "    }\n",
              "\n",
              "    [theme=dark] .colab-df-convert:hover {\n",
              "      background-color: #434B5C;\n",
              "      box-shadow: 0px 1px 3px 1px rgba(0, 0, 0, 0.15);\n",
              "      filter: drop-shadow(0px 1px 2px rgba(0, 0, 0, 0.3));\n",
              "      fill: #FFFFFF;\n",
              "    }\n",
              "  </style>\n",
              "\n",
              "      <script>\n",
              "        const buttonEl =\n",
              "          document.querySelector('#df-c4f4f812-ddc5-496f-9546-d8fa105d2cf8 button.colab-df-convert');\n",
              "        buttonEl.style.display =\n",
              "          google.colab.kernel.accessAllowed ? 'block' : 'none';\n",
              "\n",
              "        async function convertToInteractive(key) {\n",
              "          const element = document.querySelector('#df-c4f4f812-ddc5-496f-9546-d8fa105d2cf8');\n",
              "          const dataTable =\n",
              "            await google.colab.kernel.invokeFunction('convertToInteractive',\n",
              "                                                     [key], {});\n",
              "          if (!dataTable) return;\n",
              "\n",
              "          const docLinkHtml = 'Like what you see? Visit the ' +\n",
              "            '<a target=\"_blank\" href=https://colab.research.google.com/notebooks/data_table.ipynb>data table notebook</a>'\n",
              "            + ' to learn more about interactive tables.';\n",
              "          element.innerHTML = '';\n",
              "          dataTable['output_type'] = 'display_data';\n",
              "          await google.colab.output.renderOutput(dataTable, element);\n",
              "          const docLink = document.createElement('div');\n",
              "          docLink.innerHTML = docLinkHtml;\n",
              "          element.appendChild(docLink);\n",
              "        }\n",
              "      </script>\n",
              "    </div>\n",
              "  </div>\n",
              "  "
            ]
          },
          "metadata": {},
          "execution_count": 258
        }
      ]
    },
    {
      "cell_type": "code",
      "source": [
        "df.shape"
      ],
      "metadata": {
        "colab": {
          "base_uri": "https://localhost:8080/"
        },
        "id": "hRVx4LclEcJb",
        "outputId": "5d03cda8-138d-4d9a-fde1-fc94c6bbc905"
      },
      "execution_count": null,
      "outputs": [
        {
          "output_type": "execute_result",
          "data": {
            "text/plain": [
              "(9999, 9)"
            ]
          },
          "metadata": {},
          "execution_count": 259
        }
      ]
    },
    {
      "cell_type": "code",
      "source": [
        "df.columns"
      ],
      "metadata": {
        "colab": {
          "base_uri": "https://localhost:8080/"
        },
        "id": "I_z39uAb3Gb_",
        "outputId": "1ae8cbed-6a13-4a62-987f-1b6478c18de7"
      },
      "execution_count": null,
      "outputs": [
        {
          "output_type": "execute_result",
          "data": {
            "text/plain": [
              "Index(['MOVIES', 'YEAR', 'GENRE', 'RATING', 'ONE-LINE', 'STARS', 'VOTES',\n",
              "       'RunTime', 'Gross'],\n",
              "      dtype='object')"
            ]
          },
          "metadata": {},
          "execution_count": 260
        }
      ]
    },
    {
      "cell_type": "code",
      "source": [
        "# CONVERTING ALL COLUMNS TO LOWER CASE\n",
        "df.columns=df.columns.str.lower()"
      ],
      "metadata": {
        "id": "AMftUL-y3cPg"
      },
      "execution_count": null,
      "outputs": []
    },
    {
      "cell_type": "code",
      "source": [
        "#RENAME COLUMN one-line to one_line\n",
        "df.rename(columns={'one-line':'one_line'}, inplace=True)"
      ],
      "metadata": {
        "id": "zq4M0mJ53wQ3"
      },
      "execution_count": null,
      "outputs": []
    },
    {
      "cell_type": "code",
      "source": [
        "#check for null values\n",
        "df.isnull().sum()"
      ],
      "metadata": {
        "colab": {
          "base_uri": "https://localhost:8080/"
        },
        "id": "Z5egJP3b2Jam",
        "outputId": "2791ed65-5e0d-42d6-a272-1f70018be9cc"
      },
      "execution_count": null,
      "outputs": [
        {
          "output_type": "execute_result",
          "data": {
            "text/plain": [
              "movies         0\n",
              "year         644\n",
              "genre         80\n",
              "rating      1820\n",
              "one_line       0\n",
              "stars          0\n",
              "votes       1820\n",
              "runtime     2958\n",
              "gross       9539\n",
              "dtype: int64"
            ]
          },
          "metadata": {},
          "execution_count": 263
        }
      ]
    },
    {
      "cell_type": "markdown",
      "source": [
        "some columns such has significant number of null value:  while column such as movies, one_line and stars has no null values"
      ],
      "metadata": {
        "id": "vGQSGn2E_ZIJ"
      }
    },
    {
      "cell_type": "code",
      "source": [
        "df.info()"
      ],
      "metadata": {
        "colab": {
          "base_uri": "https://localhost:8080/"
        },
        "id": "1m4_784i6Trq",
        "outputId": "2b12216a-fbf4-4a5b-ff2d-f46751997582"
      },
      "execution_count": null,
      "outputs": [
        {
          "output_type": "stream",
          "name": "stdout",
          "text": [
            "<class 'pandas.core.frame.DataFrame'>\n",
            "RangeIndex: 9999 entries, 0 to 9998\n",
            "Data columns (total 9 columns):\n",
            " #   Column    Non-Null Count  Dtype  \n",
            "---  ------    --------------  -----  \n",
            " 0   movies    9999 non-null   object \n",
            " 1   year      9355 non-null   object \n",
            " 2   genre     9919 non-null   object \n",
            " 3   rating    8179 non-null   float64\n",
            " 4   one_line  9999 non-null   object \n",
            " 5   stars     9999 non-null   object \n",
            " 6   votes     8179 non-null   object \n",
            " 7   runtime   7041 non-null   float64\n",
            " 8   gross     460 non-null    object \n",
            "dtypes: float64(2), object(7)\n",
            "memory usage: 703.2+ KB\n"
          ]
        }
      ]
    },
    {
      "cell_type": "markdown",
      "source": [
        "**COMMENCE DATA CLEANING:** MAKE A COPY OF THE DATA FRAME BEFORE CLEANING"
      ],
      "metadata": {
        "id": "2SuIqm-HAenC"
      }
    },
    {
      "cell_type": "code",
      "source": [
        "\n",
        "df2=df.copy()\n",
        "df2\n"
      ],
      "metadata": {
        "colab": {
          "base_uri": "https://localhost:8080/",
          "height": 711
        },
        "id": "G1xEYucMoBnp",
        "outputId": "233cfe7b-bfdd-45b1-e6f7-1e9184edb4b3"
      },
      "execution_count": null,
      "outputs": [
        {
          "output_type": "execute_result",
          "data": {
            "text/plain": [
              "                                   movies         year  \\\n",
              "0                           Blood Red Sky       (2021)   \n",
              "1     Masters of the Universe: Revelation     (2021– )   \n",
              "2                        The Walking Dead  (2010–2022)   \n",
              "3                          Rick and Morty     (2013– )   \n",
              "4                         Army of Thieves       (2021)   \n",
              "...                                   ...          ...   \n",
              "9994                       The Imperfects     (2021– )   \n",
              "9995                               Arcane     (2021– )   \n",
              "9996                    Heart of Invictus     (2022– )   \n",
              "9997                       The Imperfects     (2021– )   \n",
              "9998                       The Imperfects     (2021– )   \n",
              "\n",
              "                                           genre  rating  \\\n",
              "0         \\nAction, Horror, Thriller                 6.1   \n",
              "1     \\nAnimation, Action, Adventure                 5.0   \n",
              "2          \\nDrama, Horror, Thriller                 8.2   \n",
              "3     \\nAnimation, Adventure, Comedy                 9.2   \n",
              "4            \\nAction, Crime, Horror                 NaN   \n",
              "...                                          ...     ...   \n",
              "9994     \\nAdventure, Drama, Fantasy                 NaN   \n",
              "9995  \\nAnimation, Action, Adventure                 NaN   \n",
              "9996            \\nDocumentary, Sport                 NaN   \n",
              "9997     \\nAdventure, Drama, Fantasy                 NaN   \n",
              "9998     \\nAdventure, Drama, Fantasy                 NaN   \n",
              "\n",
              "                                               one_line  \\\n",
              "0     \\nA woman with a mysterious illness is forced ...   \n",
              "1     \\nThe war for Eternia begins again in what may...   \n",
              "2     \\nSheriff Deputy Rick Grimes wakes up from a c...   \n",
              "3     \\nAn animated series that follows the exploits...   \n",
              "4     \\nA prequel, set before the events of Army of ...   \n",
              "...                                                 ...   \n",
              "9994                                     \\nAdd a Plot\\n   \n",
              "9995                                     \\nAdd a Plot\\n   \n",
              "9996                                     \\nAdd a Plot\\n   \n",
              "9997                                     \\nAdd a Plot\\n   \n",
              "9998                                     \\nAdd a Plot\\n   \n",
              "\n",
              "                                                  stars    votes  runtime  \\\n",
              "0     \\n    Director:\\nPeter Thorwarth\\n| \\n    Star...   21,062    121.0   \n",
              "1     \\n            \\n    Stars:\\nChris Wood, \\nSara...   17,870     25.0   \n",
              "2     \\n            \\n    Stars:\\nAndrew Lincoln, \\n...  885,805     44.0   \n",
              "3     \\n            \\n    Stars:\\nJustin Roiland, \\n...  414,849     23.0   \n",
              "4     \\n    Director:\\nMatthias Schweighöfer\\n| \\n  ...      NaN      NaN   \n",
              "...                                                 ...      ...      ...   \n",
              "9994  \\n            \\n    Stars:\\nMorgan Taylor Camp...      NaN      NaN   \n",
              "9995                                                 \\n      NaN      NaN   \n",
              "9996  \\n    Director:\\nOrlando von Einsiedel\\n| \\n  ...      NaN      NaN   \n",
              "9997  \\n    Director:\\nJovanka Vuckovic\\n| \\n    Sta...      NaN      NaN   \n",
              "9998  \\n    Director:\\nJovanka Vuckovic\\n| \\n    Sta...      NaN      NaN   \n",
              "\n",
              "     gross  \n",
              "0      NaN  \n",
              "1      NaN  \n",
              "2      NaN  \n",
              "3      NaN  \n",
              "4      NaN  \n",
              "...    ...  \n",
              "9994   NaN  \n",
              "9995   NaN  \n",
              "9996   NaN  \n",
              "9997   NaN  \n",
              "9998   NaN  \n",
              "\n",
              "[9999 rows x 9 columns]"
            ],
            "text/html": [
              "\n",
              "  <div id=\"df-474bcd65-7020-4373-ad6c-0ea0ba3fdf7f\">\n",
              "    <div class=\"colab-df-container\">\n",
              "      <div>\n",
              "<style scoped>\n",
              "    .dataframe tbody tr th:only-of-type {\n",
              "        vertical-align: middle;\n",
              "    }\n",
              "\n",
              "    .dataframe tbody tr th {\n",
              "        vertical-align: top;\n",
              "    }\n",
              "\n",
              "    .dataframe thead th {\n",
              "        text-align: right;\n",
              "    }\n",
              "</style>\n",
              "<table border=\"1\" class=\"dataframe\">\n",
              "  <thead>\n",
              "    <tr style=\"text-align: right;\">\n",
              "      <th></th>\n",
              "      <th>movies</th>\n",
              "      <th>year</th>\n",
              "      <th>genre</th>\n",
              "      <th>rating</th>\n",
              "      <th>one_line</th>\n",
              "      <th>stars</th>\n",
              "      <th>votes</th>\n",
              "      <th>runtime</th>\n",
              "      <th>gross</th>\n",
              "    </tr>\n",
              "  </thead>\n",
              "  <tbody>\n",
              "    <tr>\n",
              "      <th>0</th>\n",
              "      <td>Blood Red Sky</td>\n",
              "      <td>(2021)</td>\n",
              "      <td>\\nAction, Horror, Thriller</td>\n",
              "      <td>6.1</td>\n",
              "      <td>\\nA woman with a mysterious illness is forced ...</td>\n",
              "      <td>\\n    Director:\\nPeter Thorwarth\\n| \\n    Star...</td>\n",
              "      <td>21,062</td>\n",
              "      <td>121.0</td>\n",
              "      <td>NaN</td>\n",
              "    </tr>\n",
              "    <tr>\n",
              "      <th>1</th>\n",
              "      <td>Masters of the Universe: Revelation</td>\n",
              "      <td>(2021– )</td>\n",
              "      <td>\\nAnimation, Action, Adventure</td>\n",
              "      <td>5.0</td>\n",
              "      <td>\\nThe war for Eternia begins again in what may...</td>\n",
              "      <td>\\n            \\n    Stars:\\nChris Wood, \\nSara...</td>\n",
              "      <td>17,870</td>\n",
              "      <td>25.0</td>\n",
              "      <td>NaN</td>\n",
              "    </tr>\n",
              "    <tr>\n",
              "      <th>2</th>\n",
              "      <td>The Walking Dead</td>\n",
              "      <td>(2010–2022)</td>\n",
              "      <td>\\nDrama, Horror, Thriller</td>\n",
              "      <td>8.2</td>\n",
              "      <td>\\nSheriff Deputy Rick Grimes wakes up from a c...</td>\n",
              "      <td>\\n            \\n    Stars:\\nAndrew Lincoln, \\n...</td>\n",
              "      <td>885,805</td>\n",
              "      <td>44.0</td>\n",
              "      <td>NaN</td>\n",
              "    </tr>\n",
              "    <tr>\n",
              "      <th>3</th>\n",
              "      <td>Rick and Morty</td>\n",
              "      <td>(2013– )</td>\n",
              "      <td>\\nAnimation, Adventure, Comedy</td>\n",
              "      <td>9.2</td>\n",
              "      <td>\\nAn animated series that follows the exploits...</td>\n",
              "      <td>\\n            \\n    Stars:\\nJustin Roiland, \\n...</td>\n",
              "      <td>414,849</td>\n",
              "      <td>23.0</td>\n",
              "      <td>NaN</td>\n",
              "    </tr>\n",
              "    <tr>\n",
              "      <th>4</th>\n",
              "      <td>Army of Thieves</td>\n",
              "      <td>(2021)</td>\n",
              "      <td>\\nAction, Crime, Horror</td>\n",
              "      <td>NaN</td>\n",
              "      <td>\\nA prequel, set before the events of Army of ...</td>\n",
              "      <td>\\n    Director:\\nMatthias Schweighöfer\\n| \\n  ...</td>\n",
              "      <td>NaN</td>\n",
              "      <td>NaN</td>\n",
              "      <td>NaN</td>\n",
              "    </tr>\n",
              "    <tr>\n",
              "      <th>...</th>\n",
              "      <td>...</td>\n",
              "      <td>...</td>\n",
              "      <td>...</td>\n",
              "      <td>...</td>\n",
              "      <td>...</td>\n",
              "      <td>...</td>\n",
              "      <td>...</td>\n",
              "      <td>...</td>\n",
              "      <td>...</td>\n",
              "    </tr>\n",
              "    <tr>\n",
              "      <th>9994</th>\n",
              "      <td>The Imperfects</td>\n",
              "      <td>(2021– )</td>\n",
              "      <td>\\nAdventure, Drama, Fantasy</td>\n",
              "      <td>NaN</td>\n",
              "      <td>\\nAdd a Plot\\n</td>\n",
              "      <td>\\n            \\n    Stars:\\nMorgan Taylor Camp...</td>\n",
              "      <td>NaN</td>\n",
              "      <td>NaN</td>\n",
              "      <td>NaN</td>\n",
              "    </tr>\n",
              "    <tr>\n",
              "      <th>9995</th>\n",
              "      <td>Arcane</td>\n",
              "      <td>(2021– )</td>\n",
              "      <td>\\nAnimation, Action, Adventure</td>\n",
              "      <td>NaN</td>\n",
              "      <td>\\nAdd a Plot\\n</td>\n",
              "      <td>\\n</td>\n",
              "      <td>NaN</td>\n",
              "      <td>NaN</td>\n",
              "      <td>NaN</td>\n",
              "    </tr>\n",
              "    <tr>\n",
              "      <th>9996</th>\n",
              "      <td>Heart of Invictus</td>\n",
              "      <td>(2022– )</td>\n",
              "      <td>\\nDocumentary, Sport</td>\n",
              "      <td>NaN</td>\n",
              "      <td>\\nAdd a Plot\\n</td>\n",
              "      <td>\\n    Director:\\nOrlando von Einsiedel\\n| \\n  ...</td>\n",
              "      <td>NaN</td>\n",
              "      <td>NaN</td>\n",
              "      <td>NaN</td>\n",
              "    </tr>\n",
              "    <tr>\n",
              "      <th>9997</th>\n",
              "      <td>The Imperfects</td>\n",
              "      <td>(2021– )</td>\n",
              "      <td>\\nAdventure, Drama, Fantasy</td>\n",
              "      <td>NaN</td>\n",
              "      <td>\\nAdd a Plot\\n</td>\n",
              "      <td>\\n    Director:\\nJovanka Vuckovic\\n| \\n    Sta...</td>\n",
              "      <td>NaN</td>\n",
              "      <td>NaN</td>\n",
              "      <td>NaN</td>\n",
              "    </tr>\n",
              "    <tr>\n",
              "      <th>9998</th>\n",
              "      <td>The Imperfects</td>\n",
              "      <td>(2021– )</td>\n",
              "      <td>\\nAdventure, Drama, Fantasy</td>\n",
              "      <td>NaN</td>\n",
              "      <td>\\nAdd a Plot\\n</td>\n",
              "      <td>\\n    Director:\\nJovanka Vuckovic\\n| \\n    Sta...</td>\n",
              "      <td>NaN</td>\n",
              "      <td>NaN</td>\n",
              "      <td>NaN</td>\n",
              "    </tr>\n",
              "  </tbody>\n",
              "</table>\n",
              "<p>9999 rows × 9 columns</p>\n",
              "</div>\n",
              "      <button class=\"colab-df-convert\" onclick=\"convertToInteractive('df-474bcd65-7020-4373-ad6c-0ea0ba3fdf7f')\"\n",
              "              title=\"Convert this dataframe to an interactive table.\"\n",
              "              style=\"display:none;\">\n",
              "        \n",
              "  <svg xmlns=\"http://www.w3.org/2000/svg\" height=\"24px\"viewBox=\"0 0 24 24\"\n",
              "       width=\"24px\">\n",
              "    <path d=\"M0 0h24v24H0V0z\" fill=\"none\"/>\n",
              "    <path d=\"M18.56 5.44l.94 2.06.94-2.06 2.06-.94-2.06-.94-.94-2.06-.94 2.06-2.06.94zm-11 1L8.5 8.5l.94-2.06 2.06-.94-2.06-.94L8.5 2.5l-.94 2.06-2.06.94zm10 10l.94 2.06.94-2.06 2.06-.94-2.06-.94-.94-2.06-.94 2.06-2.06.94z\"/><path d=\"M17.41 7.96l-1.37-1.37c-.4-.4-.92-.59-1.43-.59-.52 0-1.04.2-1.43.59L10.3 9.45l-7.72 7.72c-.78.78-.78 2.05 0 2.83L4 21.41c.39.39.9.59 1.41.59.51 0 1.02-.2 1.41-.59l7.78-7.78 2.81-2.81c.8-.78.8-2.07 0-2.86zM5.41 20L4 18.59l7.72-7.72 1.47 1.35L5.41 20z\"/>\n",
              "  </svg>\n",
              "      </button>\n",
              "      \n",
              "  <style>\n",
              "    .colab-df-container {\n",
              "      display:flex;\n",
              "      flex-wrap:wrap;\n",
              "      gap: 12px;\n",
              "    }\n",
              "\n",
              "    .colab-df-convert {\n",
              "      background-color: #E8F0FE;\n",
              "      border: none;\n",
              "      border-radius: 50%;\n",
              "      cursor: pointer;\n",
              "      display: none;\n",
              "      fill: #1967D2;\n",
              "      height: 32px;\n",
              "      padding: 0 0 0 0;\n",
              "      width: 32px;\n",
              "    }\n",
              "\n",
              "    .colab-df-convert:hover {\n",
              "      background-color: #E2EBFA;\n",
              "      box-shadow: 0px 1px 2px rgba(60, 64, 67, 0.3), 0px 1px 3px 1px rgba(60, 64, 67, 0.15);\n",
              "      fill: #174EA6;\n",
              "    }\n",
              "\n",
              "    [theme=dark] .colab-df-convert {\n",
              "      background-color: #3B4455;\n",
              "      fill: #D2E3FC;\n",
              "    }\n",
              "\n",
              "    [theme=dark] .colab-df-convert:hover {\n",
              "      background-color: #434B5C;\n",
              "      box-shadow: 0px 1px 3px 1px rgba(0, 0, 0, 0.15);\n",
              "      filter: drop-shadow(0px 1px 2px rgba(0, 0, 0, 0.3));\n",
              "      fill: #FFFFFF;\n",
              "    }\n",
              "  </style>\n",
              "\n",
              "      <script>\n",
              "        const buttonEl =\n",
              "          document.querySelector('#df-474bcd65-7020-4373-ad6c-0ea0ba3fdf7f button.colab-df-convert');\n",
              "        buttonEl.style.display =\n",
              "          google.colab.kernel.accessAllowed ? 'block' : 'none';\n",
              "\n",
              "        async function convertToInteractive(key) {\n",
              "          const element = document.querySelector('#df-474bcd65-7020-4373-ad6c-0ea0ba3fdf7f');\n",
              "          const dataTable =\n",
              "            await google.colab.kernel.invokeFunction('convertToInteractive',\n",
              "                                                     [key], {});\n",
              "          if (!dataTable) return;\n",
              "\n",
              "          const docLinkHtml = 'Like what you see? Visit the ' +\n",
              "            '<a target=\"_blank\" href=https://colab.research.google.com/notebooks/data_table.ipynb>data table notebook</a>'\n",
              "            + ' to learn more about interactive tables.';\n",
              "          element.innerHTML = '';\n",
              "          dataTable['output_type'] = 'display_data';\n",
              "          await google.colab.output.renderOutput(dataTable, element);\n",
              "          const docLink = document.createElement('div');\n",
              "          docLink.innerHTML = docLinkHtml;\n",
              "          element.appendChild(docLink);\n",
              "        }\n",
              "      </script>\n",
              "    </div>\n",
              "  </div>\n",
              "  "
            ]
          },
          "metadata": {},
          "execution_count": 265
        }
      ]
    },
    {
      "cell_type": "markdown",
      "source": [
        "PROBLEM DEFINATION:\n",
        "\n",
        "\n",
        "*  inconsistent columns data type\n",
        "* significant numbers of null value at votes,gross column  \n",
        "* duplicated values available \n",
        "\n",
        "\n",
        "\n",
        "\n",
        "\n",
        "\n"
      ],
      "metadata": {
        "id": "nrglyqUOBheU"
      }
    },
    {
      "cell_type": "code",
      "source": [
        "df2=df2.replace(r'\\n',' ', regex=True)"
      ],
      "metadata": {
        "id": "LYC6U_jA7a4G"
      },
      "execution_count": null,
      "outputs": []
    },
    {
      "cell_type": "code",
      "source": [
        "\n",
        "#check for number duplicate values\n",
        "df2.duplicated().sum()"
      ],
      "metadata": {
        "colab": {
          "base_uri": "https://localhost:8080/"
        },
        "id": "hAGOuRBq6l0t",
        "outputId": "01412015-7310-432f-a0a2-eb3949789e57"
      },
      "execution_count": null,
      "outputs": [
        {
          "output_type": "execute_result",
          "data": {
            "text/plain": [
              "431"
            ]
          },
          "metadata": {},
          "execution_count": 267
        }
      ]
    },
    {
      "cell_type": "code",
      "source": [
        "#remove duplicated values\n",
        "df2.drop_duplicates(inplace=True)"
      ],
      "metadata": {
        "id": "aos8Ulo-W7Oh"
      },
      "execution_count": null,
      "outputs": []
    },
    {
      "cell_type": "code",
      "source": [
        "#check\n",
        "df2.duplicated().sum()"
      ],
      "metadata": {
        "colab": {
          "base_uri": "https://localhost:8080/"
        },
        "id": "bWOAuuXUZZeZ",
        "outputId": "0cddeb54-2c00-47b3-d754-5e7d9d01653b"
      },
      "execution_count": null,
      "outputs": [
        {
          "output_type": "execute_result",
          "data": {
            "text/plain": [
              "0"
            ]
          },
          "metadata": {},
          "execution_count": 269
        }
      ]
    },
    {
      "cell_type": "markdown",
      "source": [
        "fill null values in runtime and rating columns with mean"
      ],
      "metadata": {
        "id": "ctk-jOjjEFLf"
      }
    },
    {
      "cell_type": "code",
      "source": [
        "\n",
        "x=df2['runtime'].mean()\n",
        "df2['runtime'].fillna(x,inplace=True)"
      ],
      "metadata": {
        "id": "eHr5U5ZOc9WK"
      },
      "execution_count": null,
      "outputs": []
    },
    {
      "cell_type": "code",
      "source": [
        "x=df2['rating'].mean()\n",
        "df2['rating'].fillna(x,inplace=True)"
      ],
      "metadata": {
        "id": "h2cv409cdtkv"
      },
      "execution_count": null,
      "outputs": []
    },
    {
      "cell_type": "code",
      "source": [
        "#check\n",
        "df2.head()"
      ],
      "metadata": {
        "colab": {
          "base_uri": "https://localhost:8080/",
          "height": 389
        },
        "id": "p93eGE0gi1dp",
        "outputId": "c16e07b4-6578-47da-94e0-0574f256afe4"
      },
      "execution_count": null,
      "outputs": [
        {
          "output_type": "execute_result",
          "data": {
            "text/plain": [
              "                                movies         year  \\\n",
              "0                        Blood Red Sky       (2021)   \n",
              "1  Masters of the Universe: Revelation     (2021– )   \n",
              "2                     The Walking Dead  (2010–2022)   \n",
              "3                       Rick and Morty     (2013– )   \n",
              "4                      Army of Thieves       (2021)   \n",
              "\n",
              "                                       genre    rating  \\\n",
              "0       Action, Horror, Thriller              6.100000   \n",
              "1   Animation, Action, Adventure              5.000000   \n",
              "2        Drama, Horror, Thriller              8.200000   \n",
              "3   Animation, Adventure, Comedy              9.200000   \n",
              "4          Action, Crime, Horror              6.919699   \n",
              "\n",
              "                                            one_line  \\\n",
              "0   A woman with a mysterious illness is forced i...   \n",
              "1   The war for Eternia begins again in what may ...   \n",
              "2   Sheriff Deputy Rick Grimes wakes up from a co...   \n",
              "3   An animated series that follows the exploits ...   \n",
              "4   A prequel, set before the events of Army of t...   \n",
              "\n",
              "                                               stars    votes     runtime  \\\n",
              "0       Director: Peter Thorwarth |      Stars: P...   21,062  121.000000   \n",
              "1                    Stars: Chris Wood,  Sarah Mi...   17,870   25.000000   \n",
              "2                    Stars: Andrew Lincoln,  Norm...  885,805   44.000000   \n",
              "3                    Stars: Justin Roiland,  Chri...  414,849   23.000000   \n",
              "4       Director: Matthias Schweighöfer |      St...      NaN   68.874144   \n",
              "\n",
              "  gross  \n",
              "0   NaN  \n",
              "1   NaN  \n",
              "2   NaN  \n",
              "3   NaN  \n",
              "4   NaN  "
            ],
            "text/html": [
              "\n",
              "  <div id=\"df-1804bc37-1133-4f04-8e88-692e0d571e5d\">\n",
              "    <div class=\"colab-df-container\">\n",
              "      <div>\n",
              "<style scoped>\n",
              "    .dataframe tbody tr th:only-of-type {\n",
              "        vertical-align: middle;\n",
              "    }\n",
              "\n",
              "    .dataframe tbody tr th {\n",
              "        vertical-align: top;\n",
              "    }\n",
              "\n",
              "    .dataframe thead th {\n",
              "        text-align: right;\n",
              "    }\n",
              "</style>\n",
              "<table border=\"1\" class=\"dataframe\">\n",
              "  <thead>\n",
              "    <tr style=\"text-align: right;\">\n",
              "      <th></th>\n",
              "      <th>movies</th>\n",
              "      <th>year</th>\n",
              "      <th>genre</th>\n",
              "      <th>rating</th>\n",
              "      <th>one_line</th>\n",
              "      <th>stars</th>\n",
              "      <th>votes</th>\n",
              "      <th>runtime</th>\n",
              "      <th>gross</th>\n",
              "    </tr>\n",
              "  </thead>\n",
              "  <tbody>\n",
              "    <tr>\n",
              "      <th>0</th>\n",
              "      <td>Blood Red Sky</td>\n",
              "      <td>(2021)</td>\n",
              "      <td>Action, Horror, Thriller</td>\n",
              "      <td>6.100000</td>\n",
              "      <td>A woman with a mysterious illness is forced i...</td>\n",
              "      <td>Director: Peter Thorwarth |      Stars: P...</td>\n",
              "      <td>21,062</td>\n",
              "      <td>121.000000</td>\n",
              "      <td>NaN</td>\n",
              "    </tr>\n",
              "    <tr>\n",
              "      <th>1</th>\n",
              "      <td>Masters of the Universe: Revelation</td>\n",
              "      <td>(2021– )</td>\n",
              "      <td>Animation, Action, Adventure</td>\n",
              "      <td>5.000000</td>\n",
              "      <td>The war for Eternia begins again in what may ...</td>\n",
              "      <td>Stars: Chris Wood,  Sarah Mi...</td>\n",
              "      <td>17,870</td>\n",
              "      <td>25.000000</td>\n",
              "      <td>NaN</td>\n",
              "    </tr>\n",
              "    <tr>\n",
              "      <th>2</th>\n",
              "      <td>The Walking Dead</td>\n",
              "      <td>(2010–2022)</td>\n",
              "      <td>Drama, Horror, Thriller</td>\n",
              "      <td>8.200000</td>\n",
              "      <td>Sheriff Deputy Rick Grimes wakes up from a co...</td>\n",
              "      <td>Stars: Andrew Lincoln,  Norm...</td>\n",
              "      <td>885,805</td>\n",
              "      <td>44.000000</td>\n",
              "      <td>NaN</td>\n",
              "    </tr>\n",
              "    <tr>\n",
              "      <th>3</th>\n",
              "      <td>Rick and Morty</td>\n",
              "      <td>(2013– )</td>\n",
              "      <td>Animation, Adventure, Comedy</td>\n",
              "      <td>9.200000</td>\n",
              "      <td>An animated series that follows the exploits ...</td>\n",
              "      <td>Stars: Justin Roiland,  Chri...</td>\n",
              "      <td>414,849</td>\n",
              "      <td>23.000000</td>\n",
              "      <td>NaN</td>\n",
              "    </tr>\n",
              "    <tr>\n",
              "      <th>4</th>\n",
              "      <td>Army of Thieves</td>\n",
              "      <td>(2021)</td>\n",
              "      <td>Action, Crime, Horror</td>\n",
              "      <td>6.919699</td>\n",
              "      <td>A prequel, set before the events of Army of t...</td>\n",
              "      <td>Director: Matthias Schweighöfer |      St...</td>\n",
              "      <td>NaN</td>\n",
              "      <td>68.874144</td>\n",
              "      <td>NaN</td>\n",
              "    </tr>\n",
              "  </tbody>\n",
              "</table>\n",
              "</div>\n",
              "      <button class=\"colab-df-convert\" onclick=\"convertToInteractive('df-1804bc37-1133-4f04-8e88-692e0d571e5d')\"\n",
              "              title=\"Convert this dataframe to an interactive table.\"\n",
              "              style=\"display:none;\">\n",
              "        \n",
              "  <svg xmlns=\"http://www.w3.org/2000/svg\" height=\"24px\"viewBox=\"0 0 24 24\"\n",
              "       width=\"24px\">\n",
              "    <path d=\"M0 0h24v24H0V0z\" fill=\"none\"/>\n",
              "    <path d=\"M18.56 5.44l.94 2.06.94-2.06 2.06-.94-2.06-.94-.94-2.06-.94 2.06-2.06.94zm-11 1L8.5 8.5l.94-2.06 2.06-.94-2.06-.94L8.5 2.5l-.94 2.06-2.06.94zm10 10l.94 2.06.94-2.06 2.06-.94-2.06-.94-.94-2.06-.94 2.06-2.06.94z\"/><path d=\"M17.41 7.96l-1.37-1.37c-.4-.4-.92-.59-1.43-.59-.52 0-1.04.2-1.43.59L10.3 9.45l-7.72 7.72c-.78.78-.78 2.05 0 2.83L4 21.41c.39.39.9.59 1.41.59.51 0 1.02-.2 1.41-.59l7.78-7.78 2.81-2.81c.8-.78.8-2.07 0-2.86zM5.41 20L4 18.59l7.72-7.72 1.47 1.35L5.41 20z\"/>\n",
              "  </svg>\n",
              "      </button>\n",
              "      \n",
              "  <style>\n",
              "    .colab-df-container {\n",
              "      display:flex;\n",
              "      flex-wrap:wrap;\n",
              "      gap: 12px;\n",
              "    }\n",
              "\n",
              "    .colab-df-convert {\n",
              "      background-color: #E8F0FE;\n",
              "      border: none;\n",
              "      border-radius: 50%;\n",
              "      cursor: pointer;\n",
              "      display: none;\n",
              "      fill: #1967D2;\n",
              "      height: 32px;\n",
              "      padding: 0 0 0 0;\n",
              "      width: 32px;\n",
              "    }\n",
              "\n",
              "    .colab-df-convert:hover {\n",
              "      background-color: #E2EBFA;\n",
              "      box-shadow: 0px 1px 2px rgba(60, 64, 67, 0.3), 0px 1px 3px 1px rgba(60, 64, 67, 0.15);\n",
              "      fill: #174EA6;\n",
              "    }\n",
              "\n",
              "    [theme=dark] .colab-df-convert {\n",
              "      background-color: #3B4455;\n",
              "      fill: #D2E3FC;\n",
              "    }\n",
              "\n",
              "    [theme=dark] .colab-df-convert:hover {\n",
              "      background-color: #434B5C;\n",
              "      box-shadow: 0px 1px 3px 1px rgba(0, 0, 0, 0.15);\n",
              "      filter: drop-shadow(0px 1px 2px rgba(0, 0, 0, 0.3));\n",
              "      fill: #FFFFFF;\n",
              "    }\n",
              "  </style>\n",
              "\n",
              "      <script>\n",
              "        const buttonEl =\n",
              "          document.querySelector('#df-1804bc37-1133-4f04-8e88-692e0d571e5d button.colab-df-convert');\n",
              "        buttonEl.style.display =\n",
              "          google.colab.kernel.accessAllowed ? 'block' : 'none';\n",
              "\n",
              "        async function convertToInteractive(key) {\n",
              "          const element = document.querySelector('#df-1804bc37-1133-4f04-8e88-692e0d571e5d');\n",
              "          const dataTable =\n",
              "            await google.colab.kernel.invokeFunction('convertToInteractive',\n",
              "                                                     [key], {});\n",
              "          if (!dataTable) return;\n",
              "\n",
              "          const docLinkHtml = 'Like what you see? Visit the ' +\n",
              "            '<a target=\"_blank\" href=https://colab.research.google.com/notebooks/data_table.ipynb>data table notebook</a>'\n",
              "            + ' to learn more about interactive tables.';\n",
              "          element.innerHTML = '';\n",
              "          dataTable['output_type'] = 'display_data';\n",
              "          await google.colab.output.renderOutput(dataTable, element);\n",
              "          const docLink = document.createElement('div');\n",
              "          docLink.innerHTML = docLinkHtml;\n",
              "          element.appendChild(docLink);\n",
              "        }\n",
              "      </script>\n",
              "    </div>\n",
              "  </div>\n",
              "  "
            ]
          },
          "metadata": {},
          "execution_count": 272
        }
      ]
    },
    {
      "cell_type": "code",
      "source": [
        "df2.shape"
      ],
      "metadata": {
        "colab": {
          "base_uri": "https://localhost:8080/"
        },
        "id": "1uLqdz_arYVz",
        "outputId": "79cf4707-019b-4567-d9a1-bed60b8488fa"
      },
      "execution_count": null,
      "outputs": [
        {
          "output_type": "execute_result",
          "data": {
            "text/plain": [
              "(9568, 9)"
            ]
          },
          "metadata": {},
          "execution_count": 273
        }
      ]
    },
    {
      "cell_type": "code",
      "source": [
        "#use replace np.nan with '0' to fill null value \n",
        "col=['votes','gross']\n",
        "df2[col]=df2[col].replace(np.nan,0)\n"
      ],
      "metadata": {
        "id": "bgmXZHeSuajU"
      },
      "execution_count": null,
      "outputs": []
    },
    {
      "cell_type": "code",
      "source": [
        "df2['votes'].isnull().sum()"
      ],
      "metadata": {
        "colab": {
          "base_uri": "https://localhost:8080/"
        },
        "id": "4BEUvc7ftinB",
        "outputId": "1fcb4493-0941-4edf-f247-7d8c7972b1c8"
      },
      "execution_count": null,
      "outputs": [
        {
          "output_type": "execute_result",
          "data": {
            "text/plain": [
              "0"
            ]
          },
          "metadata": {},
          "execution_count": 275
        }
      ]
    },
    {
      "cell_type": "code",
      "source": [
        "df2['gross'].isnull().sum()"
      ],
      "metadata": {
        "colab": {
          "base_uri": "https://localhost:8080/"
        },
        "id": "tkDTcsG-yntb",
        "outputId": "ac0f02fd-9db5-4ffc-ff23-5e6434206dd9"
      },
      "execution_count": null,
      "outputs": [
        {
          "output_type": "execute_result",
          "data": {
            "text/plain": [
              "0"
            ]
          },
          "metadata": {},
          "execution_count": 276
        }
      ]
    },
    {
      "cell_type": "code",
      "source": [
        "df2.shape"
      ],
      "metadata": {
        "colab": {
          "base_uri": "https://localhost:8080/"
        },
        "id": "LoGD__wA61ZJ",
        "outputId": "d779278c-4d87-45a0-95bd-e312b2d6e487"
      },
      "execution_count": null,
      "outputs": [
        {
          "output_type": "execute_result",
          "data": {
            "text/plain": [
              "(9568, 9)"
            ]
          },
          "metadata": {},
          "execution_count": 277
        }
      ]
    },
    {
      "cell_type": "code",
      "source": [
        "df2.votes.value_counts()"
      ],
      "metadata": {
        "colab": {
          "base_uri": "https://localhost:8080/"
        },
        "id": "0D7h2tX-7R-T",
        "outputId": "bdcf3992-faf9-48d2-d5d0-eab8684c99d3"
      },
      "execution_count": null,
      "outputs": [
        {
          "output_type": "execute_result",
          "data": {
            "text/plain": [
              "0         1400\n",
              "7           35\n",
              "30          31\n",
              "32          28\n",
              "26          28\n",
              "          ... \n",
              "1,368        1\n",
              "2,437        1\n",
              "8,271        1\n",
              "10,883       1\n",
              "911          1\n",
              "Name: votes, Length: 4130, dtype: int64"
            ]
          },
          "metadata": {},
          "execution_count": 278
        }
      ]
    },
    {
      "cell_type": "markdown",
      "source": [
        "convert the votes column to string and then remove all the comma within the digit to enable data type conversion"
      ],
      "metadata": {
        "id": "D76BtJxtFWWW"
      }
    },
    {
      "cell_type": "code",
      "source": [
        "#\n",
        "#df2.votes = df2.votes.apply(lambda x : x.replace(',',''))\n",
        "df2['votes'] =df2['votes'].astype(str).str.replace(\",\", \"\")\n",
        "#check\n",
        "df2.votes\n"
      ],
      "metadata": {
        "colab": {
          "base_uri": "https://localhost:8080/"
        },
        "id": "-UTwjFt-rehq",
        "outputId": "6de679a1-58ec-415e-a4a0-ed88135b0057"
      },
      "execution_count": null,
      "outputs": [
        {
          "output_type": "execute_result",
          "data": {
            "text/plain": [
              "0        21062\n",
              "1        17870\n",
              "2       885805\n",
              "3       414849\n",
              "4            0\n",
              "         ...  \n",
              "9993         0\n",
              "9995         0\n",
              "9996         0\n",
              "9997         0\n",
              "9998         0\n",
              "Name: votes, Length: 9568, dtype: object"
            ]
          },
          "metadata": {},
          "execution_count": 279
        }
      ]
    },
    {
      "cell_type": "code",
      "source": [
        "#convert the string(object datatype) to float\n",
        "df2['votes']=df2['votes'].astype(float)\n",
        "#check\n",
        "print(df2['votes'].dtype)"
      ],
      "metadata": {
        "colab": {
          "base_uri": "https://localhost:8080/"
        },
        "id": "lkv70bkIy8Cy",
        "outputId": "1a8a6479-7ff3-48e4-8b98-d0104cf5edc6"
      },
      "execution_count": null,
      "outputs": [
        {
          "output_type": "stream",
          "name": "stdout",
          "text": [
            "float64\n"
          ]
        }
      ]
    },
    {
      "cell_type": "code",
      "source": [
        "#convert the gross column to string\n",
        "df2['gross'] =df2['gross'].astype(str)\n"
      ],
      "metadata": {
        "id": "0B0aX66Op5UY"
      },
      "execution_count": null,
      "outputs": []
    },
    {
      "cell_type": "code",
      "source": [
        "df2['gross'].value_counts()"
      ],
      "metadata": {
        "colab": {
          "base_uri": "https://localhost:8080/"
        },
        "id": "zod-sokZneg1",
        "outputId": "c444318c-8d4a-4957-c9f4-5cde1f73cf91"
      },
      "execution_count": null,
      "outputs": [
        {
          "output_type": "execute_result",
          "data": {
            "text/plain": [
              "0          9108\n",
              "$0.01M       22\n",
              "$0.02M       16\n",
              "$0.00M       15\n",
              "$0.03M       10\n",
              "           ... \n",
              "$44.82M       1\n",
              "$21.36M       1\n",
              "$54.76M       1\n",
              "$77.22M       1\n",
              "$10.40M       1\n",
              "Name: gross, Length: 333, dtype: int64"
            ]
          },
          "metadata": {},
          "execution_count": 282
        }
      ]
    },
    {
      "cell_type": "code",
      "source": [
        "#use lambda to replace $ and M sign with \"\"\n",
        "df2.gross = df2.gross.apply(lambda x : x.replace('$',''))\n",
        "df2.gross = df2.gross.apply(lambda x : x.replace('M',''))\n",
        "\n",
        "\n",
        "df2['gross'].value_counts()\n"
      ],
      "metadata": {
        "colab": {
          "base_uri": "https://localhost:8080/"
        },
        "id": "sJiWvsNFjwxw",
        "outputId": "d082de2b-1564-467a-9a34-f89bb16022b6"
      },
      "execution_count": null,
      "outputs": [
        {
          "output_type": "execute_result",
          "data": {
            "text/plain": [
              "0        9108\n",
              "0.01       22\n",
              "0.02       16\n",
              "0.00       15\n",
              "0.03       10\n",
              "         ... \n",
              "44.82       1\n",
              "21.36       1\n",
              "54.76       1\n",
              "77.22       1\n",
              "10.40       1\n",
              "Name: gross, Length: 333, dtype: int64"
            ]
          },
          "metadata": {},
          "execution_count": 283
        }
      ]
    },
    {
      "cell_type": "code",
      "source": [
        "#convert strings to float\n",
        "df2.gross=df2['gross'].astype(float)\n",
        "#check\n",
        "print(df2.gross.dtype)"
      ],
      "metadata": {
        "id": "3H08LdaVuu8t",
        "colab": {
          "base_uri": "https://localhost:8080/"
        },
        "outputId": "80a84c0e-6925-4e69-d4c1-5476ac2c1b5d"
      },
      "execution_count": null,
      "outputs": [
        {
          "output_type": "stream",
          "name": "stdout",
          "text": [
            "float64\n"
          ]
        }
      ]
    },
    {
      "cell_type": "markdown",
      "source": [
        "replace all zero at vote columns and gross columns with there respective mean"
      ],
      "metadata": {
        "id": "3HcLzKwcH2o_"
      }
    },
    {
      "cell_type": "code",
      "source": [
        "d=df2['votes'].mean()\n",
        "df2['votes'].replace(0,d,inplace=True)"
      ],
      "metadata": {
        "id": "SSijOxQbJ6NI"
      },
      "execution_count": null,
      "outputs": []
    },
    {
      "cell_type": "code",
      "source": [
        "df2.info()\n",
        "print(d)"
      ],
      "metadata": {
        "colab": {
          "base_uri": "https://localhost:8080/"
        },
        "id": "H5vSzzlj5tMN",
        "outputId": "75fcb72d-6ac4-4531-8c8b-080da01d343c"
      },
      "execution_count": null,
      "outputs": [
        {
          "output_type": "stream",
          "name": "stdout",
          "text": [
            "<class 'pandas.core.frame.DataFrame'>\n",
            "Int64Index: 9568 entries, 0 to 9998\n",
            "Data columns (total 9 columns):\n",
            " #   Column    Non-Null Count  Dtype  \n",
            "---  ------    --------------  -----  \n",
            " 0   movies    9568 non-null   object \n",
            " 1   year      9026 non-null   object \n",
            " 2   genre     9490 non-null   object \n",
            " 3   rating    9568 non-null   float64\n",
            " 4   one_line  9568 non-null   object \n",
            " 5   stars     9568 non-null   object \n",
            " 6   votes     9568 non-null   float64\n",
            " 7   runtime   9568 non-null   float64\n",
            " 8   gross     9568 non-null   float64\n",
            "dtypes: float64(4), object(5)\n",
            "memory usage: 747.5+ KB\n",
            "12928.467495819397\n"
          ]
        }
      ]
    },
    {
      "cell_type": "code",
      "source": [
        "#check\n",
        "df2.head()"
      ],
      "metadata": {
        "colab": {
          "base_uri": "https://localhost:8080/",
          "height": 406
        },
        "id": "iQOrvXuQKMsC",
        "outputId": "16d771ff-b197-4537-e2a1-3ec19cfbaee9"
      },
      "execution_count": null,
      "outputs": [
        {
          "output_type": "execute_result",
          "data": {
            "text/plain": [
              "                                movies         year  \\\n",
              "0                        Blood Red Sky       (2021)   \n",
              "1  Masters of the Universe: Revelation     (2021– )   \n",
              "2                     The Walking Dead  (2010–2022)   \n",
              "3                       Rick and Morty     (2013– )   \n",
              "4                      Army of Thieves       (2021)   \n",
              "\n",
              "                                       genre    rating  \\\n",
              "0       Action, Horror, Thriller              6.100000   \n",
              "1   Animation, Action, Adventure              5.000000   \n",
              "2        Drama, Horror, Thriller              8.200000   \n",
              "3   Animation, Adventure, Comedy              9.200000   \n",
              "4          Action, Crime, Horror              6.919699   \n",
              "\n",
              "                                            one_line  \\\n",
              "0   A woman with a mysterious illness is forced i...   \n",
              "1   The war for Eternia begins again in what may ...   \n",
              "2   Sheriff Deputy Rick Grimes wakes up from a co...   \n",
              "3   An animated series that follows the exploits ...   \n",
              "4   A prequel, set before the events of Army of t...   \n",
              "\n",
              "                                               stars          votes  \\\n",
              "0       Director: Peter Thorwarth |      Stars: P...   21062.000000   \n",
              "1                    Stars: Chris Wood,  Sarah Mi...   17870.000000   \n",
              "2                    Stars: Andrew Lincoln,  Norm...  885805.000000   \n",
              "3                    Stars: Justin Roiland,  Chri...  414849.000000   \n",
              "4       Director: Matthias Schweighöfer |      St...   12928.467496   \n",
              "\n",
              "      runtime  gross  \n",
              "0  121.000000    0.0  \n",
              "1   25.000000    0.0  \n",
              "2   44.000000    0.0  \n",
              "3   23.000000    0.0  \n",
              "4   68.874144    0.0  "
            ],
            "text/html": [
              "\n",
              "  <div id=\"df-6629987d-eed1-4938-a819-8970eeec5fbe\">\n",
              "    <div class=\"colab-df-container\">\n",
              "      <div>\n",
              "<style scoped>\n",
              "    .dataframe tbody tr th:only-of-type {\n",
              "        vertical-align: middle;\n",
              "    }\n",
              "\n",
              "    .dataframe tbody tr th {\n",
              "        vertical-align: top;\n",
              "    }\n",
              "\n",
              "    .dataframe thead th {\n",
              "        text-align: right;\n",
              "    }\n",
              "</style>\n",
              "<table border=\"1\" class=\"dataframe\">\n",
              "  <thead>\n",
              "    <tr style=\"text-align: right;\">\n",
              "      <th></th>\n",
              "      <th>movies</th>\n",
              "      <th>year</th>\n",
              "      <th>genre</th>\n",
              "      <th>rating</th>\n",
              "      <th>one_line</th>\n",
              "      <th>stars</th>\n",
              "      <th>votes</th>\n",
              "      <th>runtime</th>\n",
              "      <th>gross</th>\n",
              "    </tr>\n",
              "  </thead>\n",
              "  <tbody>\n",
              "    <tr>\n",
              "      <th>0</th>\n",
              "      <td>Blood Red Sky</td>\n",
              "      <td>(2021)</td>\n",
              "      <td>Action, Horror, Thriller</td>\n",
              "      <td>6.100000</td>\n",
              "      <td>A woman with a mysterious illness is forced i...</td>\n",
              "      <td>Director: Peter Thorwarth |      Stars: P...</td>\n",
              "      <td>21062.000000</td>\n",
              "      <td>121.000000</td>\n",
              "      <td>0.0</td>\n",
              "    </tr>\n",
              "    <tr>\n",
              "      <th>1</th>\n",
              "      <td>Masters of the Universe: Revelation</td>\n",
              "      <td>(2021– )</td>\n",
              "      <td>Animation, Action, Adventure</td>\n",
              "      <td>5.000000</td>\n",
              "      <td>The war for Eternia begins again in what may ...</td>\n",
              "      <td>Stars: Chris Wood,  Sarah Mi...</td>\n",
              "      <td>17870.000000</td>\n",
              "      <td>25.000000</td>\n",
              "      <td>0.0</td>\n",
              "    </tr>\n",
              "    <tr>\n",
              "      <th>2</th>\n",
              "      <td>The Walking Dead</td>\n",
              "      <td>(2010–2022)</td>\n",
              "      <td>Drama, Horror, Thriller</td>\n",
              "      <td>8.200000</td>\n",
              "      <td>Sheriff Deputy Rick Grimes wakes up from a co...</td>\n",
              "      <td>Stars: Andrew Lincoln,  Norm...</td>\n",
              "      <td>885805.000000</td>\n",
              "      <td>44.000000</td>\n",
              "      <td>0.0</td>\n",
              "    </tr>\n",
              "    <tr>\n",
              "      <th>3</th>\n",
              "      <td>Rick and Morty</td>\n",
              "      <td>(2013– )</td>\n",
              "      <td>Animation, Adventure, Comedy</td>\n",
              "      <td>9.200000</td>\n",
              "      <td>An animated series that follows the exploits ...</td>\n",
              "      <td>Stars: Justin Roiland,  Chri...</td>\n",
              "      <td>414849.000000</td>\n",
              "      <td>23.000000</td>\n",
              "      <td>0.0</td>\n",
              "    </tr>\n",
              "    <tr>\n",
              "      <th>4</th>\n",
              "      <td>Army of Thieves</td>\n",
              "      <td>(2021)</td>\n",
              "      <td>Action, Crime, Horror</td>\n",
              "      <td>6.919699</td>\n",
              "      <td>A prequel, set before the events of Army of t...</td>\n",
              "      <td>Director: Matthias Schweighöfer |      St...</td>\n",
              "      <td>12928.467496</td>\n",
              "      <td>68.874144</td>\n",
              "      <td>0.0</td>\n",
              "    </tr>\n",
              "  </tbody>\n",
              "</table>\n",
              "</div>\n",
              "      <button class=\"colab-df-convert\" onclick=\"convertToInteractive('df-6629987d-eed1-4938-a819-8970eeec5fbe')\"\n",
              "              title=\"Convert this dataframe to an interactive table.\"\n",
              "              style=\"display:none;\">\n",
              "        \n",
              "  <svg xmlns=\"http://www.w3.org/2000/svg\" height=\"24px\"viewBox=\"0 0 24 24\"\n",
              "       width=\"24px\">\n",
              "    <path d=\"M0 0h24v24H0V0z\" fill=\"none\"/>\n",
              "    <path d=\"M18.56 5.44l.94 2.06.94-2.06 2.06-.94-2.06-.94-.94-2.06-.94 2.06-2.06.94zm-11 1L8.5 8.5l.94-2.06 2.06-.94-2.06-.94L8.5 2.5l-.94 2.06-2.06.94zm10 10l.94 2.06.94-2.06 2.06-.94-2.06-.94-.94-2.06-.94 2.06-2.06.94z\"/><path d=\"M17.41 7.96l-1.37-1.37c-.4-.4-.92-.59-1.43-.59-.52 0-1.04.2-1.43.59L10.3 9.45l-7.72 7.72c-.78.78-.78 2.05 0 2.83L4 21.41c.39.39.9.59 1.41.59.51 0 1.02-.2 1.41-.59l7.78-7.78 2.81-2.81c.8-.78.8-2.07 0-2.86zM5.41 20L4 18.59l7.72-7.72 1.47 1.35L5.41 20z\"/>\n",
              "  </svg>\n",
              "      </button>\n",
              "      \n",
              "  <style>\n",
              "    .colab-df-container {\n",
              "      display:flex;\n",
              "      flex-wrap:wrap;\n",
              "      gap: 12px;\n",
              "    }\n",
              "\n",
              "    .colab-df-convert {\n",
              "      background-color: #E8F0FE;\n",
              "      border: none;\n",
              "      border-radius: 50%;\n",
              "      cursor: pointer;\n",
              "      display: none;\n",
              "      fill: #1967D2;\n",
              "      height: 32px;\n",
              "      padding: 0 0 0 0;\n",
              "      width: 32px;\n",
              "    }\n",
              "\n",
              "    .colab-df-convert:hover {\n",
              "      background-color: #E2EBFA;\n",
              "      box-shadow: 0px 1px 2px rgba(60, 64, 67, 0.3), 0px 1px 3px 1px rgba(60, 64, 67, 0.15);\n",
              "      fill: #174EA6;\n",
              "    }\n",
              "\n",
              "    [theme=dark] .colab-df-convert {\n",
              "      background-color: #3B4455;\n",
              "      fill: #D2E3FC;\n",
              "    }\n",
              "\n",
              "    [theme=dark] .colab-df-convert:hover {\n",
              "      background-color: #434B5C;\n",
              "      box-shadow: 0px 1px 3px 1px rgba(0, 0, 0, 0.15);\n",
              "      filter: drop-shadow(0px 1px 2px rgba(0, 0, 0, 0.3));\n",
              "      fill: #FFFFFF;\n",
              "    }\n",
              "  </style>\n",
              "\n",
              "      <script>\n",
              "        const buttonEl =\n",
              "          document.querySelector('#df-6629987d-eed1-4938-a819-8970eeec5fbe button.colab-df-convert');\n",
              "        buttonEl.style.display =\n",
              "          google.colab.kernel.accessAllowed ? 'block' : 'none';\n",
              "\n",
              "        async function convertToInteractive(key) {\n",
              "          const element = document.querySelector('#df-6629987d-eed1-4938-a819-8970eeec5fbe');\n",
              "          const dataTable =\n",
              "            await google.colab.kernel.invokeFunction('convertToInteractive',\n",
              "                                                     [key], {});\n",
              "          if (!dataTable) return;\n",
              "\n",
              "          const docLinkHtml = 'Like what you see? Visit the ' +\n",
              "            '<a target=\"_blank\" href=https://colab.research.google.com/notebooks/data_table.ipynb>data table notebook</a>'\n",
              "            + ' to learn more about interactive tables.';\n",
              "          element.innerHTML = '';\n",
              "          dataTable['output_type'] = 'display_data';\n",
              "          await google.colab.output.renderOutput(dataTable, element);\n",
              "          const docLink = document.createElement('div');\n",
              "          docLink.innerHTML = docLinkHtml;\n",
              "          element.appendChild(docLink);\n",
              "        }\n",
              "      </script>\n",
              "    </div>\n",
              "  </div>\n",
              "  "
            ]
          },
          "metadata": {},
          "execution_count": 287
        }
      ]
    },
    {
      "cell_type": "code",
      "source": [
        "y=df2['gross'].mean()\n",
        "print(y)"
      ],
      "metadata": {
        "colab": {
          "base_uri": "https://localhost:8080/"
        },
        "id": "qLAZZw3aP6eI",
        "outputId": "a8e5d622-cf43-4a7c-f550-fbfd6cf1063a"
      },
      "execution_count": null,
      "outputs": [
        {
          "output_type": "stream",
          "name": "stdout",
          "text": [
            "2.1010514214046823\n"
          ]
        }
      ]
    },
    {
      "cell_type": "code",
      "source": [
        "df2['gross'].replace(0,y, inplace=True)"
      ],
      "metadata": {
        "id": "uH4hQ6W3JpvC"
      },
      "execution_count": null,
      "outputs": []
    },
    {
      "cell_type": "code",
      "source": [
        "df2.head()"
      ],
      "metadata": {
        "colab": {
          "base_uri": "https://localhost:8080/",
          "height": 424
        },
        "id": "qHCk8VtgQWma",
        "outputId": "2436f0ac-37e9-48cd-87b5-5bb56aee0d41"
      },
      "execution_count": null,
      "outputs": [
        {
          "output_type": "execute_result",
          "data": {
            "text/plain": [
              "                                movies         year  \\\n",
              "0                        Blood Red Sky       (2021)   \n",
              "1  Masters of the Universe: Revelation     (2021– )   \n",
              "2                     The Walking Dead  (2010–2022)   \n",
              "3                       Rick and Morty     (2013– )   \n",
              "4                      Army of Thieves       (2021)   \n",
              "\n",
              "                                       genre    rating  \\\n",
              "0       Action, Horror, Thriller              6.100000   \n",
              "1   Animation, Action, Adventure              5.000000   \n",
              "2        Drama, Horror, Thriller              8.200000   \n",
              "3   Animation, Adventure, Comedy              9.200000   \n",
              "4          Action, Crime, Horror              6.919699   \n",
              "\n",
              "                                            one_line  \\\n",
              "0   A woman with a mysterious illness is forced i...   \n",
              "1   The war for Eternia begins again in what may ...   \n",
              "2   Sheriff Deputy Rick Grimes wakes up from a co...   \n",
              "3   An animated series that follows the exploits ...   \n",
              "4   A prequel, set before the events of Army of t...   \n",
              "\n",
              "                                               stars          votes  \\\n",
              "0       Director: Peter Thorwarth |      Stars: P...   21062.000000   \n",
              "1                    Stars: Chris Wood,  Sarah Mi...   17870.000000   \n",
              "2                    Stars: Andrew Lincoln,  Norm...  885805.000000   \n",
              "3                    Stars: Justin Roiland,  Chri...  414849.000000   \n",
              "4       Director: Matthias Schweighöfer |      St...   12928.467496   \n",
              "\n",
              "      runtime     gross  \n",
              "0  121.000000  2.101051  \n",
              "1   25.000000  2.101051  \n",
              "2   44.000000  2.101051  \n",
              "3   23.000000  2.101051  \n",
              "4   68.874144  2.101051  "
            ],
            "text/html": [
              "\n",
              "  <div id=\"df-d2c2588a-7e53-4a3a-bd44-cbd2e4ab67a7\">\n",
              "    <div class=\"colab-df-container\">\n",
              "      <div>\n",
              "<style scoped>\n",
              "    .dataframe tbody tr th:only-of-type {\n",
              "        vertical-align: middle;\n",
              "    }\n",
              "\n",
              "    .dataframe tbody tr th {\n",
              "        vertical-align: top;\n",
              "    }\n",
              "\n",
              "    .dataframe thead th {\n",
              "        text-align: right;\n",
              "    }\n",
              "</style>\n",
              "<table border=\"1\" class=\"dataframe\">\n",
              "  <thead>\n",
              "    <tr style=\"text-align: right;\">\n",
              "      <th></th>\n",
              "      <th>movies</th>\n",
              "      <th>year</th>\n",
              "      <th>genre</th>\n",
              "      <th>rating</th>\n",
              "      <th>one_line</th>\n",
              "      <th>stars</th>\n",
              "      <th>votes</th>\n",
              "      <th>runtime</th>\n",
              "      <th>gross</th>\n",
              "    </tr>\n",
              "  </thead>\n",
              "  <tbody>\n",
              "    <tr>\n",
              "      <th>0</th>\n",
              "      <td>Blood Red Sky</td>\n",
              "      <td>(2021)</td>\n",
              "      <td>Action, Horror, Thriller</td>\n",
              "      <td>6.100000</td>\n",
              "      <td>A woman with a mysterious illness is forced i...</td>\n",
              "      <td>Director: Peter Thorwarth |      Stars: P...</td>\n",
              "      <td>21062.000000</td>\n",
              "      <td>121.000000</td>\n",
              "      <td>2.101051</td>\n",
              "    </tr>\n",
              "    <tr>\n",
              "      <th>1</th>\n",
              "      <td>Masters of the Universe: Revelation</td>\n",
              "      <td>(2021– )</td>\n",
              "      <td>Animation, Action, Adventure</td>\n",
              "      <td>5.000000</td>\n",
              "      <td>The war for Eternia begins again in what may ...</td>\n",
              "      <td>Stars: Chris Wood,  Sarah Mi...</td>\n",
              "      <td>17870.000000</td>\n",
              "      <td>25.000000</td>\n",
              "      <td>2.101051</td>\n",
              "    </tr>\n",
              "    <tr>\n",
              "      <th>2</th>\n",
              "      <td>The Walking Dead</td>\n",
              "      <td>(2010–2022)</td>\n",
              "      <td>Drama, Horror, Thriller</td>\n",
              "      <td>8.200000</td>\n",
              "      <td>Sheriff Deputy Rick Grimes wakes up from a co...</td>\n",
              "      <td>Stars: Andrew Lincoln,  Norm...</td>\n",
              "      <td>885805.000000</td>\n",
              "      <td>44.000000</td>\n",
              "      <td>2.101051</td>\n",
              "    </tr>\n",
              "    <tr>\n",
              "      <th>3</th>\n",
              "      <td>Rick and Morty</td>\n",
              "      <td>(2013– )</td>\n",
              "      <td>Animation, Adventure, Comedy</td>\n",
              "      <td>9.200000</td>\n",
              "      <td>An animated series that follows the exploits ...</td>\n",
              "      <td>Stars: Justin Roiland,  Chri...</td>\n",
              "      <td>414849.000000</td>\n",
              "      <td>23.000000</td>\n",
              "      <td>2.101051</td>\n",
              "    </tr>\n",
              "    <tr>\n",
              "      <th>4</th>\n",
              "      <td>Army of Thieves</td>\n",
              "      <td>(2021)</td>\n",
              "      <td>Action, Crime, Horror</td>\n",
              "      <td>6.919699</td>\n",
              "      <td>A prequel, set before the events of Army of t...</td>\n",
              "      <td>Director: Matthias Schweighöfer |      St...</td>\n",
              "      <td>12928.467496</td>\n",
              "      <td>68.874144</td>\n",
              "      <td>2.101051</td>\n",
              "    </tr>\n",
              "  </tbody>\n",
              "</table>\n",
              "</div>\n",
              "      <button class=\"colab-df-convert\" onclick=\"convertToInteractive('df-d2c2588a-7e53-4a3a-bd44-cbd2e4ab67a7')\"\n",
              "              title=\"Convert this dataframe to an interactive table.\"\n",
              "              style=\"display:none;\">\n",
              "        \n",
              "  <svg xmlns=\"http://www.w3.org/2000/svg\" height=\"24px\"viewBox=\"0 0 24 24\"\n",
              "       width=\"24px\">\n",
              "    <path d=\"M0 0h24v24H0V0z\" fill=\"none\"/>\n",
              "    <path d=\"M18.56 5.44l.94 2.06.94-2.06 2.06-.94-2.06-.94-.94-2.06-.94 2.06-2.06.94zm-11 1L8.5 8.5l.94-2.06 2.06-.94-2.06-.94L8.5 2.5l-.94 2.06-2.06.94zm10 10l.94 2.06.94-2.06 2.06-.94-2.06-.94-.94-2.06-.94 2.06-2.06.94z\"/><path d=\"M17.41 7.96l-1.37-1.37c-.4-.4-.92-.59-1.43-.59-.52 0-1.04.2-1.43.59L10.3 9.45l-7.72 7.72c-.78.78-.78 2.05 0 2.83L4 21.41c.39.39.9.59 1.41.59.51 0 1.02-.2 1.41-.59l7.78-7.78 2.81-2.81c.8-.78.8-2.07 0-2.86zM5.41 20L4 18.59l7.72-7.72 1.47 1.35L5.41 20z\"/>\n",
              "  </svg>\n",
              "      </button>\n",
              "      \n",
              "  <style>\n",
              "    .colab-df-container {\n",
              "      display:flex;\n",
              "      flex-wrap:wrap;\n",
              "      gap: 12px;\n",
              "    }\n",
              "\n",
              "    .colab-df-convert {\n",
              "      background-color: #E8F0FE;\n",
              "      border: none;\n",
              "      border-radius: 50%;\n",
              "      cursor: pointer;\n",
              "      display: none;\n",
              "      fill: #1967D2;\n",
              "      height: 32px;\n",
              "      padding: 0 0 0 0;\n",
              "      width: 32px;\n",
              "    }\n",
              "\n",
              "    .colab-df-convert:hover {\n",
              "      background-color: #E2EBFA;\n",
              "      box-shadow: 0px 1px 2px rgba(60, 64, 67, 0.3), 0px 1px 3px 1px rgba(60, 64, 67, 0.15);\n",
              "      fill: #174EA6;\n",
              "    }\n",
              "\n",
              "    [theme=dark] .colab-df-convert {\n",
              "      background-color: #3B4455;\n",
              "      fill: #D2E3FC;\n",
              "    }\n",
              "\n",
              "    [theme=dark] .colab-df-convert:hover {\n",
              "      background-color: #434B5C;\n",
              "      box-shadow: 0px 1px 3px 1px rgba(0, 0, 0, 0.15);\n",
              "      filter: drop-shadow(0px 1px 2px rgba(0, 0, 0, 0.3));\n",
              "      fill: #FFFFFF;\n",
              "    }\n",
              "  </style>\n",
              "\n",
              "      <script>\n",
              "        const buttonEl =\n",
              "          document.querySelector('#df-d2c2588a-7e53-4a3a-bd44-cbd2e4ab67a7 button.colab-df-convert');\n",
              "        buttonEl.style.display =\n",
              "          google.colab.kernel.accessAllowed ? 'block' : 'none';\n",
              "\n",
              "        async function convertToInteractive(key) {\n",
              "          const element = document.querySelector('#df-d2c2588a-7e53-4a3a-bd44-cbd2e4ab67a7');\n",
              "          const dataTable =\n",
              "            await google.colab.kernel.invokeFunction('convertToInteractive',\n",
              "                                                     [key], {});\n",
              "          if (!dataTable) return;\n",
              "\n",
              "          const docLinkHtml = 'Like what you see? Visit the ' +\n",
              "            '<a target=\"_blank\" href=https://colab.research.google.com/notebooks/data_table.ipynb>data table notebook</a>'\n",
              "            + ' to learn more about interactive tables.';\n",
              "          element.innerHTML = '';\n",
              "          dataTable['output_type'] = 'display_data';\n",
              "          await google.colab.output.renderOutput(dataTable, element);\n",
              "          const docLink = document.createElement('div');\n",
              "          docLink.innerHTML = docLinkHtml;\n",
              "          element.appendChild(docLink);\n",
              "        }\n",
              "      </script>\n",
              "    </div>\n",
              "  </div>\n",
              "  "
            ]
          },
          "metadata": {},
          "execution_count": 290
        }
      ]
    },
    {
      "cell_type": "code",
      "source": [
        "#remove all special characters and letters from the year column\n",
        "df2.year = df['year'].str.replace(r'\\D', '')\n",
        "df2.year.value_counts()"
      ],
      "metadata": {
        "colab": {
          "base_uri": "https://localhost:8080/"
        },
        "id": "vztlZ2jjgZ-W",
        "outputId": "d2671461-740a-40f3-bfd5-d673f153e631"
      },
      "execution_count": null,
      "outputs": [
        {
          "output_type": "stream",
          "name": "stderr",
          "text": [
            "/usr/local/lib/python3.7/dist-packages/ipykernel_launcher.py:2: FutureWarning: The default value of regex will change from True to False in a future version.\n",
            "  \n"
          ]
        },
        {
          "output_type": "execute_result",
          "data": {
            "text/plain": [
              "2020        1622\n",
              "2019        1124\n",
              "2021         987\n",
              "2018         861\n",
              "2017         664\n",
              "            ... \n",
              "19951998       1\n",
              "19841996       1\n",
              "19751979       1\n",
              "20022019       1\n",
              "20042009       1\n",
              "Name: year, Length: 233, dtype: int64"
            ]
          },
          "metadata": {},
          "execution_count": 291
        }
      ]
    },
    {
      "cell_type": "code",
      "source": [
        "\n",
        "\n",
        "\n",
        "df2['year']=pd.to_datetime(df2['year'],errors='coerce',format='%Y')\n",
        "mean_year=df2['year'].mean()\n",
        "df2.year.fillna(mean_year,inplace=True)"
      ],
      "metadata": {
        "id": "tO8D7lMHQbQA"
      },
      "execution_count": null,
      "outputs": []
    },
    {
      "cell_type": "code",
      "source": [
        "df2.isnull().sum()"
      ],
      "metadata": {
        "colab": {
          "base_uri": "https://localhost:8080/"
        },
        "id": "40bCQXj2vEwd",
        "outputId": "641a9013-8b44-4f46-b75c-83a963614ff3"
      },
      "execution_count": null,
      "outputs": [
        {
          "output_type": "execute_result",
          "data": {
            "text/plain": [
              "movies       0\n",
              "year         0\n",
              "genre       78\n",
              "rating       0\n",
              "one_line     0\n",
              "stars        0\n",
              "votes        0\n",
              "runtime      0\n",
              "gross        0\n",
              "dtype: int64"
            ]
          },
          "metadata": {},
          "execution_count": 293
        }
      ]
    },
    {
      "cell_type": "code",
      "source": [
        "df2.dropna(inplace=True)"
      ],
      "metadata": {
        "id": "5pDPpTQL3qaZ"
      },
      "execution_count": null,
      "outputs": []
    },
    {
      "cell_type": "code",
      "source": [
        "df2.shape"
      ],
      "metadata": {
        "colab": {
          "base_uri": "https://localhost:8080/"
        },
        "id": "D6mfI3_OMGl2",
        "outputId": "7d9466b1-bd07-401e-bac6-86776b913517"
      },
      "execution_count": null,
      "outputs": [
        {
          "output_type": "execute_result",
          "data": {
            "text/plain": [
              "(9490, 9)"
            ]
          },
          "metadata": {},
          "execution_count": 295
        }
      ]
    },
    {
      "cell_type": "code",
      "source": [
        "df2.to_csv(\"movies_data.csv\", index=False)"
      ],
      "metadata": {
        "id": "QYIb7Ba4MO8N"
      },
      "execution_count": null,
      "outputs": []
    }
  ]
}