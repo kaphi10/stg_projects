{
 "cells": [
  {
   "cell_type": "code",
   "execution_count": 1,
   "id": "ac70e63a",
   "metadata": {},
   "outputs": [
    {
     "name": "stdout",
     "output_type": "stream",
     "text": [
      "Enter the desire word= kafayat\n",
      "ka... ka... kafayat?\n"
     ]
    }
   ],
   "source": [
    "# print the first two letter twice separate each with ... and the word itself end with ?\n",
    "word=input('Enter the desire word= ')\n",
    "sep='... '\n",
    "#use string slicing and concatenation\n",
    "outputed=(word[0:2]+sep)*2+word+'?'\n",
    "print(outputed)"
   ]
  },
  {
   "cell_type": "code",
   "execution_count": 4,
   "id": "04ab4186",
   "metadata": {},
   "outputs": [
    {
     "name": "stdout",
     "output_type": "stream",
     "text": [
      "Enter your desired word = amina\n",
      "The distincts vowel avalaible in amina is  {'i', 'a'} \n"
     ]
    }
   ],
   "source": [
    "#print unique vowels in a word\n",
    "inputed_word=input('Enter your desired word = ')\n",
    "vowels='AaEeIiOoUu'\n",
    "unique_vowel=set(char for char in inputed_word if char in vowels)\n",
    "print(f'The distincts vowel avalaible in {inputed_word} is  {unique_vowel} ' )"
   ]
  },
  {
   "cell_type": "code",
   "execution_count": 3,
   "id": "fe1ca344",
   "metadata": {},
   "outputs": [
    {
     "name": "stdout",
     "output_type": "stream",
     "text": [
      "Enter name:   amina\n",
      "amina\n",
      "Enter name:   aisha\n",
      "aisha\n",
      "Enter name:   esther\n",
      "esther\n",
      "Enter name:   eNd\n",
      "loop terminated\n"
     ]
    }
   ],
   "source": [
    "continue_loop=True\n",
    "while continue_loop:\n",
    "  name=input('Enter name:   ')\n",
    "  if (name.lower() == \"end\"):\n",
    "    print('loop terminated')\n",
    "    continue_loop=False\n",
    "  else:\n",
    "    print(name)\n",
    "    continue_loop=True\n"
   ]
  },
  {
   "cell_type": "code",
   "execution_count": null,
   "id": "251590b8",
   "metadata": {},
   "outputs": [],
   "source": []
  }
 ],
 "metadata": {
  "kernelspec": {
   "display_name": "Python 3 (ipykernel)",
   "language": "python",
   "name": "python3"
  },
  "language_info": {
   "codemirror_mode": {
    "name": "ipython",
    "version": 3
   },
   "file_extension": ".py",
   "mimetype": "text/x-python",
   "name": "python",
   "nbconvert_exporter": "python",
   "pygments_lexer": "ipython3",
   "version": "3.9.12"
  }
 },
 "nbformat": 4,
 "nbformat_minor": 5
}
